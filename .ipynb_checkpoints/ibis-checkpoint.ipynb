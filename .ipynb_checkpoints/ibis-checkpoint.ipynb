{
 "cells": [
  {
   "cell_type": "code",
   "execution_count": 76,
   "id": "00341e17",
   "metadata": {},
   "outputs": [],
   "source": [
    "import pandas as pd\n",
    "import missingno as msno\n",
    "import seaborn as sns\n",
    "import matplotlib.pyplot as plt\n",
    "import numpy as np    \n",
    "import plotly           \n",
    "import plotly.express as px\n",
    "import plotly.io as pio\n",
    "import glob\n",
    "import statsmodels.api as sm  \n",
    "import statsmodels.formula.api as smf\n",
    "from statsmodels.graphics.mosaicplot import mosaic\n",
    "import statsmodels.stats.weightstats\n",
    "import statsmodels.stats.nonparametric\n",
    "import warnings\n",
    "import pingouin as pg\n",
    "warnings.filterwarnings(\"once\")"
   ]
  },
  {
   "cell_type": "code",
   "execution_count": 77,
   "id": "48588b4c",
   "metadata": {},
   "outputs": [],
   "source": [
    "df = pd.read_excel(\"ibis.xlsx\")"
   ]
  },
  {
   "cell_type": "code",
   "execution_count": 78,
   "id": "41509136",
   "metadata": {},
   "outputs": [
    {
     "data": {
      "text/html": [
       "<div>\n",
       "<style scoped>\n",
       "    .dataframe tbody tr th:only-of-type {\n",
       "        vertical-align: middle;\n",
       "    }\n",
       "\n",
       "    .dataframe tbody tr th {\n",
       "        vertical-align: top;\n",
       "    }\n",
       "\n",
       "    .dataframe thead th {\n",
       "        text-align: right;\n",
       "    }\n",
       "</style>\n",
       "<table border=\"1\" class=\"dataframe\">\n",
       "  <thead>\n",
       "    <tr style=\"text-align: right;\">\n",
       "      <th></th>\n",
       "      <th>Segment</th>\n",
       "      <th>pays</th>\n",
       "      <th>Service</th>\n",
       "      <th>marque</th>\n",
       "      <th>remise</th>\n",
       "      <th>Nbre vente</th>\n",
       "      <th>coût unit</th>\n",
       "      <th>charge totale</th>\n",
       "      <th>charge fixe</th>\n",
       "      <th>charge variable</th>\n",
       "      <th>...</th>\n",
       "      <th>prix de vente</th>\n",
       "      <th>marge unit</th>\n",
       "      <th>CA</th>\n",
       "      <th>remise unit</th>\n",
       "      <th>remise tot</th>\n",
       "      <th>vente</th>\n",
       "      <th>bénéfice</th>\n",
       "      <th>Date</th>\n",
       "      <th>nombre de mois</th>\n",
       "      <th>mois</th>\n",
       "    </tr>\n",
       "  </thead>\n",
       "  <tbody>\n",
       "    <tr>\n",
       "      <th>0</th>\n",
       "      <td>Administration</td>\n",
       "      <td>Canada</td>\n",
       "      <td>Restaurant</td>\n",
       "      <td>Tacos</td>\n",
       "      <td>None</td>\n",
       "      <td>1618.0</td>\n",
       "      <td>35</td>\n",
       "      <td>56630.0</td>\n",
       "      <td>33978.0</td>\n",
       "      <td>22652</td>\n",
       "      <td>...</td>\n",
       "      <td>40</td>\n",
       "      <td>5</td>\n",
       "      <td>64720</td>\n",
       "      <td>0</td>\n",
       "      <td>0.0</td>\n",
       "      <td>64720.0</td>\n",
       "      <td>8090.0</td>\n",
       "      <td>2014-01-01</td>\n",
       "      <td>1</td>\n",
       "      <td>January</td>\n",
       "    </tr>\n",
       "    <tr>\n",
       "      <th>1</th>\n",
       "      <td>Administration</td>\n",
       "      <td>Germany</td>\n",
       "      <td>Restaurant</td>\n",
       "      <td>Tacos</td>\n",
       "      <td>None</td>\n",
       "      <td>1321.0</td>\n",
       "      <td>35</td>\n",
       "      <td>46235.0</td>\n",
       "      <td>27741.0</td>\n",
       "      <td>18494</td>\n",
       "      <td>...</td>\n",
       "      <td>40</td>\n",
       "      <td>5</td>\n",
       "      <td>52840</td>\n",
       "      <td>0</td>\n",
       "      <td>0.0</td>\n",
       "      <td>52840.0</td>\n",
       "      <td>6605.0</td>\n",
       "      <td>2014-01-01</td>\n",
       "      <td>1</td>\n",
       "      <td>January</td>\n",
       "    </tr>\n",
       "    <tr>\n",
       "      <th>2</th>\n",
       "      <td>Administration</td>\n",
       "      <td>Mexico</td>\n",
       "      <td>Restaurant</td>\n",
       "      <td>Tapas</td>\n",
       "      <td>None</td>\n",
       "      <td>1493.0</td>\n",
       "      <td>45</td>\n",
       "      <td>67185.0</td>\n",
       "      <td>40311.0</td>\n",
       "      <td>26874</td>\n",
       "      <td>...</td>\n",
       "      <td>50</td>\n",
       "      <td>5</td>\n",
       "      <td>74650</td>\n",
       "      <td>0</td>\n",
       "      <td>0.0</td>\n",
       "      <td>74650.0</td>\n",
       "      <td>7465.0</td>\n",
       "      <td>2014-01-01</td>\n",
       "      <td>1</td>\n",
       "      <td>January</td>\n",
       "    </tr>\n",
       "    <tr>\n",
       "      <th>3</th>\n",
       "      <td>Administration</td>\n",
       "      <td>France</td>\n",
       "      <td>Restaurant</td>\n",
       "      <td>Patio</td>\n",
       "      <td>Low</td>\n",
       "      <td>3945.0</td>\n",
       "      <td>55</td>\n",
       "      <td>216975.0</td>\n",
       "      <td>130185.0</td>\n",
       "      <td>86790</td>\n",
       "      <td>...</td>\n",
       "      <td>60</td>\n",
       "      <td>5</td>\n",
       "      <td>236700</td>\n",
       "      <td>3</td>\n",
       "      <td>11835.0</td>\n",
       "      <td>224865.0</td>\n",
       "      <td>7890.0</td>\n",
       "      <td>2014-01-01</td>\n",
       "      <td>1</td>\n",
       "      <td>January</td>\n",
       "    </tr>\n",
       "    <tr>\n",
       "      <th>4</th>\n",
       "      <td>Booking</td>\n",
       "      <td>France</td>\n",
       "      <td>Restaurant</td>\n",
       "      <td>Patio</td>\n",
       "      <td>Low</td>\n",
       "      <td>2434.5</td>\n",
       "      <td>55</td>\n",
       "      <td>133897.5</td>\n",
       "      <td>80338.5</td>\n",
       "      <td>53559</td>\n",
       "      <td>...</td>\n",
       "      <td>60</td>\n",
       "      <td>5</td>\n",
       "      <td>146070</td>\n",
       "      <td>3</td>\n",
       "      <td>7303.5</td>\n",
       "      <td>138766.5</td>\n",
       "      <td>4869.0</td>\n",
       "      <td>2014-01-01</td>\n",
       "      <td>1</td>\n",
       "      <td>January</td>\n",
       "    </tr>\n",
       "  </tbody>\n",
       "</table>\n",
       "<p>5 rows × 22 columns</p>\n",
       "</div>"
      ],
      "text/plain": [
       "          Segment     pays     Service marque remise  Nbre vente  coût unit  \\\n",
       "0  Administration   Canada  Restaurant  Tacos   None      1618.0         35   \n",
       "1  Administration  Germany  Restaurant  Tacos   None      1321.0         35   \n",
       "2  Administration   Mexico  Restaurant  Tapas   None      1493.0         45   \n",
       "3  Administration   France  Restaurant  Patio    Low      3945.0         55   \n",
       "4         Booking   France  Restaurant  Patio    Low      2434.5         55   \n",
       "\n",
       "   charge totale  charge fixe  charge variable  ...  prix de vente  \\\n",
       "0        56630.0      33978.0            22652  ...             40   \n",
       "1        46235.0      27741.0            18494  ...             40   \n",
       "2        67185.0      40311.0            26874  ...             50   \n",
       "3       216975.0     130185.0            86790  ...             60   \n",
       "4       133897.5      80338.5            53559  ...             60   \n",
       "\n",
       "   marge unit      CA  remise unit  remise tot     vente  bénéfice       Date  \\\n",
       "0           5   64720            0         0.0   64720.0    8090.0 2014-01-01   \n",
       "1           5   52840            0         0.0   52840.0    6605.0 2014-01-01   \n",
       "2           5   74650            0         0.0   74650.0    7465.0 2014-01-01   \n",
       "3           5  236700            3     11835.0  224865.0    7890.0 2014-01-01   \n",
       "4           5  146070            3      7303.5  138766.5    4869.0 2014-01-01   \n",
       "\n",
       "   nombre de mois     mois  \n",
       "0               1  January  \n",
       "1               1  January  \n",
       "2               1  January  \n",
       "3               1  January  \n",
       "4               1  January  \n",
       "\n",
       "[5 rows x 22 columns]"
      ]
     },
     "execution_count": 78,
     "metadata": {},
     "output_type": "execute_result"
    }
   ],
   "source": [
    "df.head()"
   ]
  },
  {
   "cell_type": "code",
   "execution_count": 79,
   "id": "158b00e0",
   "metadata": {},
   "outputs": [
    {
     "data": {
      "text/plain": [
       "<AxesSubplot: >"
      ]
     },
     "execution_count": 79,
     "metadata": {},
     "output_type": "execute_result"
    },
    {
     "data": {
      "image/png": "[encoded data removed]",
      "text/plain": [
       "<Figure size 1728x720 with 3 Axes>"
      ]
     },
     "metadata": {
      "needs_background": "light"
     },
     "output_type": "display_data"
    }
   ],
   "source": [
    "msno.bar(df)"
   ]
  },
  {
   "cell_type": "code",
   "execution_count": 80,
   "id": "73533df7",
   "metadata": {},
   "outputs": [
    {
     "name": "stdout",
     "output_type": "stream",
     "text": [
      "<class 'pandas.core.frame.DataFrame'>\n",
      "RangeIndex: 525 entries, 0 to 524\n",
      "Data columns (total 22 columns):\n",
      " #   Column              Non-Null Count  Dtype         \n",
      "---  ------              --------------  -----         \n",
      " 0   Segment             525 non-null    object        \n",
      " 1   pays                525 non-null    object        \n",
      " 2   Service             525 non-null    object        \n",
      " 3   marque              525 non-null    object        \n",
      " 4   remise              525 non-null    object        \n",
      " 5   Nbre vente          525 non-null    float64       \n",
      " 6   coût unit           525 non-null    int64         \n",
      " 7   charge totale       525 non-null    float64       \n",
      " 8   charge fixe         525 non-null    float64       \n",
      " 9   charge variable     525 non-null    int64         \n",
      " 10  charges directes    525 non-null    float64       \n",
      " 11  charges indirectes  525 non-null    float64       \n",
      " 12  prix de vente       525 non-null    int64         \n",
      " 13  marge unit          525 non-null    int64         \n",
      " 14  CA                  525 non-null    int64         \n",
      " 15  remise unit         525 non-null    int64         \n",
      " 16  remise tot          525 non-null    float64       \n",
      " 17  vente               525 non-null    float64       \n",
      " 18  bénéfice            525 non-null    float64       \n",
      " 19  Date                525 non-null    datetime64[ns]\n",
      " 20  nombre de mois      525 non-null    int64         \n",
      " 21  mois                525 non-null    object        \n",
      "dtypes: datetime64[ns](1), float64(8), int64(7), object(6)\n",
      "memory usage: 90.4+ KB\n"
     ]
    }
   ],
   "source": [
    "df.info()"
   ]
  },
  {
   "cell_type": "code",
   "execution_count": 81,
   "id": "fd0e0887",
   "metadata": {},
   "outputs": [],
   "source": [
    "df['Nbre vente'] = df['Nbre vente'].astype(float).astype(int)\n",
    "df['charge totale'] = df['charge totale'].astype(float).astype(int)\n",
    "df['charge fixe'] = df['charge fixe'].astype(float).astype(int)\n",
    "df['charge variable'] = df['charge variable'].astype(float).astype(int)\n",
    "df['charges directes'] = df['charges directes'].astype(float).astype(int)\n",
    "df['charges indirectes'] = df['charges indirectes'].astype(float).astype(int)\n",
    "df['remise unit'] = df['remise unit'].astype(float).astype(int)\n",
    "df['remise tot'] = df['remise tot'].astype(float).astype(int)\n",
    "df['vente'] = df['vente'].astype(float).astype(int)\n",
    "df['bénéfice'] = df['bénéfice'].astype(float).astype(int)\n",
    "df['Date'] = pd.to_datetime(df['Date'], format='%d%m%y')"
   ]
  },
  {
   "cell_type": "code",
   "execution_count": 82,
   "id": "d56add93",
   "metadata": {},
   "outputs": [
    {
     "name": "stdout",
     "output_type": "stream",
     "text": [
      "<class 'pandas.core.frame.DataFrame'>\n",
      "RangeIndex: 525 entries, 0 to 524\n",
      "Data columns (total 22 columns):\n",
      " #   Column              Non-Null Count  Dtype         \n",
      "---  ------              --------------  -----         \n",
      " 0   Segment             525 non-null    object        \n",
      " 1   pays                525 non-null    object        \n",
      " 2   Service             525 non-null    object        \n",
      " 3   marque              525 non-null    object        \n",
      " 4   remise              525 non-null    object        \n",
      " 5   Nbre vente          525 non-null    int32         \n",
      " 6   coût unit           525 non-null    int64         \n",
      " 7   charge totale       525 non-null    int32         \n",
      " 8   charge fixe         525 non-null    int32         \n",
      " 9   charge variable     525 non-null    int32         \n",
      " 10  charges directes    525 non-null    int32         \n",
      " 11  charges indirectes  525 non-null    int32         \n",
      " 12  prix de vente       525 non-null    int64         \n",
      " 13  marge unit          525 non-null    int64         \n",
      " 14  CA                  525 non-null    int64         \n",
      " 15  remise unit         525 non-null    int32         \n",
      " 16  remise tot          525 non-null    int32         \n",
      " 17  vente               525 non-null    int32         \n",
      " 18  bénéfice            525 non-null    int32         \n",
      " 19  Date                525 non-null    datetime64[ns]\n",
      " 20  nombre de mois      525 non-null    int64         \n",
      " 21  mois                525 non-null    object        \n",
      "dtypes: datetime64[ns](1), int32(10), int64(5), object(6)\n",
      "memory usage: 69.9+ KB\n"
     ]
    }
   ],
   "source": [
    "df.info()"
   ]
  },
  {
   "cell_type": "code",
   "execution_count": 83,
   "id": "5c2ef3aa",
   "metadata": {},
   "outputs": [
    {
     "data": {
      "text/html": [
       "<div>\n",
       "<style scoped>\n",
       "    .dataframe tbody tr th:only-of-type {\n",
       "        vertical-align: middle;\n",
       "    }\n",
       "\n",
       "    .dataframe tbody tr th {\n",
       "        vertical-align: top;\n",
       "    }\n",
       "\n",
       "    .dataframe thead th {\n",
       "        text-align: right;\n",
       "    }\n",
       "</style>\n",
       "<table border=\"1\" class=\"dataframe\">\n",
       "  <thead>\n",
       "    <tr style=\"text-align: right;\">\n",
       "      <th></th>\n",
       "      <th>Nbre vente</th>\n",
       "      <th>coût unit</th>\n",
       "      <th>charge totale</th>\n",
       "      <th>charge fixe</th>\n",
       "      <th>charge variable</th>\n",
       "      <th>charges directes</th>\n",
       "      <th>charges indirectes</th>\n",
       "      <th>prix de vente</th>\n",
       "      <th>marge unit</th>\n",
       "      <th>CA</th>\n",
       "      <th>remise unit</th>\n",
       "      <th>remise tot</th>\n",
       "      <th>vente</th>\n",
       "      <th>bénéfice</th>\n",
       "      <th>nombre de mois</th>\n",
       "    </tr>\n",
       "  </thead>\n",
       "  <tbody>\n",
       "    <tr>\n",
       "      <th>count</th>\n",
       "      <td>525.000000</td>\n",
       "      <td>525.000000</td>\n",
       "      <td>5.250000e+02</td>\n",
       "      <td>525.000000</td>\n",
       "      <td>525.000000</td>\n",
       "      <td>525.000000</td>\n",
       "      <td>525.000000</td>\n",
       "      <td>525.000000</td>\n",
       "      <td>525.000000</td>\n",
       "      <td>5.250000e+02</td>\n",
       "      <td>525.000000</td>\n",
       "      <td>525.000000</td>\n",
       "      <td>5.250000e+02</td>\n",
       "      <td>525.000000</td>\n",
       "      <td>525.000000</td>\n",
       "    </tr>\n",
       "    <tr>\n",
       "      <th>mean</th>\n",
       "      <td>1640.217143</td>\n",
       "      <td>133.904762</td>\n",
       "      <td>2.200664e+05</td>\n",
       "      <td>132039.828571</td>\n",
       "      <td>88026.558095</td>\n",
       "      <td>66019.758095</td>\n",
       "      <td>154046.201905</td>\n",
       "      <td>147.371429</td>\n",
       "      <td>13.466667</td>\n",
       "      <td>2.418535e+05</td>\n",
       "      <td>5.874286</td>\n",
       "      <td>9501.226667</td>\n",
       "      <td>2.323523e+05</td>\n",
       "      <td>12285.899048</td>\n",
       "      <td>7.066667</td>\n",
       "    </tr>\n",
       "    <tr>\n",
       "      <th>std</th>\n",
       "      <td>880.796891</td>\n",
       "      <td>105.049927</td>\n",
       "      <td>2.248521e+05</td>\n",
       "      <td>134911.274935</td>\n",
       "      <td>89940.846619</td>\n",
       "      <td>67455.732100</td>\n",
       "      <td>157396.540864</td>\n",
       "      <td>116.279577</td>\n",
       "      <td>15.088205</td>\n",
       "      <td>2.478668e+05</td>\n",
       "      <td>2.874507</td>\n",
       "      <td>7410.466105</td>\n",
       "      <td>2.452668e+05</td>\n",
       "      <td>26462.814060</td>\n",
       "      <td>3.476383</td>\n",
       "    </tr>\n",
       "    <tr>\n",
       "      <th>min</th>\n",
       "      <td>200.000000</td>\n",
       "      <td>5.000000</td>\n",
       "      <td>6.840000e+03</td>\n",
       "      <td>4104.000000</td>\n",
       "      <td>2736.000000</td>\n",
       "      <td>2052.000000</td>\n",
       "      <td>4788.000000</td>\n",
       "      <td>40.000000</td>\n",
       "      <td>5.000000</td>\n",
       "      <td>1.096000e+04</td>\n",
       "      <td>0.000000</td>\n",
       "      <td>0.000000</td>\n",
       "      <td>8.680000e+03</td>\n",
       "      <td>-16104.000000</td>\n",
       "      <td>1.000000</td>\n",
       "    </tr>\n",
       "    <tr>\n",
       "      <th>25%</th>\n",
       "      <td>941.000000</td>\n",
       "      <td>45.000000</td>\n",
       "      <td>6.171000e+04</td>\n",
       "      <td>37026.000000</td>\n",
       "      <td>24684.000000</td>\n",
       "      <td>18513.000000</td>\n",
       "      <td>43197.000000</td>\n",
       "      <td>50.000000</td>\n",
       "      <td>5.000000</td>\n",
       "      <td>6.858000e+04</td>\n",
       "      <td>3.000000</td>\n",
       "      <td>3861.000000</td>\n",
       "      <td>6.015600e+04</td>\n",
       "      <td>-1865.000000</td>\n",
       "      <td>4.000000</td>\n",
       "    </tr>\n",
       "    <tr>\n",
       "      <th>50%</th>\n",
       "      <td>1540.000000</td>\n",
       "      <td>55.000000</td>\n",
       "      <td>1.205920e+05</td>\n",
       "      <td>72355.000000</td>\n",
       "      <td>48237.000000</td>\n",
       "      <td>36177.000000</td>\n",
       "      <td>84414.000000</td>\n",
       "      <td>60.000000</td>\n",
       "      <td>5.000000</td>\n",
       "      <td>1.318800e+05</td>\n",
       "      <td>6.000000</td>\n",
       "      <td>7692.000000</td>\n",
       "      <td>1.214040e+05</td>\n",
       "      <td>2734.000000</td>\n",
       "      <td>7.000000</td>\n",
       "    </tr>\n",
       "    <tr>\n",
       "      <th>75%</th>\n",
       "      <td>2301.000000</td>\n",
       "      <td>250.000000</td>\n",
       "      <td>3.412000e+05</td>\n",
       "      <td>204720.000000</td>\n",
       "      <td>136480.000000</td>\n",
       "      <td>102360.000000</td>\n",
       "      <td>238839.000000</td>\n",
       "      <td>270.000000</td>\n",
       "      <td>20.000000</td>\n",
       "      <td>3.645000e+05</td>\n",
       "      <td>9.000000</td>\n",
       "      <td>14028.000000</td>\n",
       "      <td>3.563730e+05</td>\n",
       "      <td>15652.000000</td>\n",
       "      <td>10.000000</td>\n",
       "    </tr>\n",
       "    <tr>\n",
       "      <th>max</th>\n",
       "      <td>4492.000000</td>\n",
       "      <td>300.000000</td>\n",
       "      <td>1.162200e+06</td>\n",
       "      <td>697320.000000</td>\n",
       "      <td>464880.000000</td>\n",
       "      <td>348660.000000</td>\n",
       "      <td>813540.000000</td>\n",
       "      <td>340.000000</td>\n",
       "      <td>205.000000</td>\n",
       "      <td>1.317160e+06</td>\n",
       "      <td>9.000000</td>\n",
       "      <td>36234.000000</td>\n",
       "      <td>1.282294e+06</td>\n",
       "      <td>268128.000000</td>\n",
       "      <td>12.000000</td>\n",
       "    </tr>\n",
       "  </tbody>\n",
       "</table>\n",
       "</div>"
      ],
      "text/plain": [
       "        Nbre vente   coût unit  charge totale    charge fixe  charge variable  \\\n",
       "count   525.000000  525.000000   5.250000e+02     525.000000       525.000000   \n",
       "mean   1640.217143  133.904762   2.200664e+05  132039.828571     88026.558095   \n",
       "std     880.796891  105.049927   2.248521e+05  134911.274935     89940.846619   \n",
       "min     200.000000    5.000000   6.840000e+03    4104.000000      2736.000000   \n",
       "25%     941.000000   45.000000   6.171000e+04   37026.000000     24684.000000   \n",
       "50%    1540.000000   55.000000   1.205920e+05   72355.000000     48237.000000   \n",
       "75%    2301.000000  250.000000   3.412000e+05  204720.000000    136480.000000   \n",
       "max    4492.000000  300.000000   1.162200e+06  697320.000000    464880.000000   \n",
       "\n",
       "       charges directes  charges indirectes  prix de vente  marge unit  \\\n",
       "count        525.000000          525.000000     525.000000  525.000000   \n",
       "mean       66019.758095       154046.201905     147.371429   13.466667   \n",
       "std        67455.732100       157396.540864     116.279577   15.088205   \n",
       "min         2052.000000         4788.000000      40.000000    5.000000   \n",
       "25%        18513.000000        43197.000000      50.000000    5.000000   \n",
       "50%        36177.000000        84414.000000      60.000000    5.000000   \n",
       "75%       102360.000000       238839.000000     270.000000   20.000000   \n",
       "max       348660.000000       813540.000000     340.000000  205.000000   \n",
       "\n",
       "                 CA  remise unit    remise tot         vente       bénéfice  \\\n",
       "count  5.250000e+02   525.000000    525.000000  5.250000e+02     525.000000   \n",
       "mean   2.418535e+05     5.874286   9501.226667  2.323523e+05   12285.899048   \n",
       "std    2.478668e+05     2.874507   7410.466105  2.452668e+05   26462.814060   \n",
       "min    1.096000e+04     0.000000      0.000000  8.680000e+03  -16104.000000   \n",
       "25%    6.858000e+04     3.000000   3861.000000  6.015600e+04   -1865.000000   \n",
       "50%    1.318800e+05     6.000000   7692.000000  1.214040e+05    2734.000000   \n",
       "75%    3.645000e+05     9.000000  14028.000000  3.563730e+05   15652.000000   \n",
       "max    1.317160e+06     9.000000  36234.000000  1.282294e+06  268128.000000   \n",
       "\n",
       "       nombre de mois  \n",
       "count      525.000000  \n",
       "mean         7.066667  \n",
       "std          3.476383  \n",
       "min          1.000000  \n",
       "25%          4.000000  \n",
       "50%          7.000000  \n",
       "75%         10.000000  \n",
       "max         12.000000  "
      ]
     },
     "execution_count": 83,
     "metadata": {},
     "output_type": "execute_result"
    }
   ],
   "source": [
    "df.describe()"
   ]
  },
  {
   "cell_type": "code",
   "execution_count": 84,
   "id": "d6c62feb",
   "metadata": {},
   "outputs": [
    {
     "data": {
      "text/plain": [
       "Index(['Segment', 'pays', 'Service', 'marque', 'remise', 'Nbre vente',\n",
       "       'coût unit', 'charge totale', 'charge fixe', 'charge variable',\n",
       "       'charges directes', 'charges indirectes', 'prix de vente', 'marge unit',\n",
       "       'CA', 'remise unit', 'remise tot', 'vente', 'bénéfice', 'Date',\n",
       "       'nombre de mois', 'mois'],\n",
       "      dtype='object')"
      ]
     },
     "execution_count": 84,
     "metadata": {},
     "output_type": "execute_result"
    }
   ],
   "source": [
    "df.columns"
   ]
  },
  {
   "cell_type": "code",
   "execution_count": 85,
   "id": "b544ed55",
   "metadata": {},
   "outputs": [
    {
     "data": {
      "text/html": [
       "<div>\n",
       "<style scoped>\n",
       "    .dataframe tbody tr th:only-of-type {\n",
       "        vertical-align: middle;\n",
       "    }\n",
       "\n",
       "    .dataframe tbody tr th {\n",
       "        vertical-align: top;\n",
       "    }\n",
       "\n",
       "    .dataframe thead th {\n",
       "        text-align: right;\n",
       "    }\n",
       "</style>\n",
       "<table border=\"1\" class=\"dataframe\">\n",
       "  <thead>\n",
       "    <tr style=\"text-align: right;\">\n",
       "      <th></th>\n",
       "      <th>Segment</th>\n",
       "      <th>pays</th>\n",
       "      <th>Service</th>\n",
       "      <th>marque</th>\n",
       "      <th>remise</th>\n",
       "      <th>mois</th>\n",
       "      <th>Date</th>\n",
       "      <th>Nbre vente</th>\n",
       "      <th>coût unit</th>\n",
       "      <th>charge totale</th>\n",
       "      <th>...</th>\n",
       "      <th>charge variable</th>\n",
       "      <th>charges directes</th>\n",
       "      <th>charges indirectes</th>\n",
       "      <th>prix de vente</th>\n",
       "      <th>marge unit</th>\n",
       "      <th>CA</th>\n",
       "      <th>remise unit</th>\n",
       "      <th>remise tot</th>\n",
       "      <th>vente</th>\n",
       "      <th>bénéfice</th>\n",
       "    </tr>\n",
       "  </thead>\n",
       "  <tbody>\n",
       "    <tr>\n",
       "      <th>0</th>\n",
       "      <td>Administration</td>\n",
       "      <td>Canada</td>\n",
       "      <td>Hôtel</td>\n",
       "      <td>Amarilla</td>\n",
       "      <td>High</td>\n",
       "      <td>February</td>\n",
       "      <td>2014-02-01</td>\n",
       "      <td>2240</td>\n",
       "      <td>250</td>\n",
       "      <td>560000</td>\n",
       "      <td>...</td>\n",
       "      <td>224000</td>\n",
       "      <td>168000</td>\n",
       "      <td>392000</td>\n",
       "      <td>270</td>\n",
       "      <td>20</td>\n",
       "      <td>604800</td>\n",
       "      <td>9</td>\n",
       "      <td>20160</td>\n",
       "      <td>584640</td>\n",
       "      <td>24640</td>\n",
       "    </tr>\n",
       "    <tr>\n",
       "      <th>1</th>\n",
       "      <td>Administration</td>\n",
       "      <td>Canada</td>\n",
       "      <td>Hôtel</td>\n",
       "      <td>Amarilla</td>\n",
       "      <td>High</td>\n",
       "      <td>October</td>\n",
       "      <td>2014-10-01</td>\n",
       "      <td>2734</td>\n",
       "      <td>250</td>\n",
       "      <td>683500</td>\n",
       "      <td>...</td>\n",
       "      <td>273400</td>\n",
       "      <td>205050</td>\n",
       "      <td>478449</td>\n",
       "      <td>270</td>\n",
       "      <td>20</td>\n",
       "      <td>738180</td>\n",
       "      <td>9</td>\n",
       "      <td>24606</td>\n",
       "      <td>713574</td>\n",
       "      <td>30074</td>\n",
       "    </tr>\n",
       "    <tr>\n",
       "      <th>2</th>\n",
       "      <td>Administration</td>\n",
       "      <td>Canada</td>\n",
       "      <td>Hôtel</td>\n",
       "      <td>Amarilla</td>\n",
       "      <td>High</td>\n",
       "      <td>September</td>\n",
       "      <td>2014-09-01</td>\n",
       "      <td>707</td>\n",
       "      <td>250</td>\n",
       "      <td>176750</td>\n",
       "      <td>...</td>\n",
       "      <td>70700</td>\n",
       "      <td>53025</td>\n",
       "      <td>123724</td>\n",
       "      <td>270</td>\n",
       "      <td>20</td>\n",
       "      <td>190890</td>\n",
       "      <td>9</td>\n",
       "      <td>6363</td>\n",
       "      <td>184527</td>\n",
       "      <td>7777</td>\n",
       "    </tr>\n",
       "    <tr>\n",
       "      <th>3</th>\n",
       "      <td>Administration</td>\n",
       "      <td>Canada</td>\n",
       "      <td>Hôtel</td>\n",
       "      <td>Amarilla</td>\n",
       "      <td>Medium</td>\n",
       "      <td>August</td>\n",
       "      <td>2014-08-01</td>\n",
       "      <td>552</td>\n",
       "      <td>250</td>\n",
       "      <td>138000</td>\n",
       "      <td>...</td>\n",
       "      <td>55200</td>\n",
       "      <td>41400</td>\n",
       "      <td>96600</td>\n",
       "      <td>270</td>\n",
       "      <td>20</td>\n",
       "      <td>149040</td>\n",
       "      <td>6</td>\n",
       "      <td>3312</td>\n",
       "      <td>145728</td>\n",
       "      <td>7728</td>\n",
       "    </tr>\n",
       "    <tr>\n",
       "      <th>4</th>\n",
       "      <td>Administration</td>\n",
       "      <td>Canada</td>\n",
       "      <td>Hôtel</td>\n",
       "      <td>Amarilla</td>\n",
       "      <td>Medium</td>\n",
       "      <td>June</td>\n",
       "      <td>2014-06-01</td>\n",
       "      <td>1843</td>\n",
       "      <td>500</td>\n",
       "      <td>460750</td>\n",
       "      <td>...</td>\n",
       "      <td>184300</td>\n",
       "      <td>138225</td>\n",
       "      <td>322524</td>\n",
       "      <td>540</td>\n",
       "      <td>40</td>\n",
       "      <td>497610</td>\n",
       "      <td>12</td>\n",
       "      <td>11058</td>\n",
       "      <td>486552</td>\n",
       "      <td>25802</td>\n",
       "    </tr>\n",
       "    <tr>\n",
       "      <th>...</th>\n",
       "      <td>...</td>\n",
       "      <td>...</td>\n",
       "      <td>...</td>\n",
       "      <td>...</td>\n",
       "      <td>...</td>\n",
       "      <td>...</td>\n",
       "      <td>...</td>\n",
       "      <td>...</td>\n",
       "      <td>...</td>\n",
       "      <td>...</td>\n",
       "      <td>...</td>\n",
       "      <td>...</td>\n",
       "      <td>...</td>\n",
       "      <td>...</td>\n",
       "      <td>...</td>\n",
       "      <td>...</td>\n",
       "      <td>...</td>\n",
       "      <td>...</td>\n",
       "      <td>...</td>\n",
       "      <td>...</td>\n",
       "      <td>...</td>\n",
       "    </tr>\n",
       "    <tr>\n",
       "      <th>507</th>\n",
       "      <td>Tour</td>\n",
       "      <td>US</td>\n",
       "      <td>Restaurant</td>\n",
       "      <td>Patio</td>\n",
       "      <td>Medium</td>\n",
       "      <td>October</td>\n",
       "      <td>2014-10-01</td>\n",
       "      <td>1153</td>\n",
       "      <td>55</td>\n",
       "      <td>63415</td>\n",
       "      <td>...</td>\n",
       "      <td>25366</td>\n",
       "      <td>19024</td>\n",
       "      <td>44390</td>\n",
       "      <td>60</td>\n",
       "      <td>5</td>\n",
       "      <td>69180</td>\n",
       "      <td>6</td>\n",
       "      <td>6918</td>\n",
       "      <td>62262</td>\n",
       "      <td>-1153</td>\n",
       "    </tr>\n",
       "    <tr>\n",
       "      <th>508</th>\n",
       "      <td>Tour</td>\n",
       "      <td>US</td>\n",
       "      <td>Restaurant</td>\n",
       "      <td>Tacos</td>\n",
       "      <td>High</td>\n",
       "      <td>June</td>\n",
       "      <td>2014-06-01</td>\n",
       "      <td>2567</td>\n",
       "      <td>35</td>\n",
       "      <td>89845</td>\n",
       "      <td>...</td>\n",
       "      <td>35938</td>\n",
       "      <td>26953</td>\n",
       "      <td>62891</td>\n",
       "      <td>40</td>\n",
       "      <td>5</td>\n",
       "      <td>102680</td>\n",
       "      <td>9</td>\n",
       "      <td>23103</td>\n",
       "      <td>79577</td>\n",
       "      <td>-10268</td>\n",
       "    </tr>\n",
       "    <tr>\n",
       "      <th>509</th>\n",
       "      <td>Tour</td>\n",
       "      <td>US</td>\n",
       "      <td>Restaurant</td>\n",
       "      <td>Tacos</td>\n",
       "      <td>Medium</td>\n",
       "      <td>November</td>\n",
       "      <td>2014-11-01</td>\n",
       "      <td>2030</td>\n",
       "      <td>35</td>\n",
       "      <td>71050</td>\n",
       "      <td>...</td>\n",
       "      <td>28420</td>\n",
       "      <td>21315</td>\n",
       "      <td>49735</td>\n",
       "      <td>40</td>\n",
       "      <td>5</td>\n",
       "      <td>81200</td>\n",
       "      <td>6</td>\n",
       "      <td>12180</td>\n",
       "      <td>69020</td>\n",
       "      <td>-2030</td>\n",
       "    </tr>\n",
       "    <tr>\n",
       "      <th>510</th>\n",
       "      <td>Tour</td>\n",
       "      <td>US</td>\n",
       "      <td>Restaurant</td>\n",
       "      <td>Tapas</td>\n",
       "      <td>High</td>\n",
       "      <td>May</td>\n",
       "      <td>2014-05-01</td>\n",
       "      <td>790</td>\n",
       "      <td>45</td>\n",
       "      <td>35550</td>\n",
       "      <td>...</td>\n",
       "      <td>14220</td>\n",
       "      <td>10665</td>\n",
       "      <td>24885</td>\n",
       "      <td>50</td>\n",
       "      <td>5</td>\n",
       "      <td>39500</td>\n",
       "      <td>9</td>\n",
       "      <td>7110</td>\n",
       "      <td>32390</td>\n",
       "      <td>-3160</td>\n",
       "    </tr>\n",
       "    <tr>\n",
       "      <th>511</th>\n",
       "      <td>Tour</td>\n",
       "      <td>US</td>\n",
       "      <td>Restaurant</td>\n",
       "      <td>Tapas</td>\n",
       "      <td>Medium</td>\n",
       "      <td>January</td>\n",
       "      <td>2014-01-01</td>\n",
       "      <td>555</td>\n",
       "      <td>45</td>\n",
       "      <td>24975</td>\n",
       "      <td>...</td>\n",
       "      <td>9990</td>\n",
       "      <td>7492</td>\n",
       "      <td>17482</td>\n",
       "      <td>50</td>\n",
       "      <td>5</td>\n",
       "      <td>27750</td>\n",
       "      <td>6</td>\n",
       "      <td>3330</td>\n",
       "      <td>24420</td>\n",
       "      <td>-555</td>\n",
       "    </tr>\n",
       "  </tbody>\n",
       "</table>\n",
       "<p>512 rows × 21 columns</p>\n",
       "</div>"
      ],
      "text/plain": [
       "            Segment    pays     Service    marque  remise       mois  \\\n",
       "0    Administration  Canada       Hôtel  Amarilla    High   February   \n",
       "1    Administration  Canada       Hôtel  Amarilla    High    October   \n",
       "2    Administration  Canada       Hôtel  Amarilla    High  September   \n",
       "3    Administration  Canada       Hôtel  Amarilla  Medium     August   \n",
       "4    Administration  Canada       Hôtel  Amarilla  Medium       June   \n",
       "..              ...     ...         ...       ...     ...        ...   \n",
       "507            Tour      US  Restaurant     Patio  Medium    October   \n",
       "508            Tour      US  Restaurant     Tacos    High       June   \n",
       "509            Tour      US  Restaurant     Tacos  Medium   November   \n",
       "510            Tour      US  Restaurant     Tapas    High        May   \n",
       "511            Tour      US  Restaurant     Tapas  Medium    January   \n",
       "\n",
       "          Date  Nbre vente  coût unit  charge totale  ...  charge variable  \\\n",
       "0   2014-02-01        2240        250         560000  ...           224000   \n",
       "1   2014-10-01        2734        250         683500  ...           273400   \n",
       "2   2014-09-01         707        250         176750  ...            70700   \n",
       "3   2014-08-01         552        250         138000  ...            55200   \n",
       "4   2014-06-01        1843        500         460750  ...           184300   \n",
       "..         ...         ...        ...            ...  ...              ...   \n",
       "507 2014-10-01        1153         55          63415  ...            25366   \n",
       "508 2014-06-01        2567         35          89845  ...            35938   \n",
       "509 2014-11-01        2030         35          71050  ...            28420   \n",
       "510 2014-05-01         790         45          35550  ...            14220   \n",
       "511 2014-01-01         555         45          24975  ...             9990   \n",
       "\n",
       "     charges directes  charges indirectes  prix de vente  marge unit      CA  \\\n",
       "0              168000              392000            270          20  604800   \n",
       "1              205050              478449            270          20  738180   \n",
       "2               53025              123724            270          20  190890   \n",
       "3               41400               96600            270          20  149040   \n",
       "4              138225              322524            540          40  497610   \n",
       "..                ...                 ...            ...         ...     ...   \n",
       "507             19024               44390             60           5   69180   \n",
       "508             26953               62891             40           5  102680   \n",
       "509             21315               49735             40           5   81200   \n",
       "510             10665               24885             50           5   39500   \n",
       "511              7492               17482             50           5   27750   \n",
       "\n",
       "     remise unit  remise tot   vente  bénéfice  \n",
       "0              9       20160  584640     24640  \n",
       "1              9       24606  713574     30074  \n",
       "2              9        6363  184527      7777  \n",
       "3              6        3312  145728      7728  \n",
       "4             12       11058  486552     25802  \n",
       "..           ...         ...     ...       ...  \n",
       "507            6        6918   62262     -1153  \n",
       "508            9       23103   79577    -10268  \n",
       "509            6       12180   69020     -2030  \n",
       "510            9        7110   32390     -3160  \n",
       "511            6        3330   24420      -555  \n",
       "\n",
       "[512 rows x 21 columns]"
      ]
     },
     "execution_count": 85,
     "metadata": {},
     "output_type": "execute_result"
    }
   ],
   "source": [
    "df_group = df.groupby(['Segment','pays','Service','marque','remise','mois','Date'])[['Nbre vente',\n",
    "       'coût unit','charge totale','charge fixe','charge variable',\n",
    "       'charges directes','charges indirectes','prix de vente','marge unit',\n",
    "       'CA','remise unit','remise tot','vente','bénéfice']].sum()\n",
    "df_group = df_group.reset_index()\n",
    "df_group.sort_values(by='Date', ascending=False)\n",
    "df_group "
   ]
  },
  {
   "cell_type": "code",
   "execution_count": 86,
   "id": "d2d36ba0",
   "metadata": {},
   "outputs": [],
   "source": [
    "#df_group_can = df_group[df_group[\"pays\"]== \"Canada\"]"
   ]
  },
  {
   "cell_type": "code",
   "execution_count": 87,
   "id": "13062793",
   "metadata": {},
   "outputs": [
    {
     "data": {
      "text/plain": [
       "array(['Administration', 'Booking', 'Particuliers', 'Tour'], dtype=object)"
      ]
     },
     "execution_count": 87,
     "metadata": {},
     "output_type": "execute_result"
    }
   ],
   "source": [
    "df[\"Segment\"].unique()"
   ]
  },
  {
   "cell_type": "code",
   "execution_count": 88,
   "id": "7987a80c",
   "metadata": {},
   "outputs": [
    {
     "data": {
      "text/plain": [
       "array(['Canada', 'Germany', 'Mexico', 'France', 'US'], dtype=object)"
      ]
     },
     "execution_count": 88,
     "metadata": {},
     "output_type": "execute_result"
    }
   ],
   "source": [
    "df[\"pays\"].unique()"
   ]
  },
  {
   "cell_type": "code",
   "execution_count": 89,
   "id": "31c52699",
   "metadata": {},
   "outputs": [
    {
     "data": {
      "text/plain": [
       "array(['Tacos', 'Tapas', 'Patio', 'Nuevo', 'Montana', 'Amarilla'],\n",
       "      dtype=object)"
      ]
     },
     "execution_count": 89,
     "metadata": {},
     "output_type": "execute_result"
    }
   ],
   "source": [
    "df[\"marque\"].unique()"
   ]
  },
  {
   "cell_type": "code",
   "execution_count": 90,
   "id": "5d2c85b2",
   "metadata": {},
   "outputs": [
    {
     "data": {
      "text/plain": [
       "array(['None', 'Low', 'Medium', 'High'], dtype=object)"
      ]
     },
     "execution_count": 90,
     "metadata": {},
     "output_type": "execute_result"
    }
   ],
   "source": [
    "df[\"remise\"].unique()"
   ]
  },
  {
   "cell_type": "code",
   "execution_count": 91,
   "id": "ce698d19",
   "metadata": {},
   "outputs": [
    {
     "data": {
      "text/plain": [
       "array(['Restaurant', 'Hôtel'], dtype=object)"
      ]
     },
     "execution_count": 91,
     "metadata": {},
     "output_type": "execute_result"
    }
   ],
   "source": [
    "df[\"Service\"].unique()"
   ]
  },
  {
   "cell_type": "code",
   "execution_count": 92,
   "id": "0d315c28",
   "metadata": {},
   "outputs": [],
   "source": [
    "#df_remise = df.groupby(['pays','Segment','marque','Service','remise']).size().reset_index(name='nbre_remise')\n",
    "#df_remise"
   ]
  },
  {
   "cell_type": "code",
   "execution_count": 93,
   "id": "51b03702",
   "metadata": {},
   "outputs": [],
   "source": [
    "#df_remise_graph = px.bar(\n",
    "    #data_frame=df_remise,\n",
    "    #x=\"remise\",\n",
    "    #y=\"nbre_remise\",\n",
    "    #color=\"Segment\",               \n",
    "    #opacity=0.9,                  \n",
    "    #orientation=\"v\",              \n",
    "    #barmode='group',\n",
    "    #hover_name = 'Service')  \n",
    "#df_remise_graph"
   ]
  },
  {
   "cell_type": "code",
   "execution_count": 94,
   "id": "27216e2f",
   "metadata": {},
   "outputs": [
    {
     "name": "stderr",
     "output_type": "stream",
     "text": [
      "C:\\Users\\Christian\\anaconda3\\lib\\site-packages\\plotly\\io\\_renderers.py:396: DeprecationWarning:\n",
      "\n",
      "distutils Version classes are deprecated. Use packaging.version instead.\n",
      "\n"
     ]
    },
    {
     "data": {
      "application/vnd.plotly.v1+json": {
       "config": {
        "plotlyServerURL": "https://plot.ly"
       },
       "data": [
        {
         "alignmentgroup": "True",
         "hovertemplate": "<b>%{hovertext}</b><br><br>Service=Hôtel<br>mois=%{x}<br>CA=%{y}<extra></extra>",
         "hovertext": [
          "Hôtel",
          "Hôtel",
          "Hôtel",
          "Hôtel",
          "Hôtel",
          "Hôtel",
          "Hôtel",
          "Hôtel",
          "Hôtel",
          "Hôtel",
          "Hôtel",
          "Hôtel",
          "Hôtel",
          "Hôtel",
          "Hôtel",
          "Hôtel",
          "Hôtel",
          "Hôtel",
          "Hôtel",
          "Hôtel",
          "Hôtel",
          "Hôtel",
          "Hôtel",
          "Hôtel",
          "Hôtel",
          "Hôtel",
          "Hôtel",
          "Hôtel",
          "Hôtel",
          "Hôtel",
          "Hôtel",
          "Hôtel",
          "Hôtel",
          "Hôtel",
          "Hôtel",
          "Hôtel",
          "Hôtel",
          "Hôtel",
          "Hôtel",
          "Hôtel",
          "Hôtel",
          "Hôtel",
          "Hôtel",
          "Hôtel",
          "Hôtel",
          "Hôtel",
          "Hôtel",
          "Hôtel",
          "Hôtel",
          "Hôtel",
          "Hôtel",
          "Hôtel",
          "Hôtel",
          "Hôtel",
          "Hôtel",
          "Hôtel",
          "Hôtel",
          "Hôtel",
          "Hôtel",
          "Hôtel",
          "Hôtel",
          "Hôtel",
          "Hôtel",
          "Hôtel",
          "Hôtel",
          "Hôtel",
          "Hôtel",
          "Hôtel",
          "Hôtel",
          "Hôtel",
          "Hôtel",
          "Hôtel",
          "Hôtel",
          "Hôtel",
          "Hôtel",
          "Hôtel",
          "Hôtel",
          "Hôtel",
          "Hôtel",
          "Hôtel",
          "Hôtel",
          "Hôtel",
          "Hôtel",
          "Hôtel",
          "Hôtel",
          "Hôtel",
          "Hôtel",
          "Hôtel",
          "Hôtel",
          "Hôtel",
          "Hôtel",
          "Hôtel",
          "Hôtel",
          "Hôtel",
          "Hôtel",
          "Hôtel",
          "Hôtel",
          "Hôtel",
          "Hôtel",
          "Hôtel",
          "Hôtel",
          "Hôtel",
          "Hôtel",
          "Hôtel",
          "Hôtel",
          "Hôtel",
          "Hôtel",
          "Hôtel",
          "Hôtel",
          "Hôtel",
          "Hôtel",
          "Hôtel",
          "Hôtel",
          "Hôtel",
          "Hôtel",
          "Hôtel",
          "Hôtel",
          "Hôtel",
          "Hôtel",
          "Hôtel",
          "Hôtel",
          "Hôtel",
          "Hôtel",
          "Hôtel",
          "Hôtel",
          "Hôtel",
          "Hôtel",
          "Hôtel",
          "Hôtel",
          "Hôtel",
          "Hôtel",
          "Hôtel",
          "Hôtel",
          "Hôtel",
          "Hôtel",
          "Hôtel",
          "Hôtel",
          "Hôtel",
          "Hôtel",
          "Hôtel",
          "Hôtel",
          "Hôtel",
          "Hôtel",
          "Hôtel",
          "Hôtel",
          "Hôtel",
          "Hôtel",
          "Hôtel",
          "Hôtel",
          "Hôtel",
          "Hôtel",
          "Hôtel",
          "Hôtel",
          "Hôtel",
          "Hôtel",
          "Hôtel",
          "Hôtel",
          "Hôtel",
          "Hôtel",
          "Hôtel",
          "Hôtel",
          "Hôtel",
          "Hôtel",
          "Hôtel",
          "Hôtel",
          "Hôtel",
          "Hôtel",
          "Hôtel",
          "Hôtel",
          "Hôtel",
          "Hôtel",
          "Hôtel",
          "Hôtel",
          "Hôtel",
          "Hôtel",
          "Hôtel",
          "Hôtel",
          "Hôtel",
          "Hôtel",
          "Hôtel",
          "Hôtel",
          "Hôtel",
          "Hôtel",
          "Hôtel",
          "Hôtel",
          "Hôtel",
          "Hôtel",
          "Hôtel",
          "Hôtel",
          "Hôtel",
          "Hôtel",
          "Hôtel",
          "Hôtel",
          "Hôtel",
          "Hôtel",
          "Hôtel",
          "Hôtel",
          "Hôtel",
          "Hôtel",
          "Hôtel",
          "Hôtel",
          "Hôtel",
          "Hôtel",
          "Hôtel",
          "Hôtel",
          "Hôtel",
          "Hôtel",
          "Hôtel",
          "Hôtel",
          "Hôtel",
          "Hôtel",
          "Hôtel",
          "Hôtel",
          "Hôtel",
          "Hôtel",
          "Hôtel",
          "Hôtel"
         ],
         "legendgroup": "Hôtel",
         "marker": {
          "color": "green",
          "opacity": 0.9,
          "pattern": {
           "shape": ""
          }
         },
         "name": "Hôtel",
         "offsetgroup": "Hôtel",
         "orientation": "v",
         "showlegend": true,
         "textposition": "auto",
         "type": "bar",
         "x": [
          "February",
          "October",
          "September",
          "August",
          "June",
          "November",
          "October",
          "January",
          "May",
          "October",
          "September",
          "August",
          "February",
          "June",
          "July",
          "April",
          "March",
          "December",
          "December",
          "July",
          "June",
          "October",
          "November",
          "September",
          "February",
          "June",
          "February",
          "July",
          "September",
          "January",
          "May",
          "October",
          "June",
          "December",
          "March",
          "October",
          "April",
          "August",
          "December",
          "September",
          "February",
          "June",
          "November",
          "July",
          "April",
          "January",
          "February",
          "July",
          "May",
          "September",
          "December",
          "March",
          "October",
          "August",
          "June",
          "October",
          "January",
          "May",
          "February",
          "July",
          "June",
          "November",
          "September",
          "February",
          "July",
          "September",
          "April",
          "December",
          "March",
          "August",
          "October",
          "December",
          "June",
          "October",
          "February",
          "November",
          "June",
          "September",
          "October",
          "February",
          "January",
          "May",
          "September",
          "October",
          "June",
          "August",
          "March",
          "October",
          "April",
          "December",
          "July",
          "March",
          "December",
          "April",
          "October",
          "August",
          "September",
          "February",
          "December",
          "March",
          "April",
          "August",
          "October",
          "February",
          "September",
          "March",
          "December",
          "August",
          "October",
          "September",
          "February",
          "October",
          "March",
          "December",
          "June",
          "October",
          "August",
          "September",
          "February",
          "March",
          "December",
          "April",
          "August",
          "October",
          "February",
          "September",
          "April",
          "January",
          "May",
          "November",
          "July",
          "June",
          "June",
          "May",
          "November",
          "December",
          "January",
          "August",
          "May",
          "October",
          "January",
          "December",
          "June",
          "November",
          "January",
          "June",
          "May",
          "November",
          "April",
          "August",
          "January",
          "October",
          "May",
          "April",
          "December",
          "November",
          "June",
          "November",
          "January",
          "June",
          "May",
          "April",
          "October",
          "April",
          "August",
          "June",
          "May",
          "December",
          "November",
          "January",
          "January",
          "May",
          "April",
          "June",
          "November",
          "January",
          "May",
          "October",
          "April",
          "August",
          "June",
          "December",
          "July",
          "November",
          "May",
          "November",
          "June",
          "January",
          "July",
          "December",
          "March",
          "October",
          "June",
          "December",
          "December",
          "March",
          "July",
          "October",
          "June",
          "December",
          "December",
          "March",
          "July",
          "October",
          "June",
          "December",
          "December",
          "March",
          "October",
          "June",
          "July",
          "July",
          "December",
          "March",
          "December",
          "June",
          "October"
         ],
         "xaxis": "x",
         "y": [
          604800,
          738180,
          190890,
          149040,
          497610,
          301860,
          342630,
          467670,
          42000,
          836430,
          81480,
          384300,
          102480,
          148680,
          294100,
          320790,
          450840,
          537880,
          617780,
          923670,
          321300,
          467370,
          254070,
          776520,
          742500,
          512730,
          61530,
          288855,
          114240,
          290745,
          349860,
          414960,
          398790,
          99620,
          506940,
          740180,
          195330,
          129540,
          845580,
          514890,
          364500,
          368820,
          410400,
          455220,
          251790,
          160860,
          411180,
          135450,
          306600,
          450660,
          615740,
          89420,
          978180,
          143480,
          794920,
          122400,
          709830,
          550530,
          503550,
          454410,
          280260,
          457380,
          453330,
          287280,
          473550,
          508200,
          205800,
          419220,
          987020,
          558280,
          474980,
          177140,
          509320,
          914260,
          72900,
          333720,
          1131030,
          559170,
          308610,
          272580,
          206325,
          485730,
          488880,
          328860,
          269220,
          954380,
          536860,
          335240,
          459510,
          1099220,
          148410,
          239760,
          517320,
          798420,
          508640,
          637160,
          725560,
          680340,
          230310,
          668250,
          372330,
          328020,
          458010,
          326060,
          731340,
          69930,
          337500,
          390390,
          424410,
          335240,
          904060,
          147420,
          297270,
          171450,
          664200,
          114660,
          201180,
          146880,
          933980,
          808110,
          370440,
          483210,
          863940,
          343400,
          966960,
          634780,
          950400,
          447930,
          444150,
          487410,
          559650,
          528780,
          538220,
          717060,
          859860,
          927860,
          1102960,
          668250,
          386910,
          376110,
          536625,
          270270,
          399210,
          491820,
          589560,
          267580,
          294440,
          592960,
          591090,
          694980,
          854550,
          127440,
          614520,
          1139130,
          358260,
          491820,
          324450,
          187680,
          842860,
          533800,
          299200,
          964920,
          110700,
          289980,
          303210,
          126840,
          558810,
          238980,
          144900,
          491400,
          188360,
          115940,
          651440,
          225080,
          298180,
          156330,
          767880,
          786780,
          527310,
          578070,
          239820,
          587370,
          761670,
          571830,
          614040,
          811580,
          247180,
          665040,
          440235,
          483000,
          413070,
          532100,
          966960,
          559440,
          435120,
          525210,
          1317160,
          417180,
          740520,
          191970,
          149310,
          193410,
          167280,
          399500,
          301920,
          582390,
          452970,
          464940,
          426510,
          518700,
          217940,
          863730,
          166050,
          142170,
          129150,
          872780,
          392020
         ],
         "yaxis": "y"
        },
        {
         "alignmentgroup": "True",
         "hovertemplate": "<b>%{hovertext}</b><br><br>Service=Restaurant<br>mois=%{x}<br>CA=%{y}<extra></extra>",
         "hovertext": [
          "Restaurant",
          "Restaurant",
          "Restaurant",
          "Restaurant",
          "Restaurant",
          "Restaurant",
          "Restaurant",
          "Restaurant",
          "Restaurant",
          "Restaurant",
          "Restaurant",
          "Restaurant",
          "Restaurant",
          "Restaurant",
          "Restaurant",
          "Restaurant",
          "Restaurant",
          "Restaurant",
          "Restaurant",
          "Restaurant",
          "Restaurant",
          "Restaurant",
          "Restaurant",
          "Restaurant",
          "Restaurant",
          "Restaurant",
          "Restaurant",
          "Restaurant",
          "Restaurant",
          "Restaurant",
          "Restaurant",
          "Restaurant",
          "Restaurant",
          "Restaurant",
          "Restaurant",
          "Restaurant",
          "Restaurant",
          "Restaurant",
          "Restaurant",
          "Restaurant",
          "Restaurant",
          "Restaurant",
          "Restaurant",
          "Restaurant",
          "Restaurant",
          "Restaurant",
          "Restaurant",
          "Restaurant",
          "Restaurant",
          "Restaurant",
          "Restaurant",
          "Restaurant",
          "Restaurant",
          "Restaurant",
          "Restaurant",
          "Restaurant",
          "Restaurant",
          "Restaurant",
          "Restaurant",
          "Restaurant",
          "Restaurant",
          "Restaurant",
          "Restaurant",
          "Restaurant",
          "Restaurant",
          "Restaurant",
          "Restaurant",
          "Restaurant",
          "Restaurant",
          "Restaurant",
          "Restaurant",
          "Restaurant",
          "Restaurant",
          "Restaurant",
          "Restaurant",
          "Restaurant",
          "Restaurant",
          "Restaurant",
          "Restaurant",
          "Restaurant",
          "Restaurant",
          "Restaurant",
          "Restaurant",
          "Restaurant",
          "Restaurant",
          "Restaurant",
          "Restaurant",
          "Restaurant",
          "Restaurant",
          "Restaurant",
          "Restaurant",
          "Restaurant",
          "Restaurant",
          "Restaurant",
          "Restaurant",
          "Restaurant",
          "Restaurant",
          "Restaurant",
          "Restaurant",
          "Restaurant",
          "Restaurant",
          "Restaurant",
          "Restaurant",
          "Restaurant",
          "Restaurant",
          "Restaurant",
          "Restaurant",
          "Restaurant",
          "Restaurant",
          "Restaurant",
          "Restaurant",
          "Restaurant",
          "Restaurant",
          "Restaurant",
          "Restaurant",
          "Restaurant",
          "Restaurant",
          "Restaurant",
          "Restaurant",
          "Restaurant",
          "Restaurant",
          "Restaurant",
          "Restaurant",
          "Restaurant",
          "Restaurant",
          "Restaurant",
          "Restaurant",
          "Restaurant",
          "Restaurant",
          "Restaurant",
          "Restaurant",
          "Restaurant",
          "Restaurant",
          "Restaurant",
          "Restaurant",
          "Restaurant",
          "Restaurant",
          "Restaurant",
          "Restaurant",
          "Restaurant",
          "Restaurant",
          "Restaurant",
          "Restaurant",
          "Restaurant",
          "Restaurant",
          "Restaurant",
          "Restaurant",
          "Restaurant",
          "Restaurant",
          "Restaurant",
          "Restaurant",
          "Restaurant",
          "Restaurant",
          "Restaurant",
          "Restaurant",
          "Restaurant",
          "Restaurant",
          "Restaurant",
          "Restaurant",
          "Restaurant",
          "Restaurant",
          "Restaurant",
          "Restaurant",
          "Restaurant",
          "Restaurant",
          "Restaurant",
          "Restaurant",
          "Restaurant",
          "Restaurant",
          "Restaurant",
          "Restaurant",
          "Restaurant",
          "Restaurant",
          "Restaurant",
          "Restaurant",
          "Restaurant",
          "Restaurant",
          "Restaurant",
          "Restaurant",
          "Restaurant",
          "Restaurant",
          "Restaurant",
          "Restaurant",
          "Restaurant",
          "Restaurant",
          "Restaurant",
          "Restaurant",
          "Restaurant",
          "Restaurant",
          "Restaurant",
          "Restaurant",
          "Restaurant",
          "Restaurant",
          "Restaurant",
          "Restaurant",
          "Restaurant",
          "Restaurant",
          "Restaurant",
          "Restaurant",
          "Restaurant",
          "Restaurant",
          "Restaurant",
          "Restaurant",
          "Restaurant",
          "Restaurant",
          "Restaurant",
          "Restaurant",
          "Restaurant",
          "Restaurant",
          "Restaurant",
          "Restaurant",
          "Restaurant",
          "Restaurant",
          "Restaurant",
          "Restaurant",
          "Restaurant",
          "Restaurant",
          "Restaurant",
          "Restaurant",
          "Restaurant",
          "Restaurant",
          "Restaurant",
          "Restaurant",
          "Restaurant",
          "Restaurant",
          "Restaurant",
          "Restaurant",
          "Restaurant",
          "Restaurant",
          "Restaurant",
          "Restaurant",
          "Restaurant",
          "Restaurant",
          "Restaurant",
          "Restaurant",
          "Restaurant",
          "Restaurant",
          "Restaurant",
          "Restaurant",
          "Restaurant",
          "Restaurant",
          "Restaurant",
          "Restaurant",
          "Restaurant",
          "Restaurant",
          "Restaurant",
          "Restaurant",
          "Restaurant",
          "Restaurant",
          "Restaurant",
          "Restaurant",
          "Restaurant",
          "Restaurant",
          "Restaurant",
          "Restaurant",
          "Restaurant",
          "Restaurant",
          "Restaurant",
          "Restaurant",
          "Restaurant",
          "Restaurant",
          "Restaurant",
          "Restaurant",
          "Restaurant",
          "Restaurant",
          "Restaurant",
          "Restaurant",
          "Restaurant",
          "Restaurant",
          "Restaurant",
          "Restaurant",
          "Restaurant",
          "Restaurant",
          "Restaurant",
          "Restaurant",
          "Restaurant",
          "Restaurant",
          "Restaurant",
          "Restaurant",
          "Restaurant",
          "Restaurant",
          "Restaurant",
          "Restaurant",
          "Restaurant",
          "Restaurant",
          "Restaurant",
          "Restaurant",
          "Restaurant",
          "Restaurant",
          "Restaurant",
          "Restaurant",
          "Restaurant",
          "Restaurant",
          "Restaurant",
          "Restaurant"
         ],
         "legendgroup": "Restaurant",
         "marker": {
          "color": "red",
          "opacity": 0.9,
          "pattern": {
           "shape": ""
          }
         },
         "name": "Restaurant",
         "offsetgroup": "Restaurant",
         "orientation": "v",
         "showlegend": true,
         "textposition": "auto",
         "type": "bar",
         "x": [
          "April",
          "August",
          "July",
          "June",
          "March",
          "November",
          "October",
          "December",
          "January",
          "September",
          "May",
          "December",
          "February",
          "March",
          "December",
          "May",
          "July",
          "January",
          "June",
          "November",
          "April",
          "December",
          "June",
          "October",
          "April",
          "August",
          "December",
          "March",
          "November",
          "October",
          "December",
          "January",
          "May",
          "February",
          "June",
          "September",
          "January",
          "March",
          "December",
          "December",
          "May",
          "July",
          "June",
          "April",
          "November",
          "October",
          "August",
          "June",
          "October",
          "December",
          "February",
          "March",
          "November",
          "October",
          "April",
          "August",
          "January",
          "June",
          "May",
          "October",
          "September",
          "December",
          "June",
          "December",
          "March",
          "April",
          "May",
          "December",
          "January",
          "November",
          "October",
          "October",
          "August",
          "July",
          "June",
          "June",
          "April",
          "December",
          "February",
          "June",
          "March",
          "May",
          "November",
          "October",
          "December",
          "January",
          "June",
          "October",
          "September",
          "August",
          "April",
          "June",
          "March",
          "October",
          "December",
          "July",
          "October",
          "May",
          "August",
          "June",
          "November",
          "January",
          "February",
          "January",
          "November",
          "April",
          "December",
          "July",
          "September",
          "August",
          "December",
          "June",
          "March",
          "May",
          "October",
          "May",
          "December",
          "July",
          "December",
          "January",
          "March",
          "April",
          "October",
          "October",
          "August",
          "June",
          "November",
          "January",
          "November",
          "December",
          "June",
          "May",
          "October",
          "June",
          "July",
          "January",
          "May",
          "June",
          "November",
          "June",
          "October",
          "December",
          "July",
          "January",
          "November",
          "April",
          "June",
          "May",
          "July",
          "June",
          "October",
          "December",
          "May",
          "November",
          "April",
          "January",
          "June",
          "July",
          "December",
          "January",
          "May",
          "November",
          "June",
          "October",
          "June",
          "July",
          "December",
          "July",
          "June",
          "December",
          "March",
          "October",
          "December",
          "June",
          "February",
          "April",
          "October",
          "September",
          "August",
          "August",
          "October",
          "December",
          "February",
          "March",
          "September",
          "July",
          "October",
          "December",
          "July",
          "June",
          "March",
          "August",
          "October",
          "April",
          "September",
          "February",
          "September",
          "December",
          "March",
          "February",
          "December",
          "October",
          "December",
          "June",
          "March",
          "July",
          "July",
          "August",
          "October",
          "February",
          "September",
          "December",
          "October",
          "February",
          "September",
          "June",
          "March",
          "July",
          "October",
          "December",
          "July",
          "June",
          "March",
          "October",
          "August",
          "February",
          "September",
          "February",
          "June",
          "March",
          "October",
          "December",
          "September",
          "December",
          "October",
          "July",
          "June",
          "December",
          "March",
          "October",
          "April",
          "February",
          "September",
          "December",
          "September",
          "March",
          "February",
          "October",
          "August",
          "April",
          "August",
          "October",
          "February",
          "September",
          "December",
          "November",
          "June",
          "January",
          "May",
          "February",
          "April",
          "August",
          "October",
          "September",
          "November",
          "June",
          "January",
          "May",
          "February",
          "October",
          "September",
          "August",
          "November",
          "June",
          "April",
          "January",
          "May",
          "August",
          "October",
          "February",
          "September",
          "November",
          "June",
          "April",
          "January",
          "May",
          "September",
          "February",
          "April",
          "August",
          "October",
          "June",
          "November",
          "May",
          "January"
         ],
         "xaxis": "x",
         "y": [
          43380,
          143640,
          126270,
          157920,
          145680,
          42000,
          74940,
          171120,
          255060,
          124440,
          15420,
          109020,
          17520,
          36920,
          114080,
          33240,
          32760,
          64720,
          131600,
          90400,
          192500,
          79100,
          56750,
          63450,
          151920,
          161760,
          17580,
          117240,
          95640,
          103860,
          129300,
          236700,
          61800,
          78180,
          89760,
          92100,
          100840,
          71600,
          86200,
          99480,
          62520,
          31950,
          59500,
          193200,
          31950,
          108850,
          78950,
          74800,
          98800,
          91860,
          162480,
          69480,
          21420,
          14460,
          75540,
          95880,
          82320,
          81960,
          65700,
          21600,
          116040,
          90780,
          60360,
          11200,
          31680,
          103200,
          26520,
          60520,
          52840,
          133250,
          12050,
          143850,
          50050,
          65350,
          116900,
          50300,
          152100,
          73980,
          15600,
          53160,
          67320,
          171060,
          71820,
          54300,
          81720,
          145020,
          62280,
          161340,
          179580,
          52980,
          103160,
          35440,
          48400,
          55880,
          75320,
          69750,
          45250,
          18100,
          30450,
          74900,
          66650,
          74650,
          158460,
          86310,
          70620,
          269520,
          16440,
          207000,
          63360,
          40680,
          159780,
          36120,
          58380,
          139620,
          68580,
          69720,
          10960,
          101160,
          22800,
          44700,
          70440,
          30300,
          49300,
          78300,
          141600,
          175450,
          27350,
          52380,
          81960,
          114960,
          65640,
          102120,
          59840,
          43760,
          189650,
          146070,
          55080,
          26880,
          79440,
          17920,
          87240,
          42650,
          82950,
          48420,
          81540,
          84870,
          41340,
          103680,
          112440,
          27560,
          80840,
          62500,
          35460,
          129000,
          96420,
          153900,
          147600,
          32040,
          31750,
          209700,
          175080,
          174300,
          59460,
          40400,
          39640,
          123000,
          68600,
          241560,
          94980,
          163740,
          106440,
          198240,
          145860,
          151080,
          77480,
          29700,
          51800,
          57800,
          75360,
          46150,
          100450,
          121550,
          47600,
          29900,
          28350,
          145530,
          230040,
          140520,
          179280,
          161280,
          143100,
          46960,
          97640,
          169720,
          106840,
          74600,
          33150,
          52750,
          98350,
          90200,
          60780,
          65100,
          102360,
          94200,
          47700,
          210780,
          22020,
          110680,
          43400,
          44640,
          63200,
          50650,
          23600,
          40350,
          104350,
          77250,
          108050,
          34260,
          129360,
          133320,
          109380,
          39720,
          66840,
          86240,
          61600,
          29080,
          22480,
          78750,
          30200,
          25000,
          20500,
          54200,
          105500,
          54840,
          174840,
          82170,
          112140,
          167820,
          179520,
          51660,
          137820,
          74320,
          77880,
          45700,
          79800,
          73250,
          137750,
          43050,
          141050,
          96840,
          153540,
          93900,
          141780,
          13080,
          92000,
          107560,
          113760,
          19200,
          63100,
          137760,
          228060,
          126060,
          73620,
          157200,
          19600,
          87120,
          199850,
          141300,
          16680,
          70500,
          44820,
          104580,
          60520,
          35520,
          25500,
          34050,
          76500,
          119040,
          121860,
          58440,
          148320,
          111640,
          98800,
          131400,
          143050,
          12250,
          106020,
          90840,
          220500,
          131880,
          69180,
          102680,
          81200,
          39500,
          27750
         ],
         "yaxis": "y"
        }
       ],
       "layout": {
        "barmode": "group",
        "legend": {
         "title": {
          "text": "Service"
         },
         "tracegroupgap": 0
        },
        "margin": {
         "t": 60
        },
        "template": {
         "data": {
          "bar": [
           {
            "error_x": {
             "color": "#2a3f5f"
            },
            "error_y": {
             "color": "#2a3f5f"
            },
            "marker": {
             "line": {
              "color": "#E5ECF6",
              "width": 0.5
             },
             "pattern": {
              "fillmode": "overlay",
              "size": 10,
              "solidity": 0.2
             }
            },
            "type": "bar"
           }
          ],
          "barpolar": [
           {
            "marker": {
             "line": {
              "color": "#E5ECF6",
              "width": 0.5
             },
             "pattern": {
              "fillmode": "overlay",
              "size": 10,
              "solidity": 0.2
             }
            },
            "type": "barpolar"
           }
          ],
          "carpet": [
           {
            "aaxis": {
             "endlinecolor": "#2a3f5f",
             "gridcolor": "white",
             "linecolor": "white",
             "minorgridcolor": "white",
             "startlinecolor": "#2a3f5f"
            },
            "baxis": {
             "endlinecolor": "#2a3f5f",
             "gridcolor": "white",
             "linecolor": "white",
             "minorgridcolor": "white",
             "startlinecolor": "#2a3f5f"
            },
            "type": "carpet"
           }
          ],
          "choropleth": [
           {
            "colorbar": {
             "outlinewidth": 0,
             "ticks": ""
            },
            "type": "choropleth"
           }
          ],
          "contour": [
           {
            "colorbar": {
             "outlinewidth": 0,
             "ticks": ""
            },
            "colorscale": [
             [
              0,
              "#0d0887"
             ],
             [
              0.1111111111111111,
              "#46039f"
             ],
             [
              0.2222222222222222,
              "#7201a8"
             ],
             [
              0.3333333333333333,
              "#9c179e"
             ],
             [
              0.4444444444444444,
              "#bd3786"
             ],
             [
              0.5555555555555556,
              "#d8576b"
             ],
             [
              0.6666666666666666,
              "#ed7953"
             ],
             [
              0.7777777777777778,
              "#fb9f3a"
             ],
             [
              0.8888888888888888,
              "#fdca26"
             ],
             [
              1,
              "#f0f921"
             ]
            ],
            "type": "contour"
           }
          ],
          "contourcarpet": [
           {
            "colorbar": {
             "outlinewidth": 0,
             "ticks": ""
            },
            "type": "contourcarpet"
           }
          ],
          "heatmap": [
           {
            "colorbar": {
             "outlinewidth": 0,
             "ticks": ""
            },
            "colorscale": [
             [
              0,
              "#0d0887"
             ],
             [
              0.1111111111111111,
              "#46039f"
             ],
             [
              0.2222222222222222,
              "#7201a8"
             ],
             [
              0.3333333333333333,
              "#9c179e"
             ],
             [
              0.4444444444444444,
              "#bd3786"
             ],
             [
              0.5555555555555556,
              "#d8576b"
             ],
             [
              0.6666666666666666,
              "#ed7953"
             ],
             [
              0.7777777777777778,
              "#fb9f3a"
             ],
             [
              0.8888888888888888,
              "#fdca26"
             ],
             [
              1,
              "#f0f921"
             ]
            ],
            "type": "heatmap"
           }
          ],
          "heatmapgl": [
           {
            "colorbar": {
             "outlinewidth": 0,
             "ticks": ""
            },
            "colorscale": [
             [
              0,
              "#0d0887"
             ],
             [
              0.1111111111111111,
              "#46039f"
             ],
             [
              0.2222222222222222,
              "#7201a8"
             ],
             [
              0.3333333333333333,
              "#9c179e"
             ],
             [
              0.4444444444444444,
              "#bd3786"
             ],
             [
              0.5555555555555556,
              "#d8576b"
             ],
             [
              0.6666666666666666,
              "#ed7953"
             ],
             [
              0.7777777777777778,
              "#fb9f3a"
             ],
             [
              0.8888888888888888,
              "#fdca26"
             ],
             [
              1,
              "#f0f921"
             ]
            ],
            "type": "heatmapgl"
           }
          ],
          "histogram": [
           {
            "marker": {
             "pattern": {
              "fillmode": "overlay",
              "size": 10,
              "solidity": 0.2
             }
            },
            "type": "histogram"
           }
          ],
          "histogram2d": [
           {
            "colorbar": {
             "outlinewidth": 0,
             "ticks": ""
            },
            "colorscale": [
             [
              0,
              "#0d0887"
             ],
             [
              0.1111111111111111,
              "#46039f"
             ],
             [
              0.2222222222222222,
              "#7201a8"
             ],
             [
              0.3333333333333333,
              "#9c179e"
             ],
             [
              0.4444444444444444,
              "#bd3786"
             ],
             [
              0.5555555555555556,
              "#d8576b"
             ],
             [
              0.6666666666666666,
              "#ed7953"
             ],
             [
              0.7777777777777778,
              "#fb9f3a"
             ],
             [
              0.8888888888888888,
              "#fdca26"
             ],
             [
              1,
              "#f0f921"
             ]
            ],
            "type": "histogram2d"
           }
          ],
          "histogram2dcontour": [
           {
            "colorbar": {
             "outlinewidth": 0,
             "ticks": ""
            },
            "colorscale": [
             [
              0,
              "#0d0887"
             ],
             [
              0.1111111111111111,
              "#46039f"
             ],
             [
              0.2222222222222222,
              "#7201a8"
             ],
             [
              0.3333333333333333,
              "#9c179e"
             ],
             [
              0.4444444444444444,
              "#bd3786"
             ],
             [
              0.5555555555555556,
              "#d8576b"
             ],
             [
              0.6666666666666666,
              "#ed7953"
             ],
             [
              0.7777777777777778,
              "#fb9f3a"
             ],
             [
              0.8888888888888888,
              "#fdca26"
             ],
             [
              1,
              "#f0f921"
             ]
            ],
            "type": "histogram2dcontour"
           }
          ],
          "mesh3d": [
           {
            "colorbar": {
             "outlinewidth": 0,
             "ticks": ""
            },
            "type": "mesh3d"
           }
          ],
          "parcoords": [
           {
            "line": {
             "colorbar": {
              "outlinewidth": 0,
              "ticks": ""
             }
            },
            "type": "parcoords"
           }
          ],
          "pie": [
           {
            "automargin": true,
            "type": "pie"
           }
          ],
          "scatter": [
           {
            "marker": {
             "colorbar": {
              "outlinewidth": 0,
              "ticks": ""
             }
            },
            "type": "scatter"
           }
          ],
          "scatter3d": [
           {
            "line": {
             "colorbar": {
              "outlinewidth": 0,
              "ticks": ""
             }
            },
            "marker": {
             "colorbar": {
              "outlinewidth": 0,
              "ticks": ""
             }
            },
            "type": "scatter3d"
           }
          ],
          "scattercarpet": [
           {
            "marker": {
             "colorbar": {
              "outlinewidth": 0,
              "ticks": ""
             }
            },
            "type": "scattercarpet"
           }
          ],
          "scattergeo": [
           {
            "marker": {
             "colorbar": {
              "outlinewidth": 0,
              "ticks": ""
             }
            },
            "type": "scattergeo"
           }
          ],
          "scattergl": [
           {
            "marker": {
             "colorbar": {
              "outlinewidth": 0,
              "ticks": ""
             }
            },
            "type": "scattergl"
           }
          ],
          "scattermapbox": [
           {
            "marker": {
             "colorbar": {
              "outlinewidth": 0,
              "ticks": ""
             }
            },
            "type": "scattermapbox"
           }
          ],
          "scatterpolar": [
           {
            "marker": {
             "colorbar": {
              "outlinewidth": 0,
              "ticks": ""
             }
            },
            "type": "scatterpolar"
           }
          ],
          "scatterpolargl": [
           {
            "marker": {
             "colorbar": {
              "outlinewidth": 0,
              "ticks": ""
             }
            },
            "type": "scatterpolargl"
           }
          ],
          "scatterternary": [
           {
            "marker": {
             "colorbar": {
              "outlinewidth": 0,
              "ticks": ""
             }
            },
            "type": "scatterternary"
           }
          ],
          "surface": [
           {
            "colorbar": {
             "outlinewidth": 0,
             "ticks": ""
            },
            "colorscale": [
             [
              0,
              "#0d0887"
             ],
             [
              0.1111111111111111,
              "#46039f"
             ],
             [
              0.2222222222222222,
              "#7201a8"
             ],
             [
              0.3333333333333333,
              "#9c179e"
             ],
             [
              0.4444444444444444,
              "#bd3786"
             ],
             [
              0.5555555555555556,
              "#d8576b"
             ],
             [
              0.6666666666666666,
              "#ed7953"
             ],
             [
              0.7777777777777778,
              "#fb9f3a"
             ],
             [
              0.8888888888888888,
              "#fdca26"
             ],
             [
              1,
              "#f0f921"
             ]
            ],
            "type": "surface"
           }
          ],
          "table": [
           {
            "cells": {
             "fill": {
              "color": "#EBF0F8"
             },
             "line": {
              "color": "white"
             }
            },
            "header": {
             "fill": {
              "color": "#C8D4E3"
             },
             "line": {
              "color": "white"
             }
            },
            "type": "table"
           }
          ]
         },
         "layout": {
          "annotationdefaults": {
           "arrowcolor": "#2a3f5f",
           "arrowhead": 0,
           "arrowwidth": 1
          },
          "autotypenumbers": "strict",
          "coloraxis": {
           "colorbar": {
            "outlinewidth": 0,
            "ticks": ""
           }
          },
          "colorscale": {
           "diverging": [
            [
             0,
             "#8e0152"
            ],
            [
             0.1,
             "#c51b7d"
            ],
            [
             0.2,
             "#de77ae"
            ],
            [
             0.3,
             "#f1b6da"
            ],
            [
             0.4,
             "#fde0ef"
            ],
            [
             0.5,
             "#f7f7f7"
            ],
            [
             0.6,
             "#e6f5d0"
            ],
            [
             0.7,
             "#b8e186"
            ],
            [
             0.8,
             "#7fbc41"
            ],
            [
             0.9,
             "#4d9221"
            ],
            [
             1,
             "#276419"
            ]
           ],
           "sequential": [
            [
             0,
             "#0d0887"
            ],
            [
             0.1111111111111111,
             "#46039f"
            ],
            [
             0.2222222222222222,
             "#7201a8"
            ],
            [
             0.3333333333333333,
             "#9c179e"
            ],
            [
             0.4444444444444444,
             "#bd3786"
            ],
            [
             0.5555555555555556,
             "#d8576b"
            ],
            [
             0.6666666666666666,
             "#ed7953"
            ],
            [
             0.7777777777777778,
             "#fb9f3a"
            ],
            [
             0.8888888888888888,
             "#fdca26"
            ],
            [
             1,
             "#f0f921"
            ]
           ],
           "sequentialminus": [
            [
             0,
             "#0d0887"
            ],
            [
             0.1111111111111111,
             "#46039f"
            ],
            [
             0.2222222222222222,
             "#7201a8"
            ],
            [
             0.3333333333333333,
             "#9c179e"
            ],
            [
             0.4444444444444444,
             "#bd3786"
            ],
            [
             0.5555555555555556,
             "#d8576b"
            ],
            [
             0.6666666666666666,
             "#ed7953"
            ],
            [
             0.7777777777777778,
             "#fb9f3a"
            ],
            [
             0.8888888888888888,
             "#fdca26"
            ],
            [
             1,
             "#f0f921"
            ]
           ]
          },
          "colorway": [
           "#636efa",
           "#EF553B",
           "#00cc96",
           "#ab63fa",
           "#FFA15A",
           "#19d3f3",
           "#FF6692",
           "#B6E880",
           "#FF97FF",
           "#FECB52"
          ],
          "font": {
           "color": "#2a3f5f"
          },
          "geo": {
           "bgcolor": "white",
           "lakecolor": "white",
           "landcolor": "#E5ECF6",
           "showlakes": true,
           "showland": true,
           "subunitcolor": "white"
          },
          "hoverlabel": {
           "align": "left"
          },
          "hovermode": "closest",
          "mapbox": {
           "style": "light"
          },
          "paper_bgcolor": "white",
          "plot_bgcolor": "#E5ECF6",
          "polar": {
           "angularaxis": {
            "gridcolor": "white",
            "linecolor": "white",
            "ticks": ""
           },
           "bgcolor": "#E5ECF6",
           "radialaxis": {
            "gridcolor": "white",
            "linecolor": "white",
            "ticks": ""
           }
          },
          "scene": {
           "xaxis": {
            "backgroundcolor": "#E5ECF6",
            "gridcolor": "white",
            "gridwidth": 2,
            "linecolor": "white",
            "showbackground": true,
            "ticks": "",
            "zerolinecolor": "white"
           },
           "yaxis": {
            "backgroundcolor": "#E5ECF6",
            "gridcolor": "white",
            "gridwidth": 2,
            "linecolor": "white",
            "showbackground": true,
            "ticks": "",
            "zerolinecolor": "white"
           },
           "zaxis": {
            "backgroundcolor": "#E5ECF6",
            "gridcolor": "white",
            "gridwidth": 2,
            "linecolor": "white",
            "showbackground": true,
            "ticks": "",
            "zerolinecolor": "white"
           }
          },
          "shapedefaults": {
           "line": {
            "color": "#2a3f5f"
           }
          },
          "ternary": {
           "aaxis": {
            "gridcolor": "white",
            "linecolor": "white",
            "ticks": ""
           },
           "baxis": {
            "gridcolor": "white",
            "linecolor": "white",
            "ticks": ""
           },
           "bgcolor": "#E5ECF6",
           "caxis": {
            "gridcolor": "white",
            "linecolor": "white",
            "ticks": ""
           }
          },
          "title": {
           "x": 0.05
          },
          "xaxis": {
           "automargin": true,
           "gridcolor": "white",
           "linecolor": "white",
           "ticks": "",
           "title": {
            "standoff": 15
           },
           "zerolinecolor": "white",
           "zerolinewidth": 2
          },
          "yaxis": {
           "automargin": true,
           "gridcolor": "white",
           "linecolor": "white",
           "ticks": "",
           "title": {
            "standoff": 15
           },
           "zerolinecolor": "white",
           "zerolinewidth": 2
          }
         }
        },
        "xaxis": {
         "anchor": "y",
         "categoryarray": [
          "January",
          "February",
          "March",
          "April",
          "May",
          "June",
          "July",
          "August",
          "September",
          "October",
          "November",
          "December"
         ],
         "categoryorder": "array",
         "domain": [
          0,
          1
         ],
         "title": {
          "text": "mois"
         }
        },
        "yaxis": {
         "anchor": "x",
         "domain": [
          0,
          1
         ],
         "title": {
          "text": "CA"
         }
        }
       }
      },
      "text/html": [
       "<div>                            <div id=\"4a2c87b7-8f7a-41b3-bf9e-588315a8b2d4\" class=\"plotly-graph-div\" style=\"height:525px; width:100%;\"></div>            <script type=\"text/javascript\">                require([\"plotly\"], function(Plotly) {                    window.PLOTLYENV=window.PLOTLYENV || {};                                    if (document.getElementById(\"4a2c87b7-8f7a-41b3-bf9e-588315a8b2d4\")) {                    Plotly.newPlot(                        \"4a2c87b7-8f7a-41b3-bf9e-588315a8b2d4\",                        [{\"alignmentgroup\":\"True\",\"hovertemplate\":\"<b>%{hovertext}</b><br><br>Service=H\\u00f4tel<br>mois=%{x}<br>CA=%{y}<extra></extra>\",\"hovertext\":[\"H\\u00f4tel\",\"H\\u00f4tel\",\"H\\u00f4tel\",\"H\\u00f4tel\",\"H\\u00f4tel\",\"H\\u00f4tel\",\"H\\u00f4tel\",\"H\\u00f4tel\",\"H\\u00f4tel\",\"H\\u00f4tel\",\"H\\u00f4tel\",\"H\\u00f4tel\",\"H\\u00f4tel\",\"H\\u00f4tel\",\"H\\u00f4tel\",\"H\\u00f4tel\",\"H\\u00f4tel\",\"H\\u00f4tel\",\"H\\u00f4tel\",\"H\\u00f4tel\",\"H\\u00f4tel\",\"H\\u00f4tel\",\"H\\u00f4tel\",\"H\\u00f4tel\",\"H\\u00f4tel\",\"H\\u00f4tel\",\"H\\u00f4tel\",\"H\\u00f4tel\",\"H\\u00f4tel\",\"H\\u00f4tel\",\"H\\u00f4tel\",\"H\\u00f4tel\",\"H\\u00f4tel\",\"H\\u00f4tel\",\"H\\u00f4tel\",\"H\\u00f4tel\",\"H\\u00f4tel\",\"H\\u00f4tel\",\"H\\u00f4tel\",\"H\\u00f4tel\",\"H\\u00f4tel\",\"H\\u00f4tel\",\"H\\u00f4tel\",\"H\\u00f4tel\",\"H\\u00f4tel\",\"H\\u00f4tel\",\"H\\u00f4tel\",\"H\\u00f4tel\",\"H\\u00f4tel\",\"H\\u00f4tel\",\"H\\u00f4tel\",\"H\\u00f4tel\",\"H\\u00f4tel\",\"H\\u00f4tel\",\"H\\u00f4tel\",\"H\\u00f4tel\",\"H\\u00f4tel\",\"H\\u00f4tel\",\"H\\u00f4tel\",\"H\\u00f4tel\",\"H\\u00f4tel\",\"H\\u00f4tel\",\"H\\u00f4tel\",\"H\\u00f4tel\",\"H\\u00f4tel\",\"H\\u00f4tel\",\"H\\u00f4tel\",\"H\\u00f4tel\",\"H\\u00f4tel\",\"H\\u00f4tel\",\"H\\u00f4tel\",\"H\\u00f4tel\",\"H\\u00f4tel\",\"H\\u00f4tel\",\"H\\u00f4tel\",\"H\\u00f4tel\",\"H\\u00f4tel\",\"H\\u00f4tel\",\"H\\u00f4tel\",\"H\\u00f4tel\",\"H\\u00f4tel\",\"H\\u00f4tel\",\"H\\u00f4tel\",\"H\\u00f4tel\",\"H\\u00f4tel\",\"H\\u00f4tel\",\"H\\u00f4tel\",\"H\\u00f4tel\",\"H\\u00f4tel\",\"H\\u00f4tel\",\"H\\u00f4tel\",\"H\\u00f4tel\",\"H\\u00f4tel\",\"H\\u00f4tel\",\"H\\u00f4tel\",\"H\\u00f4tel\",\"H\\u00f4tel\",\"H\\u00f4tel\",\"H\\u00f4tel\",\"H\\u00f4tel\",\"H\\u00f4tel\",\"H\\u00f4tel\",\"H\\u00f4tel\",\"H\\u00f4tel\",\"H\\u00f4tel\",\"H\\u00f4tel\",\"H\\u00f4tel\",\"H\\u00f4tel\",\"H\\u00f4tel\",\"H\\u00f4tel\",\"H\\u00f4tel\",\"H\\u00f4tel\",\"H\\u00f4tel\",\"H\\u00f4tel\",\"H\\u00f4tel\",\"H\\u00f4tel\",\"H\\u00f4tel\",\"H\\u00f4tel\",\"H\\u00f4tel\",\"H\\u00f4tel\",\"H\\u00f4tel\",\"H\\u00f4tel\",\"H\\u00f4tel\",\"H\\u00f4tel\",\"H\\u00f4tel\",\"H\\u00f4tel\",\"H\\u00f4tel\",\"H\\u00f4tel\",\"H\\u00f4tel\",\"H\\u00f4tel\",\"H\\u00f4tel\",\"H\\u00f4tel\",\"H\\u00f4tel\",\"H\\u00f4tel\",\"H\\u00f4tel\",\"H\\u00f4tel\",\"H\\u00f4tel\",\"H\\u00f4tel\",\"H\\u00f4tel\",\"H\\u00f4tel\",\"H\\u00f4tel\",\"H\\u00f4tel\",\"H\\u00f4tel\",\"H\\u00f4tel\",\"H\\u00f4tel\",\"H\\u00f4tel\",\"H\\u00f4tel\",\"H\\u00f4tel\",\"H\\u00f4tel\",\"H\\u00f4tel\",\"H\\u00f4tel\",\"H\\u00f4tel\",\"H\\u00f4tel\",\"H\\u00f4tel\",\"H\\u00f4tel\",\"H\\u00f4tel\",\"H\\u00f4tel\",\"H\\u00f4tel\",\"H\\u00f4tel\",\"H\\u00f4tel\",\"H\\u00f4tel\",\"H\\u00f4tel\",\"H\\u00f4tel\",\"H\\u00f4tel\",\"H\\u00f4tel\",\"H\\u00f4tel\",\"H\\u00f4tel\",\"H\\u00f4tel\",\"H\\u00f4tel\",\"H\\u00f4tel\",\"H\\u00f4tel\",\"H\\u00f4tel\",\"H\\u00f4tel\",\"H\\u00f4tel\",\"H\\u00f4tel\",\"H\\u00f4tel\",\"H\\u00f4tel\",\"H\\u00f4tel\",\"H\\u00f4tel\",\"H\\u00f4tel\",\"H\\u00f4tel\",\"H\\u00f4tel\",\"H\\u00f4tel\",\"H\\u00f4tel\",\"H\\u00f4tel\",\"H\\u00f4tel\",\"H\\u00f4tel\",\"H\\u00f4tel\",\"H\\u00f4tel\",\"H\\u00f4tel\",\"H\\u00f4tel\",\"H\\u00f4tel\",\"H\\u00f4tel\",\"H\\u00f4tel\",\"H\\u00f4tel\",\"H\\u00f4tel\",\"H\\u00f4tel\",\"H\\u00f4tel\",\"H\\u00f4tel\",\"H\\u00f4tel\",\"H\\u00f4tel\",\"H\\u00f4tel\",\"H\\u00f4tel\",\"H\\u00f4tel\",\"H\\u00f4tel\",\"H\\u00f4tel\",\"H\\u00f4tel\",\"H\\u00f4tel\",\"H\\u00f4tel\",\"H\\u00f4tel\",\"H\\u00f4tel\",\"H\\u00f4tel\",\"H\\u00f4tel\",\"H\\u00f4tel\",\"H\\u00f4tel\",\"H\\u00f4tel\",\"H\\u00f4tel\"],\"legendgroup\":\"H\\u00f4tel\",\"marker\":{\"color\":\"green\",\"opacity\":0.9,\"pattern\":{\"shape\":\"\"}},\"name\":\"H\\u00f4tel\",\"offsetgroup\":\"H\\u00f4tel\",\"orientation\":\"v\",\"showlegend\":true,\"textposition\":\"auto\",\"x\":[\"February\",\"October\",\"September\",\"August\",\"June\",\"November\",\"October\",\"January\",\"May\",\"October\",\"September\",\"August\",\"February\",\"June\",\"July\",\"April\",\"March\",\"December\",\"December\",\"July\",\"June\",\"October\",\"November\",\"September\",\"February\",\"June\",\"February\",\"July\",\"September\",\"January\",\"May\",\"October\",\"June\",\"December\",\"March\",\"October\",\"April\",\"August\",\"December\",\"September\",\"February\",\"June\",\"November\",\"July\",\"April\",\"January\",\"February\",\"July\",\"May\",\"September\",\"December\",\"March\",\"October\",\"August\",\"June\",\"October\",\"January\",\"May\",\"February\",\"July\",\"June\",\"November\",\"September\",\"February\",\"July\",\"September\",\"April\",\"December\",\"March\",\"August\",\"October\",\"December\",\"June\",\"October\",\"February\",\"November\",\"June\",\"September\",\"October\",\"February\",\"January\",\"May\",\"September\",\"October\",\"June\",\"August\",\"March\",\"October\",\"April\",\"December\",\"July\",\"March\",\"December\",\"April\",\"October\",\"August\",\"September\",\"February\",\"December\",\"March\",\"April\",\"August\",\"October\",\"February\",\"September\",\"March\",\"December\",\"August\",\"October\",\"September\",\"February\",\"October\",\"March\",\"December\",\"June\",\"October\",\"August\",\"September\",\"February\",\"March\",\"December\",\"April\",\"August\",\"October\",\"February\",\"September\",\"April\",\"January\",\"May\",\"November\",\"July\",\"June\",\"June\",\"May\",\"November\",\"December\",\"January\",\"August\",\"May\",\"October\",\"January\",\"December\",\"June\",\"November\",\"January\",\"June\",\"May\",\"November\",\"April\",\"August\",\"January\",\"October\",\"May\",\"April\",\"December\",\"November\",\"June\",\"November\",\"January\",\"June\",\"May\",\"April\",\"October\",\"April\",\"August\",\"June\",\"May\",\"December\",\"November\",\"January\",\"January\",\"May\",\"April\",\"June\",\"November\",\"January\",\"May\",\"October\",\"April\",\"August\",\"June\",\"December\",\"July\",\"November\",\"May\",\"November\",\"June\",\"January\",\"July\",\"December\",\"March\",\"October\",\"June\",\"December\",\"December\",\"March\",\"July\",\"October\",\"June\",\"December\",\"December\",\"March\",\"July\",\"October\",\"June\",\"December\",\"December\",\"March\",\"October\",\"June\",\"July\",\"July\",\"December\",\"March\",\"December\",\"June\",\"October\"],\"xaxis\":\"x\",\"y\":[604800,738180,190890,149040,497610,301860,342630,467670,42000,836430,81480,384300,102480,148680,294100,320790,450840,537880,617780,923670,321300,467370,254070,776520,742500,512730,61530,288855,114240,290745,349860,414960,398790,99620,506940,740180,195330,129540,845580,514890,364500,368820,410400,455220,251790,160860,411180,135450,306600,450660,615740,89420,978180,143480,794920,122400,709830,550530,503550,454410,280260,457380,453330,287280,473550,508200,205800,419220,987020,558280,474980,177140,509320,914260,72900,333720,1131030,559170,308610,272580,206325,485730,488880,328860,269220,954380,536860,335240,459510,1099220,148410,239760,517320,798420,508640,637160,725560,680340,230310,668250,372330,328020,458010,326060,731340,69930,337500,390390,424410,335240,904060,147420,297270,171450,664200,114660,201180,146880,933980,808110,370440,483210,863940,343400,966960,634780,950400,447930,444150,487410,559650,528780,538220,717060,859860,927860,1102960,668250,386910,376110,536625,270270,399210,491820,589560,267580,294440,592960,591090,694980,854550,127440,614520,1139130,358260,491820,324450,187680,842860,533800,299200,964920,110700,289980,303210,126840,558810,238980,144900,491400,188360,115940,651440,225080,298180,156330,767880,786780,527310,578070,239820,587370,761670,571830,614040,811580,247180,665040,440235,483000,413070,532100,966960,559440,435120,525210,1317160,417180,740520,191970,149310,193410,167280,399500,301920,582390,452970,464940,426510,518700,217940,863730,166050,142170,129150,872780,392020],\"yaxis\":\"y\",\"type\":\"bar\"},{\"alignmentgroup\":\"True\",\"hovertemplate\":\"<b>%{hovertext}</b><br><br>Service=Restaurant<br>mois=%{x}<br>CA=%{y}<extra></extra>\",\"hovertext\":[\"Restaurant\",\"Restaurant\",\"Restaurant\",\"Restaurant\",\"Restaurant\",\"Restaurant\",\"Restaurant\",\"Restaurant\",\"Restaurant\",\"Restaurant\",\"Restaurant\",\"Restaurant\",\"Restaurant\",\"Restaurant\",\"Restaurant\",\"Restaurant\",\"Restaurant\",\"Restaurant\",\"Restaurant\",\"Restaurant\",\"Restaurant\",\"Restaurant\",\"Restaurant\",\"Restaurant\",\"Restaurant\",\"Restaurant\",\"Restaurant\",\"Restaurant\",\"Restaurant\",\"Restaurant\",\"Restaurant\",\"Restaurant\",\"Restaurant\",\"Restaurant\",\"Restaurant\",\"Restaurant\",\"Restaurant\",\"Restaurant\",\"Restaurant\",\"Restaurant\",\"Restaurant\",\"Restaurant\",\"Restaurant\",\"Restaurant\",\"Restaurant\",\"Restaurant\",\"Restaurant\",\"Restaurant\",\"Restaurant\",\"Restaurant\",\"Restaurant\",\"Restaurant\",\"Restaurant\",\"Restaurant\",\"Restaurant\",\"Restaurant\",\"Restaurant\",\"Restaurant\",\"Restaurant\",\"Restaurant\",\"Restaurant\",\"Restaurant\",\"Restaurant\",\"Restaurant\",\"Restaurant\",\"Restaurant\",\"Restaurant\",\"Restaurant\",\"Restaurant\",\"Restaurant\",\"Restaurant\",\"Restaurant\",\"Restaurant\",\"Restaurant\",\"Restaurant\",\"Restaurant\",\"Restaurant\",\"Restaurant\",\"Restaurant\",\"Restaurant\",\"Restaurant\",\"Restaurant\",\"Restaurant\",\"Restaurant\",\"Restaurant\",\"Restaurant\",\"Restaurant\",\"Restaurant\",\"Restaurant\",\"Restaurant\",\"Restaurant\",\"Restaurant\",\"Restaurant\",\"Restaurant\",\"Restaurant\",\"Restaurant\",\"Restaurant\",\"Restaurant\",\"Restaurant\",\"Restaurant\",\"Restaurant\",\"Restaurant\",\"Restaurant\",\"Restaurant\",\"Restaurant\",\"Restaurant\",\"Restaurant\",\"Restaurant\",\"Restaurant\",\"Restaurant\",\"Restaurant\",\"Restaurant\",\"Restaurant\",\"Restaurant\",\"Restaurant\",\"Restaurant\",\"Restaurant\",\"Restaurant\",\"Restaurant\",\"Restaurant\",\"Restaurant\",\"Restaurant\",\"Restaurant\",\"Restaurant\",\"Restaurant\",\"Restaurant\",\"Restaurant\",\"Restaurant\",\"Restaurant\",\"Restaurant\",\"Restaurant\",\"Restaurant\",\"Restaurant\",\"Restaurant\",\"Restaurant\",\"Restaurant\",\"Restaurant\",\"Restaurant\",\"Restaurant\",\"Restaurant\",\"Restaurant\",\"Restaurant\",\"Restaurant\",\"Restaurant\",\"Restaurant\",\"Restaurant\",\"Restaurant\",\"Restaurant\",\"Restaurant\",\"Restaurant\",\"Restaurant\",\"Restaurant\",\"Restaurant\",\"Restaurant\",\"Restaurant\",\"Restaurant\",\"Restaurant\",\"Restaurant\",\"Restaurant\",\"Restaurant\",\"Restaurant\",\"Restaurant\",\"Restaurant\",\"Restaurant\",\"Restaurant\",\"Restaurant\",\"Restaurant\",\"Restaurant\",\"Restaurant\",\"Restaurant\",\"Restaurant\",\"Restaurant\",\"Restaurant\",\"Restaurant\",\"Restaurant\",\"Restaurant\",\"Restaurant\",\"Restaurant\",\"Restaurant\",\"Restaurant\",\"Restaurant\",\"Restaurant\",\"Restaurant\",\"Restaurant\",\"Restaurant\",\"Restaurant\",\"Restaurant\",\"Restaurant\",\"Restaurant\",\"Restaurant\",\"Restaurant\",\"Restaurant\",\"Restaurant\",\"Restaurant\",\"Restaurant\",\"Restaurant\",\"Restaurant\",\"Restaurant\",\"Restaurant\",\"Restaurant\",\"Restaurant\",\"Restaurant\",\"Restaurant\",\"Restaurant\",\"Restaurant\",\"Restaurant\",\"Restaurant\",\"Restaurant\",\"Restaurant\",\"Restaurant\",\"Restaurant\",\"Restaurant\",\"Restaurant\",\"Restaurant\",\"Restaurant\",\"Restaurant\",\"Restaurant\",\"Restaurant\",\"Restaurant\",\"Restaurant\",\"Restaurant\",\"Restaurant\",\"Restaurant\",\"Restaurant\",\"Restaurant\",\"Restaurant\",\"Restaurant\",\"Restaurant\",\"Restaurant\",\"Restaurant\",\"Restaurant\",\"Restaurant\",\"Restaurant\",\"Restaurant\",\"Restaurant\",\"Restaurant\",\"Restaurant\",\"Restaurant\",\"Restaurant\",\"Restaurant\",\"Restaurant\",\"Restaurant\",\"Restaurant\",\"Restaurant\",\"Restaurant\",\"Restaurant\",\"Restaurant\",\"Restaurant\",\"Restaurant\",\"Restaurant\",\"Restaurant\",\"Restaurant\",\"Restaurant\",\"Restaurant\",\"Restaurant\",\"Restaurant\",\"Restaurant\",\"Restaurant\",\"Restaurant\",\"Restaurant\",\"Restaurant\",\"Restaurant\",\"Restaurant\",\"Restaurant\",\"Restaurant\",\"Restaurant\",\"Restaurant\",\"Restaurant\",\"Restaurant\",\"Restaurant\",\"Restaurant\",\"Restaurant\",\"Restaurant\",\"Restaurant\",\"Restaurant\",\"Restaurant\",\"Restaurant\",\"Restaurant\",\"Restaurant\",\"Restaurant\",\"Restaurant\",\"Restaurant\",\"Restaurant\",\"Restaurant\",\"Restaurant\",\"Restaurant\",\"Restaurant\",\"Restaurant\",\"Restaurant\",\"Restaurant\",\"Restaurant\",\"Restaurant\",\"Restaurant\",\"Restaurant\",\"Restaurant\"],\"legendgroup\":\"Restaurant\",\"marker\":{\"color\":\"red\",\"opacity\":0.9,\"pattern\":{\"shape\":\"\"}},\"name\":\"Restaurant\",\"offsetgroup\":\"Restaurant\",\"orientation\":\"v\",\"showlegend\":true,\"textposition\":\"auto\",\"x\":[\"April\",\"August\",\"July\",\"June\",\"March\",\"November\",\"October\",\"December\",\"January\",\"September\",\"May\",\"December\",\"February\",\"March\",\"December\",\"May\",\"July\",\"January\",\"June\",\"November\",\"April\",\"December\",\"June\",\"October\",\"April\",\"August\",\"December\",\"March\",\"November\",\"October\",\"December\",\"January\",\"May\",\"February\",\"June\",\"September\",\"January\",\"March\",\"December\",\"December\",\"May\",\"July\",\"June\",\"April\",\"November\",\"October\",\"August\",\"June\",\"October\",\"December\",\"February\",\"March\",\"November\",\"October\",\"April\",\"August\",\"January\",\"June\",\"May\",\"October\",\"September\",\"December\",\"June\",\"December\",\"March\",\"April\",\"May\",\"December\",\"January\",\"November\",\"October\",\"October\",\"August\",\"July\",\"June\",\"June\",\"April\",\"December\",\"February\",\"June\",\"March\",\"May\",\"November\",\"October\",\"December\",\"January\",\"June\",\"October\",\"September\",\"August\",\"April\",\"June\",\"March\",\"October\",\"December\",\"July\",\"October\",\"May\",\"August\",\"June\",\"November\",\"January\",\"February\",\"January\",\"November\",\"April\",\"December\",\"July\",\"September\",\"August\",\"December\",\"June\",\"March\",\"May\",\"October\",\"May\",\"December\",\"July\",\"December\",\"January\",\"March\",\"April\",\"October\",\"October\",\"August\",\"June\",\"November\",\"January\",\"November\",\"December\",\"June\",\"May\",\"October\",\"June\",\"July\",\"January\",\"May\",\"June\",\"November\",\"June\",\"October\",\"December\",\"July\",\"January\",\"November\",\"April\",\"June\",\"May\",\"July\",\"June\",\"October\",\"December\",\"May\",\"November\",\"April\",\"January\",\"June\",\"July\",\"December\",\"January\",\"May\",\"November\",\"June\",\"October\",\"June\",\"July\",\"December\",\"July\",\"June\",\"December\",\"March\",\"October\",\"December\",\"June\",\"February\",\"April\",\"October\",\"September\",\"August\",\"August\",\"October\",\"December\",\"February\",\"March\",\"September\",\"July\",\"October\",\"December\",\"July\",\"June\",\"March\",\"August\",\"October\",\"April\",\"September\",\"February\",\"September\",\"December\",\"March\",\"February\",\"December\",\"October\",\"December\",\"June\",\"March\",\"July\",\"July\",\"August\",\"October\",\"February\",\"September\",\"December\",\"October\",\"February\",\"September\",\"June\",\"March\",\"July\",\"October\",\"December\",\"July\",\"June\",\"March\",\"October\",\"August\",\"February\",\"September\",\"February\",\"June\",\"March\",\"October\",\"December\",\"September\",\"December\",\"October\",\"July\",\"June\",\"December\",\"March\",\"October\",\"April\",\"February\",\"September\",\"December\",\"September\",\"March\",\"February\",\"October\",\"August\",\"April\",\"August\",\"October\",\"February\",\"September\",\"December\",\"November\",\"June\",\"January\",\"May\",\"February\",\"April\",\"August\",\"October\",\"September\",\"November\",\"June\",\"January\",\"May\",\"February\",\"October\",\"September\",\"August\",\"November\",\"June\",\"April\",\"January\",\"May\",\"August\",\"October\",\"February\",\"September\",\"November\",\"June\",\"April\",\"January\",\"May\",\"September\",\"February\",\"April\",\"August\",\"October\",\"June\",\"November\",\"May\",\"January\"],\"xaxis\":\"x\",\"y\":[43380,143640,126270,157920,145680,42000,74940,171120,255060,124440,15420,109020,17520,36920,114080,33240,32760,64720,131600,90400,192500,79100,56750,63450,151920,161760,17580,117240,95640,103860,129300,236700,61800,78180,89760,92100,100840,71600,86200,99480,62520,31950,59500,193200,31950,108850,78950,74800,98800,91860,162480,69480,21420,14460,75540,95880,82320,81960,65700,21600,116040,90780,60360,11200,31680,103200,26520,60520,52840,133250,12050,143850,50050,65350,116900,50300,152100,73980,15600,53160,67320,171060,71820,54300,81720,145020,62280,161340,179580,52980,103160,35440,48400,55880,75320,69750,45250,18100,30450,74900,66650,74650,158460,86310,70620,269520,16440,207000,63360,40680,159780,36120,58380,139620,68580,69720,10960,101160,22800,44700,70440,30300,49300,78300,141600,175450,27350,52380,81960,114960,65640,102120,59840,43760,189650,146070,55080,26880,79440,17920,87240,42650,82950,48420,81540,84870,41340,103680,112440,27560,80840,62500,35460,129000,96420,153900,147600,32040,31750,209700,175080,174300,59460,40400,39640,123000,68600,241560,94980,163740,106440,198240,145860,151080,77480,29700,51800,57800,75360,46150,100450,121550,47600,29900,28350,145530,230040,140520,179280,161280,143100,46960,97640,169720,106840,74600,33150,52750,98350,90200,60780,65100,102360,94200,47700,210780,22020,110680,43400,44640,63200,50650,23600,40350,104350,77250,108050,34260,129360,133320,109380,39720,66840,86240,61600,29080,22480,78750,30200,25000,20500,54200,105500,54840,174840,82170,112140,167820,179520,51660,137820,74320,77880,45700,79800,73250,137750,43050,141050,96840,153540,93900,141780,13080,92000,107560,113760,19200,63100,137760,228060,126060,73620,157200,19600,87120,199850,141300,16680,70500,44820,104580,60520,35520,25500,34050,76500,119040,121860,58440,148320,111640,98800,131400,143050,12250,106020,90840,220500,131880,69180,102680,81200,39500,27750],\"yaxis\":\"y\",\"type\":\"bar\"}],                        {\"template\":{\"data\":{\"bar\":[{\"error_x\":{\"color\":\"#2a3f5f\"},\"error_y\":{\"color\":\"#2a3f5f\"},\"marker\":{\"line\":{\"color\":\"#E5ECF6\",\"width\":0.5},\"pattern\":{\"fillmode\":\"overlay\",\"size\":10,\"solidity\":0.2}},\"type\":\"bar\"}],\"barpolar\":[{\"marker\":{\"line\":{\"color\":\"#E5ECF6\",\"width\":0.5},\"pattern\":{\"fillmode\":\"overlay\",\"size\":10,\"solidity\":0.2}},\"type\":\"barpolar\"}],\"carpet\":[{\"aaxis\":{\"endlinecolor\":\"#2a3f5f\",\"gridcolor\":\"white\",\"linecolor\":\"white\",\"minorgridcolor\":\"white\",\"startlinecolor\":\"#2a3f5f\"},\"baxis\":{\"endlinecolor\":\"#2a3f5f\",\"gridcolor\":\"white\",\"linecolor\":\"white\",\"minorgridcolor\":\"white\",\"startlinecolor\":\"#2a3f5f\"},\"type\":\"carpet\"}],\"choropleth\":[{\"colorbar\":{\"outlinewidth\":0,\"ticks\":\"\"},\"type\":\"choropleth\"}],\"contour\":[{\"colorbar\":{\"outlinewidth\":0,\"ticks\":\"\"},\"colorscale\":[[0.0,\"#0d0887\"],[0.1111111111111111,\"#46039f\"],[0.2222222222222222,\"#7201a8\"],[0.3333333333333333,\"#9c179e\"],[0.4444444444444444,\"#bd3786\"],[0.5555555555555556,\"#d8576b\"],[0.6666666666666666,\"#ed7953\"],[0.7777777777777778,\"#fb9f3a\"],[0.8888888888888888,\"#fdca26\"],[1.0,\"#f0f921\"]],\"type\":\"contour\"}],\"contourcarpet\":[{\"colorbar\":{\"outlinewidth\":0,\"ticks\":\"\"},\"type\":\"contourcarpet\"}],\"heatmap\":[{\"colorbar\":{\"outlinewidth\":0,\"ticks\":\"\"},\"colorscale\":[[0.0,\"#0d0887\"],[0.1111111111111111,\"#46039f\"],[0.2222222222222222,\"#7201a8\"],[0.3333333333333333,\"#9c179e\"],[0.4444444444444444,\"#bd3786\"],[0.5555555555555556,\"#d8576b\"],[0.6666666666666666,\"#ed7953\"],[0.7777777777777778,\"#fb9f3a\"],[0.8888888888888888,\"#fdca26\"],[1.0,\"#f0f921\"]],\"type\":\"heatmap\"}],\"heatmapgl\":[{\"colorbar\":{\"outlinewidth\":0,\"ticks\":\"\"},\"colorscale\":[[0.0,\"#0d0887\"],[0.1111111111111111,\"#46039f\"],[0.2222222222222222,\"#7201a8\"],[0.3333333333333333,\"#9c179e\"],[0.4444444444444444,\"#bd3786\"],[0.5555555555555556,\"#d8576b\"],[0.6666666666666666,\"#ed7953\"],[0.7777777777777778,\"#fb9f3a\"],[0.8888888888888888,\"#fdca26\"],[1.0,\"#f0f921\"]],\"type\":\"heatmapgl\"}],\"histogram\":[{\"marker\":{\"pattern\":{\"fillmode\":\"overlay\",\"size\":10,\"solidity\":0.2}},\"type\":\"histogram\"}],\"histogram2d\":[{\"colorbar\":{\"outlinewidth\":0,\"ticks\":\"\"},\"colorscale\":[[0.0,\"#0d0887\"],[0.1111111111111111,\"#46039f\"],[0.2222222222222222,\"#7201a8\"],[0.3333333333333333,\"#9c179e\"],[0.4444444444444444,\"#bd3786\"],[0.5555555555555556,\"#d8576b\"],[0.6666666666666666,\"#ed7953\"],[0.7777777777777778,\"#fb9f3a\"],[0.8888888888888888,\"#fdca26\"],[1.0,\"#f0f921\"]],\"type\":\"histogram2d\"}],\"histogram2dcontour\":[{\"colorbar\":{\"outlinewidth\":0,\"ticks\":\"\"},\"colorscale\":[[0.0,\"#0d0887\"],[0.1111111111111111,\"#46039f\"],[0.2222222222222222,\"#7201a8\"],[0.3333333333333333,\"#9c179e\"],[0.4444444444444444,\"#bd3786\"],[0.5555555555555556,\"#d8576b\"],[0.6666666666666666,\"#ed7953\"],[0.7777777777777778,\"#fb9f3a\"],[0.8888888888888888,\"#fdca26\"],[1.0,\"#f0f921\"]],\"type\":\"histogram2dcontour\"}],\"mesh3d\":[{\"colorbar\":{\"outlinewidth\":0,\"ticks\":\"\"},\"type\":\"mesh3d\"}],\"parcoords\":[{\"line\":{\"colorbar\":{\"outlinewidth\":0,\"ticks\":\"\"}},\"type\":\"parcoords\"}],\"pie\":[{\"automargin\":true,\"type\":\"pie\"}],\"scatter\":[{\"marker\":{\"colorbar\":{\"outlinewidth\":0,\"ticks\":\"\"}},\"type\":\"scatter\"}],\"scatter3d\":[{\"line\":{\"colorbar\":{\"outlinewidth\":0,\"ticks\":\"\"}},\"marker\":{\"colorbar\":{\"outlinewidth\":0,\"ticks\":\"\"}},\"type\":\"scatter3d\"}],\"scattercarpet\":[{\"marker\":{\"colorbar\":{\"outlinewidth\":0,\"ticks\":\"\"}},\"type\":\"scattercarpet\"}],\"scattergeo\":[{\"marker\":{\"colorbar\":{\"outlinewidth\":0,\"ticks\":\"\"}},\"type\":\"scattergeo\"}],\"scattergl\":[{\"marker\":{\"colorbar\":{\"outlinewidth\":0,\"ticks\":\"\"}},\"type\":\"scattergl\"}],\"scattermapbox\":[{\"marker\":{\"colorbar\":{\"outlinewidth\":0,\"ticks\":\"\"}},\"type\":\"scattermapbox\"}],\"scatterpolar\":[{\"marker\":{\"colorbar\":{\"outlinewidth\":0,\"ticks\":\"\"}},\"type\":\"scatterpolar\"}],\"scatterpolargl\":[{\"marker\":{\"colorbar\":{\"outlinewidth\":0,\"ticks\":\"\"}},\"type\":\"scatterpolargl\"}],\"scatterternary\":[{\"marker\":{\"colorbar\":{\"outlinewidth\":0,\"ticks\":\"\"}},\"type\":\"scatterternary\"}],\"surface\":[{\"colorbar\":{\"outlinewidth\":0,\"ticks\":\"\"},\"colorscale\":[[0.0,\"#0d0887\"],[0.1111111111111111,\"#46039f\"],[0.2222222222222222,\"#7201a8\"],[0.3333333333333333,\"#9c179e\"],[0.4444444444444444,\"#bd3786\"],[0.5555555555555556,\"#d8576b\"],[0.6666666666666666,\"#ed7953\"],[0.7777777777777778,\"#fb9f3a\"],[0.8888888888888888,\"#fdca26\"],[1.0,\"#f0f921\"]],\"type\":\"surface\"}],\"table\":[{\"cells\":{\"fill\":{\"color\":\"#EBF0F8\"},\"line\":{\"color\":\"white\"}},\"header\":{\"fill\":{\"color\":\"#C8D4E3\"},\"line\":{\"color\":\"white\"}},\"type\":\"table\"}]},\"layout\":{\"annotationdefaults\":{\"arrowcolor\":\"#2a3f5f\",\"arrowhead\":0,\"arrowwidth\":1},\"autotypenumbers\":\"strict\",\"coloraxis\":{\"colorbar\":{\"outlinewidth\":0,\"ticks\":\"\"}},\"colorscale\":{\"diverging\":[[0,\"#8e0152\"],[0.1,\"#c51b7d\"],[0.2,\"#de77ae\"],[0.3,\"#f1b6da\"],[0.4,\"#fde0ef\"],[0.5,\"#f7f7f7\"],[0.6,\"#e6f5d0\"],[0.7,\"#b8e186\"],[0.8,\"#7fbc41\"],[0.9,\"#4d9221\"],[1,\"#276419\"]],\"sequential\":[[0.0,\"#0d0887\"],[0.1111111111111111,\"#46039f\"],[0.2222222222222222,\"#7201a8\"],[0.3333333333333333,\"#9c179e\"],[0.4444444444444444,\"#bd3786\"],[0.5555555555555556,\"#d8576b\"],[0.6666666666666666,\"#ed7953\"],[0.7777777777777778,\"#fb9f3a\"],[0.8888888888888888,\"#fdca26\"],[1.0,\"#f0f921\"]],\"sequentialminus\":[[0.0,\"#0d0887\"],[0.1111111111111111,\"#46039f\"],[0.2222222222222222,\"#7201a8\"],[0.3333333333333333,\"#9c179e\"],[0.4444444444444444,\"#bd3786\"],[0.5555555555555556,\"#d8576b\"],[0.6666666666666666,\"#ed7953\"],[0.7777777777777778,\"#fb9f3a\"],[0.8888888888888888,\"#fdca26\"],[1.0,\"#f0f921\"]]},\"colorway\":[\"#636efa\",\"#EF553B\",\"#00cc96\",\"#ab63fa\",\"#FFA15A\",\"#19d3f3\",\"#FF6692\",\"#B6E880\",\"#FF97FF\",\"#FECB52\"],\"font\":{\"color\":\"#2a3f5f\"},\"geo\":{\"bgcolor\":\"white\",\"lakecolor\":\"white\",\"landcolor\":\"#E5ECF6\",\"showlakes\":true,\"showland\":true,\"subunitcolor\":\"white\"},\"hoverlabel\":{\"align\":\"left\"},\"hovermode\":\"closest\",\"mapbox\":{\"style\":\"light\"},\"paper_bgcolor\":\"white\",\"plot_bgcolor\":\"#E5ECF6\",\"polar\":{\"angularaxis\":{\"gridcolor\":\"white\",\"linecolor\":\"white\",\"ticks\":\"\"},\"bgcolor\":\"#E5ECF6\",\"radialaxis\":{\"gridcolor\":\"white\",\"linecolor\":\"white\",\"ticks\":\"\"}},\"scene\":{\"xaxis\":{\"backgroundcolor\":\"#E5ECF6\",\"gridcolor\":\"white\",\"gridwidth\":2,\"linecolor\":\"white\",\"showbackground\":true,\"ticks\":\"\",\"zerolinecolor\":\"white\"},\"yaxis\":{\"backgroundcolor\":\"#E5ECF6\",\"gridcolor\":\"white\",\"gridwidth\":2,\"linecolor\":\"white\",\"showbackground\":true,\"ticks\":\"\",\"zerolinecolor\":\"white\"},\"zaxis\":{\"backgroundcolor\":\"#E5ECF6\",\"gridcolor\":\"white\",\"gridwidth\":2,\"linecolor\":\"white\",\"showbackground\":true,\"ticks\":\"\",\"zerolinecolor\":\"white\"}},\"shapedefaults\":{\"line\":{\"color\":\"#2a3f5f\"}},\"ternary\":{\"aaxis\":{\"gridcolor\":\"white\",\"linecolor\":\"white\",\"ticks\":\"\"},\"baxis\":{\"gridcolor\":\"white\",\"linecolor\":\"white\",\"ticks\":\"\"},\"bgcolor\":\"#E5ECF6\",\"caxis\":{\"gridcolor\":\"white\",\"linecolor\":\"white\",\"ticks\":\"\"}},\"title\":{\"x\":0.05},\"xaxis\":{\"automargin\":true,\"gridcolor\":\"white\",\"linecolor\":\"white\",\"ticks\":\"\",\"title\":{\"standoff\":15},\"zerolinecolor\":\"white\",\"zerolinewidth\":2},\"yaxis\":{\"automargin\":true,\"gridcolor\":\"white\",\"linecolor\":\"white\",\"ticks\":\"\",\"title\":{\"standoff\":15},\"zerolinecolor\":\"white\",\"zerolinewidth\":2}}},\"xaxis\":{\"anchor\":\"y\",\"domain\":[0.0,1.0],\"title\":{\"text\":\"mois\"},\"categoryorder\":\"array\",\"categoryarray\":[\"January\",\"February\",\"March\",\"April\",\"May\",\"June\",\"July\",\"August\",\"September\",\"October\",\"November\",\"December\"]},\"yaxis\":{\"anchor\":\"x\",\"domain\":[0.0,1.0],\"title\":{\"text\":\"CA\"}},\"legend\":{\"title\":{\"text\":\"Service\"},\"tracegroupgap\":0},\"margin\":{\"t\":60},\"barmode\":\"group\"},                        {\"responsive\": true}                    ).then(function(){\n",
       "                            \n",
       "var gd = document.getElementById('4a2c87b7-8f7a-41b3-bf9e-588315a8b2d4');\n",
       "var x = new MutationObserver(function (mutations, observer) {{\n",
       "        var display = window.getComputedStyle(gd).display;\n",
       "        if (!display || display === 'none') {{\n",
       "            console.log([gd, 'removed!']);\n",
       "            Plotly.purge(gd);\n",
       "            observer.disconnect();\n",
       "        }}\n",
       "}});\n",
       "\n",
       "// Listen for the removal of the full notebook cells\n",
       "var notebookContainer = gd.closest('#notebook-container');\n",
       "if (notebookContainer) {{\n",
       "    x.observe(notebookContainer, {childList: true});\n",
       "}}\n",
       "\n",
       "// Listen for the clearing of the current output cell\n",
       "var outputEl = gd.closest('.output');\n",
       "if (outputEl) {{\n",
       "    x.observe(outputEl, {childList: true});\n",
       "}}\n",
       "\n",
       "                        })                };                });            </script>        </div>"
      ]
     },
     "metadata": {},
     "output_type": "display_data"
    }
   ],
   "source": [
    "import plotly.express as px\n",
    "barchart_ca = px.bar(\n",
    "    df_group,\n",
    "    x=\"mois\",\n",
    "    y=\"CA\",\n",
    "    color=\"Service\",               \n",
    "    opacity=0.9,                  \n",
    "    orientation=\"v\",              \n",
    "    barmode='group',\n",
    "    hover_name = 'Service',\n",
    "    color_discrete_map = {\"Restaurant\":\"red\", \"Hôtel\":\"green\"},\n",
    "category_orders={\"mois\": [\"January\", \"February\", \"March\", \"April\", \"May\", \"June\", \"July\", \"August\", \"September\", \"October\", \"November\", \"December\"]})  \n",
    "barchart_ca"
   ]
  },
  {
   "cell_type": "code",
   "execution_count": 95,
   "id": "9773df9e",
   "metadata": {},
   "outputs": [
    {
     "name": "stderr",
     "output_type": "stream",
     "text": [
      "C:\\Users\\Christian\\anaconda3\\lib\\site-packages\\plotly\\io\\_renderers.py:396: DeprecationWarning:\n",
      "\n",
      "distutils Version classes are deprecated. Use packaging.version instead.\n",
      "\n"
     ]
    },
    {
     "data": {
      "application/vnd.plotly.v1+json": {
       "config": {
        "plotlyServerURL": "https://plot.ly"
       },
       "data": [
        {
         "alignmentgroup": "True",
         "hovertemplate": "Service=Hôtel<br>pays=Canada<br>mois=%{x}<br>charge totale=%{y}<extra></extra>",
         "legendgroup": "Hôtel",
         "marker": {
          "color": "#636efa",
          "pattern": {
           "shape": ""
          }
         },
         "name": "Hôtel",
         "offsetgroup": "Hôtel",
         "orientation": "v",
         "showlegend": true,
         "textposition": "auto",
         "type": "bar",
         "x": [
          "February",
          "October",
          "September",
          "August",
          "June",
          "November",
          "October",
          "January",
          "May",
          "October",
          "September",
          "August",
          "February",
          "June",
          "July",
          "April",
          "March",
          "December",
          "December",
          "March",
          "December",
          "April",
          "October",
          "August",
          "September",
          "February",
          "April",
          "January",
          "May",
          "November",
          "July",
          "June",
          "June",
          "May",
          "November",
          "December",
          "January",
          "July",
          "December",
          "March",
          "October",
          "June"
         ],
         "xaxis": "x5",
         "y": [
          560000,
          683500,
          176750,
          138000,
          460750,
          279500,
          317250,
          445400,
          40000,
          796600,
          77600,
          366000,
          97600,
          141600,
          259500,
          283050,
          397800,
          474600,
          545100,
          222000,
          479000,
          760400,
          448800,
          562200,
          640200,
          600300,
          880000,
          414750,
          411250,
          464200,
          533000,
          503600,
          474900,
          632700,
          758700,
          818700,
          973200,
          407625,
          460000,
          393400,
          469500,
          853200
         ],
         "yaxis": "y5"
        },
        {
         "alignmentgroup": "True",
         "hovertemplate": "Service=Hôtel<br>pays=France<br>mois=%{x}<br>charge totale=%{y}<extra></extra>",
         "legendgroup": "Hôtel",
         "marker": {
          "color": "#636efa",
          "pattern": {
           "shape": ""
          }
         },
         "name": "Hôtel",
         "offsetgroup": "Hôtel",
         "orientation": "v",
         "showlegend": false,
         "textposition": "auto",
         "type": "bar",
         "x": [
          "July",
          "June",
          "October",
          "November",
          "September",
          "February",
          "June",
          "February",
          "July",
          "September",
          "January",
          "May",
          "October",
          "June",
          "December",
          "March",
          "October",
          "April",
          "August",
          "December",
          "December",
          "March",
          "April",
          "August",
          "October",
          "February",
          "September",
          "August",
          "May",
          "October",
          "January",
          "December",
          "June",
          "November",
          "January",
          "June",
          "May",
          "November",
          "April",
          "December",
          "December",
          "March",
          "July",
          "October",
          "June"
         ],
         "xaxis": "x6",
         "y": [
          855250,
          297500,
          432750,
          235250,
          719000,
          687500,
          474750,
          58600,
          275100,
          108800,
          276900,
          333200,
          395200,
          379800,
          87900,
          447300,
          653100,
          172350,
          114300,
          746100,
          213250,
          618750,
          354600,
          312400,
          436200,
          287700,
          645300,
          618750,
          358250,
          348250,
          496875,
          257400,
          380200,
          468400,
          520200,
          236100,
          259800,
          523200,
          521550,
          518000,
          414400,
          500200,
          1162200,
          368100,
          653400
         ],
         "yaxis": "y6"
        },
        {
         "alignmentgroup": "True",
         "hovertemplate": "Service=Hôtel<br>pays=Germany<br>mois=%{x}<br>charge totale=%{y}<extra></extra>",
         "legendgroup": "Hôtel",
         "marker": {
          "color": "#636efa",
          "pattern": {
           "shape": ""
          }
         },
         "name": "Hôtel",
         "offsetgroup": "Hôtel",
         "orientation": "v",
         "showlegend": false,
         "textposition": "auto",
         "type": "bar",
         "x": [
          "September",
          "February",
          "June",
          "November",
          "July",
          "April",
          "January",
          "February",
          "July",
          "May",
          "September",
          "December",
          "March",
          "October",
          "August",
          "June",
          "October",
          "March",
          "December",
          "August",
          "October",
          "September",
          "February",
          "August",
          "January",
          "October",
          "May",
          "April",
          "December",
          "November",
          "June",
          "November",
          "January",
          "June",
          "May",
          "April",
          "December",
          "December",
          "March",
          "July",
          "October",
          "June"
         ],
         "xaxis": "x7",
         "y": [
          476750,
          337500,
          341500,
          380000,
          421500,
          239800,
          153200,
          391600,
          129000,
          292000,
          429200,
          543300,
          78900,
          863100,
          126600,
          701400,
          108000,
          64750,
          312500,
          371800,
          404200,
          295800,
          797700,
          643500,
          791250,
          118000,
          569000,
          1054750,
          341200,
          468400,
          309000,
          165600,
          743700,
          471000,
          264000,
          851400,
          177750,
          142200,
          184200,
          147600,
          352500,
          266400
         ],
         "yaxis": "y7"
        },
        {
         "alignmentgroup": "True",
         "hovertemplate": "Service=Hôtel<br>pays=Mexico<br>mois=%{x}<br>charge totale=%{y}<extra></extra>",
         "legendgroup": "Hôtel",
         "marker": {
          "color": "#636efa",
          "pattern": {
           "shape": ""
          }
         },
         "name": "Hôtel",
         "offsetgroup": "Hôtel",
         "orientation": "v",
         "showlegend": false,
         "textposition": "auto",
         "type": "bar",
         "x": [
          "January",
          "May",
          "February",
          "July",
          "June",
          "November",
          "September",
          "February",
          "July",
          "September",
          "April",
          "December",
          "March",
          "August",
          "October",
          "December",
          "June",
          "October",
          "October",
          "March",
          "December",
          "June",
          "October",
          "August",
          "September",
          "February",
          "October",
          "April",
          "August",
          "June",
          "May",
          "December",
          "November",
          "January",
          "January",
          "May",
          "April",
          "June",
          "November",
          "December",
          "December",
          "March",
          "October",
          "June",
          "July"
         ],
         "xaxis": "x8",
         "y": [
          657250,
          509750,
          466250,
          420750,
          259500,
          423500,
          419750,
          6840,
          451000,
          484000,
          196000,
          369900,
          870900,
          492600,
          419100,
          156300,
          449400,
          806700,
          136500,
          275250,
          158750,
          615000,
          109200,
          191600,
          129600,
          824100,
          102500,
          268500,
          280750,
          120800,
          532200,
          227600,
          138000,
          468000,
          166200,
          102300,
          574800,
          198600,
          263100,
          539250,
          431400,
          442800,
          406200,
          494000,
          192300
         ],
         "yaxis": "y8"
        },
        {
         "alignmentgroup": "True",
         "hovertemplate": "Service=Hôtel<br>pays=US<br>mois=%{x}<br>charge totale=%{y}<extra></extra>",
         "legendgroup": "Hôtel",
         "marker": {
          "color": "#636efa",
          "pattern": {
           "shape": ""
          }
         },
         "name": "Hôtel",
         "offsetgroup": "Hôtel",
         "orientation": "v",
         "showlegend": false,
         "textposition": "auto",
         "type": "bar",
         "x": [
          "February",
          "November",
          "June",
          "September",
          "October",
          "February",
          "January",
          "May",
          "September",
          "October",
          "June",
          "August",
          "March",
          "October",
          "April",
          "December",
          "July",
          "March",
          "December",
          "April",
          "August",
          "October",
          "February",
          "September",
          "January",
          "May",
          "October",
          "April",
          "August",
          "June",
          "December",
          "July",
          "November",
          "May",
          "November",
          "June",
          "January",
          "July",
          "December",
          "March",
          "December",
          "June",
          "October"
         ],
         "xaxis": "x",
         "y": [
          67500,
          309000,
          1047250,
          517750,
          285750,
          259600,
          196500,
          462600,
          465600,
          313200,
          256400,
          842100,
          473700,
          295800,
          405450,
          969900,
          130950,
          748250,
          343000,
          460200,
          762300,
          303000,
          853200,
          560100,
          144750,
          711000,
          728500,
          488250,
          535250,
          228400,
          559400,
          725400,
          544600,
          541800,
          716100,
          218100,
          586800,
          799750,
          153750,
          135400,
          123000,
          770100,
          345900
         ],
         "yaxis": "y"
        },
        {
         "alignmentgroup": "True",
         "hovertemplate": "Service=Restaurant<br>pays=Canada<br>mois=%{x}<br>charge totale=%{y}<extra></extra>",
         "legendgroup": "Restaurant",
         "marker": {
          "color": "#EF553B",
          "pattern": {
           "shape": ""
          }
         },
         "name": "Restaurant",
         "offsetgroup": "Restaurant",
         "orientation": "v",
         "showlegend": true,
         "textposition": "auto",
         "type": "bar",
         "x": [
          "April",
          "August",
          "July",
          "June",
          "March",
          "November",
          "October",
          "December",
          "January",
          "September",
          "May",
          "December",
          "February",
          "March",
          "December",
          "May",
          "July",
          "January",
          "June",
          "November",
          "April",
          "December",
          "June",
          "October",
          "January",
          "November",
          "December",
          "June",
          "May",
          "October",
          "June",
          "July",
          "July",
          "June",
          "December",
          "March",
          "October",
          "December",
          "June",
          "February",
          "April",
          "October",
          "September",
          "August",
          "August",
          "October",
          "December",
          "February",
          "March",
          "September",
          "April",
          "August",
          "October",
          "February",
          "September",
          "December",
          "November",
          "June",
          "January",
          "May"
         ],
         "xaxis": "x5",
         "y": [
          39765,
          131670,
          115747,
          144760,
          133540,
          38500,
          68695,
          156860,
          233805,
          114070,
          14135,
          99935,
          16060,
          32305,
          99820,
          29085,
          28665,
          56630,
          118440,
          81360,
          173250,
          71190,
          51075,
          57105,
          48015,
          75130,
          105380,
          60170,
          93610,
          52360,
          38290,
          170685,
          221430,
          87065,
          150095,
          97570,
          181720,
          133705,
          138490,
          67795,
          25987,
          45325,
          50575,
          65940,
          41535,
          90405,
          109395,
          42840,
          26910,
          25515,
          88770,
          140745,
          86075,
          129965,
          11990,
          80500,
          94115,
          99540,
          17280,
          56790
         ],
         "yaxis": "y5"
        },
        {
         "alignmentgroup": "True",
         "hovertemplate": "Service=Restaurant<br>pays=France<br>mois=%{x}<br>charge totale=%{y}<extra></extra>",
         "legendgroup": "Restaurant",
         "marker": {
          "color": "#EF553B",
          "pattern": {
           "shape": ""
          }
         },
         "name": "Restaurant",
         "offsetgroup": "Restaurant",
         "orientation": "v",
         "showlegend": false,
         "textposition": "auto",
         "type": "bar",
         "x": [
          "April",
          "August",
          "December",
          "March",
          "November",
          "October",
          "December",
          "January",
          "May",
          "February",
          "June",
          "September",
          "January",
          "March",
          "December",
          "December",
          "May",
          "July",
          "June",
          "April",
          "November",
          "October",
          "August",
          "June",
          "October",
          "January",
          "May",
          "June",
          "November",
          "June",
          "October",
          "December",
          "July",
          "July",
          "October",
          "December",
          "July",
          "June",
          "March",
          "August",
          "October",
          "April",
          "September",
          "February",
          "September",
          "December",
          "March",
          "February",
          "February",
          "April",
          "August",
          "October",
          "September",
          "November",
          "June",
          "January",
          "May"
         ],
         "xaxis": "x6",
         "y": [
          139260,
          148280,
          16115,
          107470,
          87670,
          95205,
          118525,
          216975,
          56650,
          71665,
          82280,
          84425,
          88235,
          62650,
          75425,
          87045,
          54705,
          28755,
          53550,
          173880,
          28755,
          97965,
          71055,
          67320,
          88920,
          133897,
          50490,
          24640,
          72820,
          15680,
          76335,
          38385,
          74655,
          133402,
          210870,
          128810,
          164340,
          147840,
          131175,
          41090,
          85435,
          148505,
          93485,
          65275,
          29835,
          47475,
          88515,
          81180,
          126280,
          209055,
          115555,
          67485,
          144100,
          17150,
          76230,
          179865,
          127170
         ],
         "yaxis": "y6"
        },
        {
         "alignmentgroup": "True",
         "hovertemplate": "Service=Restaurant<br>pays=Germany<br>mois=%{x}<br>charge totale=%{y}<extra></extra>",
         "legendgroup": "Restaurant",
         "marker": {
          "color": "#EF553B",
          "pattern": {
           "shape": ""
          }
         },
         "name": "Restaurant",
         "offsetgroup": "Restaurant",
         "orientation": "v",
         "showlegend": false,
         "textposition": "auto",
         "type": "bar",
         "x": [
          "December",
          "February",
          "March",
          "November",
          "October",
          "April",
          "August",
          "January",
          "June",
          "May",
          "October",
          "September",
          "December",
          "June",
          "December",
          "March",
          "April",
          "May",
          "December",
          "January",
          "November",
          "October",
          "October",
          "August",
          "July",
          "June",
          "June",
          "January",
          "November",
          "April",
          "June",
          "May",
          "July",
          "June",
          "October",
          "December",
          "December",
          "October",
          "December",
          "June",
          "March",
          "July",
          "July",
          "August",
          "October",
          "February",
          "September",
          "December",
          "October",
          "February",
          "September",
          "June",
          "March",
          "February",
          "October",
          "September",
          "August",
          "November",
          "June",
          "April",
          "January",
          "May"
         ],
         "xaxis": "x7",
         "y": [
          84205,
          148940,
          63690,
          19635,
          13255,
          69245,
          87890,
          75460,
          75130,
          60225,
          19800,
          106370,
          83215,
          55330,
          9800,
          27720,
          90300,
          23205,
          52955,
          46235,
          119925,
          10845,
          129465,
          45045,
          58815,
          105210,
          45270,
          44385,
          74745,
          77797,
          37895,
          95040,
          98385,
          24115,
          70735,
          56250,
          55715,
          59675,
          93830,
          86350,
          43725,
          193215,
          20185,
          96845,
          37975,
          39060,
          55300,
          45585,
          21240,
          36315,
          93915,
          69525,
          97245,
          15290,
          64625,
          41085,
          95865,
          52955,
          31080,
          22950,
          30645,
          68850
         ],
         "yaxis": "y7"
        },
        {
         "alignmentgroup": "True",
         "hovertemplate": "Service=Restaurant<br>pays=Mexico<br>mois=%{x}<br>charge totale=%{y}<extra></extra>",
         "legendgroup": "Restaurant",
         "marker": {
          "color": "#EF553B",
          "pattern": {
           "shape": ""
          }
         },
         "name": "Restaurant",
         "offsetgroup": "Restaurant",
         "orientation": "v",
         "showlegend": false,
         "textposition": "auto",
         "type": "bar",
         "x": [
          "April",
          "December",
          "February",
          "June",
          "March",
          "May",
          "November",
          "October",
          "December",
          "January",
          "June",
          "October",
          "September",
          "August",
          "April",
          "June",
          "March",
          "October",
          "December",
          "July",
          "October",
          "May",
          "August",
          "June",
          "November",
          "January",
          "May",
          "November",
          "April",
          "January",
          "June",
          "July",
          "December",
          "July",
          "October",
          "December",
          "July",
          "June",
          "March",
          "October",
          "August",
          "February",
          "September",
          "February",
          "June",
          "March",
          "October",
          "December",
          "September",
          "August",
          "October",
          "February",
          "September",
          "November",
          "June",
          "April",
          "January",
          "May"
         ],
         "xaxis": "x8",
         "y": [
          139425,
          67815,
          14300,
          48730,
          61710,
          156805,
          65835,
          49775,
          74910,
          132935,
          57090,
          147895,
          164615,
          48565,
          90265,
          31010,
          42350,
          48895,
          65905,
          62775,
          40725,
          16290,
          27405,
          67410,
          59985,
          67185,
          32505,
          118250,
          88385,
          141075,
          135300,
          28035,
          28575,
          31405,
          118580,
          122210,
          100265,
          36410,
          61270,
          75460,
          53900,
          25445,
          19670,
          70875,
          27180,
          22500,
          18450,
          48780,
          94950,
          109120,
          111705,
          53570,
          135960,
          97685,
          86450,
          118260,
          128745,
          11025
         ],
         "yaxis": "y8"
        },
        {
         "alignmentgroup": "True",
         "hovertemplate": "Service=Restaurant<br>pays=US<br>mois=%{x}<br>charge totale=%{y}<extra></extra>",
         "legendgroup": "Restaurant",
         "marker": {
          "color": "#EF553B",
          "pattern": {
           "shape": ""
          }
         },
         "name": "Restaurant",
         "offsetgroup": "Restaurant",
         "orientation": "v",
         "showlegend": false,
         "textposition": "auto",
         "type": "bar",
         "x": [
          "February",
          "January",
          "November",
          "April",
          "December",
          "July",
          "September",
          "August",
          "December",
          "June",
          "March",
          "May",
          "October",
          "May",
          "December",
          "July",
          "December",
          "January",
          "March",
          "April",
          "October",
          "October",
          "August",
          "June",
          "November",
          "January",
          "May",
          "November",
          "June",
          "October",
          "June",
          "July",
          "December",
          "December",
          "October",
          "July",
          "June",
          "December",
          "March",
          "October",
          "April",
          "February",
          "September",
          "December",
          "September",
          "March",
          "February",
          "October",
          "August",
          "September",
          "February",
          "April",
          "August",
          "October",
          "June",
          "November",
          "May",
          "January"
         ],
         "xaxis": "x",
         "y": [
          145255,
          79117,
          64735,
          247060,
          15070,
          189750,
          58080,
          37290,
          146465,
          33110,
          53515,
          127985,
          62865,
          61005,
          9590,
          88515,
          19950,
          39112,
          61635,
          27270,
          44370,
          70470,
          127440,
          157905,
          24615,
          192225,
          160490,
          159775,
          54505,
          35350,
          34685,
          110700,
          61740,
          50270,
          160270,
          75322,
          102795,
          153835,
          164560,
          47355,
          120592,
          65030,
          68145,
          41130,
          71820,
          65925,
          123975,
          38745,
          126945,
          97185,
          83270,
          202125,
          120890,
          63415,
          89845,
          71050,
          35550,
          24975
         ],
         "yaxis": "y"
        }
       ],
       "layout": {
        "annotations": [
         {
          "font": {},
          "showarrow": false,
          "text": "pays=US",
          "x": 0.1175,
          "xanchor": "center",
          "xref": "paper",
          "y": 0.46499999999999997,
          "yanchor": "bottom",
          "yref": "paper"
         },
         {
          "font": {},
          "showarrow": false,
          "text": "pays=Canada",
          "x": 0.1175,
          "xanchor": "center",
          "xref": "paper",
          "y": 0.9999999999999999,
          "yanchor": "bottom",
          "yref": "paper"
         },
         {
          "font": {},
          "showarrow": false,
          "text": "pays=France",
          "x": 0.3725,
          "xanchor": "center",
          "xref": "paper",
          "y": 0.9999999999999999,
          "yanchor": "bottom",
          "yref": "paper"
         },
         {
          "font": {},
          "showarrow": false,
          "text": "pays=Germany",
          "x": 0.6275,
          "xanchor": "center",
          "xref": "paper",
          "y": 0.9999999999999999,
          "yanchor": "bottom",
          "yref": "paper"
         },
         {
          "font": {},
          "showarrow": false,
          "text": "pays=Mexico",
          "x": 0.8824999999999998,
          "xanchor": "center",
          "xref": "paper",
          "y": 0.9999999999999999,
          "yanchor": "bottom",
          "yref": "paper"
         }
        ],
        "barmode": "relative",
        "legend": {
         "title": {
          "text": "Service"
         },
         "tracegroupgap": 0
        },
        "margin": {
         "t": 60
        },
        "template": {
         "data": {
          "bar": [
           {
            "error_x": {
             "color": "#2a3f5f"
            },
            "error_y": {
             "color": "#2a3f5f"
            },
            "marker": {
             "line": {
              "color": "#E5ECF6",
              "width": 0.5
             },
             "pattern": {
              "fillmode": "overlay",
              "size": 10,
              "solidity": 0.2
             }
            },
            "type": "bar"
           }
          ],
          "barpolar": [
           {
            "marker": {
             "line": {
              "color": "#E5ECF6",
              "width": 0.5
             },
             "pattern": {
              "fillmode": "overlay",
              "size": 10,
              "solidity": 0.2
             }
            },
            "type": "barpolar"
           }
          ],
          "carpet": [
           {
            "aaxis": {
             "endlinecolor": "#2a3f5f",
             "gridcolor": "white",
             "linecolor": "white",
             "minorgridcolor": "white",
             "startlinecolor": "#2a3f5f"
            },
            "baxis": {
             "endlinecolor": "#2a3f5f",
             "gridcolor": "white",
             "linecolor": "white",
             "minorgridcolor": "white",
             "startlinecolor": "#2a3f5f"
            },
            "type": "carpet"
           }
          ],
          "choropleth": [
           {
            "colorbar": {
             "outlinewidth": 0,
             "ticks": ""
            },
            "type": "choropleth"
           }
          ],
          "contour": [
           {
            "colorbar": {
             "outlinewidth": 0,
             "ticks": ""
            },
            "colorscale": [
             [
              0,
              "#0d0887"
             ],
             [
              0.1111111111111111,
              "#46039f"
             ],
             [
              0.2222222222222222,
              "#7201a8"
             ],
             [
              0.3333333333333333,
              "#9c179e"
             ],
             [
              0.4444444444444444,
              "#bd3786"
             ],
             [
              0.5555555555555556,
              "#d8576b"
             ],
             [
              0.6666666666666666,
              "#ed7953"
             ],
             [
              0.7777777777777778,
              "#fb9f3a"
             ],
             [
              0.8888888888888888,
              "#fdca26"
             ],
             [
              1,
              "#f0f921"
             ]
            ],
            "type": "contour"
           }
          ],
          "contourcarpet": [
           {
            "colorbar": {
             "outlinewidth": 0,
             "ticks": ""
            },
            "type": "contourcarpet"
           }
          ],
          "heatmap": [
           {
            "colorbar": {
             "outlinewidth": 0,
             "ticks": ""
            },
            "colorscale": [
             [
              0,
              "#0d0887"
             ],
             [
              0.1111111111111111,
              "#46039f"
             ],
             [
              0.2222222222222222,
              "#7201a8"
             ],
             [
              0.3333333333333333,
              "#9c179e"
             ],
             [
              0.4444444444444444,
              "#bd3786"
             ],
             [
              0.5555555555555556,
              "#d8576b"
             ],
             [
              0.6666666666666666,
              "#ed7953"
             ],
             [
              0.7777777777777778,
              "#fb9f3a"
             ],
             [
              0.8888888888888888,
              "#fdca26"
             ],
             [
              1,
              "#f0f921"
             ]
            ],
            "type": "heatmap"
           }
          ],
          "heatmapgl": [
           {
            "colorbar": {
             "outlinewidth": 0,
             "ticks": ""
            },
            "colorscale": [
             [
              0,
              "#0d0887"
             ],
             [
              0.1111111111111111,
              "#46039f"
             ],
             [
              0.2222222222222222,
              "#7201a8"
             ],
             [
              0.3333333333333333,
              "#9c179e"
             ],
             [
              0.4444444444444444,
              "#bd3786"
             ],
             [
              0.5555555555555556,
              "#d8576b"
             ],
             [
              0.6666666666666666,
              "#ed7953"
             ],
             [
              0.7777777777777778,
              "#fb9f3a"
             ],
             [
              0.8888888888888888,
              "#fdca26"
             ],
             [
              1,
              "#f0f921"
             ]
            ],
            "type": "heatmapgl"
           }
          ],
          "histogram": [
           {
            "marker": {
             "pattern": {
              "fillmode": "overlay",
              "size": 10,
              "solidity": 0.2
             }
            },
            "type": "histogram"
           }
          ],
          "histogram2d": [
           {
            "colorbar": {
             "outlinewidth": 0,
             "ticks": ""
            },
            "colorscale": [
             [
              0,
              "#0d0887"
             ],
             [
              0.1111111111111111,
              "#46039f"
             ],
             [
              0.2222222222222222,
              "#7201a8"
             ],
             [
              0.3333333333333333,
              "#9c179e"
             ],
             [
              0.4444444444444444,
              "#bd3786"
             ],
             [
              0.5555555555555556,
              "#d8576b"
             ],
             [
              0.6666666666666666,
              "#ed7953"
             ],
             [
              0.7777777777777778,
              "#fb9f3a"
             ],
             [
              0.8888888888888888,
              "#fdca26"
             ],
             [
              1,
              "#f0f921"
             ]
            ],
            "type": "histogram2d"
           }
          ],
          "histogram2dcontour": [
           {
            "colorbar": {
             "outlinewidth": 0,
             "ticks": ""
            },
            "colorscale": [
             [
              0,
              "#0d0887"
             ],
             [
              0.1111111111111111,
              "#46039f"
             ],
             [
              0.2222222222222222,
              "#7201a8"
             ],
             [
              0.3333333333333333,
              "#9c179e"
             ],
             [
              0.4444444444444444,
              "#bd3786"
             ],
             [
              0.5555555555555556,
              "#d8576b"
             ],
             [
              0.6666666666666666,
              "#ed7953"
             ],
             [
              0.7777777777777778,
              "#fb9f3a"
             ],
             [
              0.8888888888888888,
              "#fdca26"
             ],
             [
              1,
              "#f0f921"
             ]
            ],
            "type": "histogram2dcontour"
           }
          ],
          "mesh3d": [
           {
            "colorbar": {
             "outlinewidth": 0,
             "ticks": ""
            },
            "type": "mesh3d"
           }
          ],
          "parcoords": [
           {
            "line": {
             "colorbar": {
              "outlinewidth": 0,
              "ticks": ""
             }
            },
            "type": "parcoords"
           }
          ],
          "pie": [
           {
            "automargin": true,
            "type": "pie"
           }
          ],
          "scatter": [
           {
            "marker": {
             "colorbar": {
              "outlinewidth": 0,
              "ticks": ""
             }
            },
            "type": "scatter"
           }
          ],
          "scatter3d": [
           {
            "line": {
             "colorbar": {
              "outlinewidth": 0,
              "ticks": ""
             }
            },
            "marker": {
             "colorbar": {
              "outlinewidth": 0,
              "ticks": ""
             }
            },
            "type": "scatter3d"
           }
          ],
          "scattercarpet": [
           {
            "marker": {
             "colorbar": {
              "outlinewidth": 0,
              "ticks": ""
             }
            },
            "type": "scattercarpet"
           }
          ],
          "scattergeo": [
           {
            "marker": {
             "colorbar": {
              "outlinewidth": 0,
              "ticks": ""
             }
            },
            "type": "scattergeo"
           }
          ],
          "scattergl": [
           {
            "marker": {
             "colorbar": {
              "outlinewidth": 0,
              "ticks": ""
             }
            },
            "type": "scattergl"
           }
          ],
          "scattermapbox": [
           {
            "marker": {
             "colorbar": {
              "outlinewidth": 0,
              "ticks": ""
             }
            },
            "type": "scattermapbox"
           }
          ],
          "scatterpolar": [
           {
            "marker": {
             "colorbar": {
              "outlinewidth": 0,
              "ticks": ""
             }
            },
            "type": "scatterpolar"
           }
          ],
          "scatterpolargl": [
           {
            "marker": {
             "colorbar": {
              "outlinewidth": 0,
              "ticks": ""
             }
            },
            "type": "scatterpolargl"
           }
          ],
          "scatterternary": [
           {
            "marker": {
             "colorbar": {
              "outlinewidth": 0,
              "ticks": ""
             }
            },
            "type": "scatterternary"
           }
          ],
          "surface": [
           {
            "colorbar": {
             "outlinewidth": 0,
             "ticks": ""
            },
            "colorscale": [
             [
              0,
              "#0d0887"
             ],
             [
              0.1111111111111111,
              "#46039f"
             ],
             [
              0.2222222222222222,
              "#7201a8"
             ],
             [
              0.3333333333333333,
              "#9c179e"
             ],
             [
              0.4444444444444444,
              "#bd3786"
             ],
             [
              0.5555555555555556,
              "#d8576b"
             ],
             [
              0.6666666666666666,
              "#ed7953"
             ],
             [
              0.7777777777777778,
              "#fb9f3a"
             ],
             [
              0.8888888888888888,
              "#fdca26"
             ],
             [
              1,
              "#f0f921"
             ]
            ],
            "type": "surface"
           }
          ],
          "table": [
           {
            "cells": {
             "fill": {
              "color": "#EBF0F8"
             },
             "line": {
              "color": "white"
             }
            },
            "header": {
             "fill": {
              "color": "#C8D4E3"
             },
             "line": {
              "color": "white"
             }
            },
            "type": "table"
           }
          ]
         },
         "layout": {
          "annotationdefaults": {
           "arrowcolor": "#2a3f5f",
           "arrowhead": 0,
           "arrowwidth": 1
          },
          "autotypenumbers": "strict",
          "coloraxis": {
           "colorbar": {
            "outlinewidth": 0,
            "ticks": ""
           }
          },
          "colorscale": {
           "diverging": [
            [
             0,
             "#8e0152"
            ],
            [
             0.1,
             "#c51b7d"
            ],
            [
             0.2,
             "#de77ae"
            ],
            [
             0.3,
             "#f1b6da"
            ],
            [
             0.4,
             "#fde0ef"
            ],
            [
             0.5,
             "#f7f7f7"
            ],
            [
             0.6,
             "#e6f5d0"
            ],
            [
             0.7,
             "#b8e186"
            ],
            [
             0.8,
             "#7fbc41"
            ],
            [
             0.9,
             "#4d9221"
            ],
            [
             1,
             "#276419"
            ]
           ],
           "sequential": [
            [
             0,
             "#0d0887"
            ],
            [
             0.1111111111111111,
             "#46039f"
            ],
            [
             0.2222222222222222,
             "#7201a8"
            ],
            [
             0.3333333333333333,
             "#9c179e"
            ],
            [
             0.4444444444444444,
             "#bd3786"
            ],
            [
             0.5555555555555556,
             "#d8576b"
            ],
            [
             0.6666666666666666,
             "#ed7953"
            ],
            [
             0.7777777777777778,
             "#fb9f3a"
            ],
            [
             0.8888888888888888,
             "#fdca26"
            ],
            [
             1,
             "#f0f921"
            ]
           ],
           "sequentialminus": [
            [
             0,
             "#0d0887"
            ],
            [
             0.1111111111111111,
             "#46039f"
            ],
            [
             0.2222222222222222,
             "#7201a8"
            ],
            [
             0.3333333333333333,
             "#9c179e"
            ],
            [
             0.4444444444444444,
             "#bd3786"
            ],
            [
             0.5555555555555556,
             "#d8576b"
            ],
            [
             0.6666666666666666,
             "#ed7953"
            ],
            [
             0.7777777777777778,
             "#fb9f3a"
            ],
            [
             0.8888888888888888,
             "#fdca26"
            ],
            [
             1,
             "#f0f921"
            ]
           ]
          },
          "colorway": [
           "#636efa",
           "#EF553B",
           "#00cc96",
           "#ab63fa",
           "#FFA15A",
           "#19d3f3",
           "#FF6692",
           "#B6E880",
           "#FF97FF",
           "#FECB52"
          ],
          "font": {
           "color": "#2a3f5f"
          },
          "geo": {
           "bgcolor": "white",
           "lakecolor": "white",
           "landcolor": "#E5ECF6",
           "showlakes": true,
           "showland": true,
           "subunitcolor": "white"
          },
          "hoverlabel": {
           "align": "left"
          },
          "hovermode": "closest",
          "mapbox": {
           "style": "light"
          },
          "paper_bgcolor": "white",
          "plot_bgcolor": "#E5ECF6",
          "polar": {
           "angularaxis": {
            "gridcolor": "white",
            "linecolor": "white",
            "ticks": ""
           },
           "bgcolor": "#E5ECF6",
           "radialaxis": {
            "gridcolor": "white",
            "linecolor": "white",
            "ticks": ""
           }
          },
          "scene": {
           "xaxis": {
            "backgroundcolor": "#E5ECF6",
            "gridcolor": "white",
            "gridwidth": 2,
            "linecolor": "white",
            "showbackground": true,
            "ticks": "",
            "zerolinecolor": "white"
           },
           "yaxis": {
            "backgroundcolor": "#E5ECF6",
            "gridcolor": "white",
            "gridwidth": 2,
            "linecolor": "white",
            "showbackground": true,
            "ticks": "",
            "zerolinecolor": "white"
           },
           "zaxis": {
            "backgroundcolor": "#E5ECF6",
            "gridcolor": "white",
            "gridwidth": 2,
            "linecolor": "white",
            "showbackground": true,
            "ticks": "",
            "zerolinecolor": "white"
           }
          },
          "shapedefaults": {
           "line": {
            "color": "#2a3f5f"
           }
          },
          "ternary": {
           "aaxis": {
            "gridcolor": "white",
            "linecolor": "white",
            "ticks": ""
           },
           "baxis": {
            "gridcolor": "white",
            "linecolor": "white",
            "ticks": ""
           },
           "bgcolor": "#E5ECF6",
           "caxis": {
            "gridcolor": "white",
            "linecolor": "white",
            "ticks": ""
           }
          },
          "title": {
           "x": 0.05
          },
          "xaxis": {
           "automargin": true,
           "gridcolor": "white",
           "linecolor": "white",
           "ticks": "",
           "title": {
            "standoff": 15
           },
           "zerolinecolor": "white",
           "zerolinewidth": 2
          },
          "yaxis": {
           "automargin": true,
           "gridcolor": "white",
           "linecolor": "white",
           "ticks": "",
           "title": {
            "standoff": 15
           },
           "zerolinecolor": "white",
           "zerolinewidth": 2
          }
         }
        },
        "xaxis": {
         "anchor": "y",
         "categoryarray": [
          "January",
          "February",
          "March",
          "April",
          "May",
          "June",
          "July",
          "August",
          "September",
          "October",
          "November",
          "December"
         ],
         "categoryorder": "array",
         "domain": [
          0,
          0.235
         ],
         "title": {
          "text": "mois"
         }
        },
        "xaxis2": {
         "anchor": "y2",
         "categoryarray": [
          "January",
          "February",
          "March",
          "April",
          "May",
          "June",
          "July",
          "August",
          "September",
          "October",
          "November",
          "December"
         ],
         "categoryorder": "array",
         "domain": [
          0.255,
          0.49
         ],
         "matches": "x",
         "title": {
          "text": "mois"
         }
        },
        "xaxis3": {
         "anchor": "y3",
         "categoryarray": [
          "January",
          "February",
          "March",
          "April",
          "May",
          "June",
          "July",
          "August",
          "September",
          "October",
          "November",
          "December"
         ],
         "categoryorder": "array",
         "domain": [
          0.51,
          0.745
         ],
         "matches": "x",
         "title": {
          "text": "mois"
         }
        },
        "xaxis4": {
         "anchor": "y4",
         "categoryarray": [
          "January",
          "February",
          "March",
          "April",
          "May",
          "June",
          "July",
          "August",
          "September",
          "October",
          "November",
          "December"
         ],
         "categoryorder": "array",
         "domain": [
          0.7649999999999999,
          0.9999999999999999
         ],
         "matches": "x",
         "title": {
          "text": "mois"
         }
        },
        "xaxis5": {
         "anchor": "y5",
         "domain": [
          0,
          0.235
         ],
         "matches": "x",
         "showticklabels": false
        },
        "xaxis6": {
         "anchor": "y6",
         "domain": [
          0.255,
          0.49
         ],
         "matches": "x",
         "showticklabels": false
        },
        "xaxis7": {
         "anchor": "y7",
         "domain": [
          0.51,
          0.745
         ],
         "matches": "x",
         "showticklabels": false
        },
        "xaxis8": {
         "anchor": "y8",
         "domain": [
          0.7649999999999999,
          0.9999999999999999
         ],
         "matches": "x",
         "showticklabels": false
        },
        "yaxis": {
         "anchor": "x",
         "domain": [
          0,
          0.46499999999999997
         ],
         "title": {
          "text": "charge totale"
         }
        },
        "yaxis2": {
         "anchor": "x2",
         "domain": [
          0,
          0.46499999999999997
         ],
         "matches": "y",
         "showticklabels": false
        },
        "yaxis3": {
         "anchor": "x3",
         "domain": [
          0,
          0.46499999999999997
         ],
         "matches": "y",
         "showticklabels": false
        },
        "yaxis4": {
         "anchor": "x4",
         "domain": [
          0,
          0.46499999999999997
         ],
         "matches": "y",
         "showticklabels": false
        },
        "yaxis5": {
         "anchor": "x5",
         "domain": [
          0.5349999999999999,
          0.9999999999999999
         ],
         "matches": "y",
         "title": {
          "text": "charge totale"
         }
        },
        "yaxis6": {
         "anchor": "x6",
         "domain": [
          0.5349999999999999,
          0.9999999999999999
         ],
         "matches": "y",
         "showticklabels": false
        },
        "yaxis7": {
         "anchor": "x7",
         "domain": [
          0.5349999999999999,
          0.9999999999999999
         ],
         "matches": "y",
         "showticklabels": false
        },
        "yaxis8": {
         "anchor": "x8",
         "domain": [
          0.5349999999999999,
          0.9999999999999999
         ],
         "matches": "y",
         "showticklabels": false
        }
       }
      },
      "text/html": [
       "<div>                            <div id=\"b96df844-f9fe-4343-9624-c68bc5c2db22\" class=\"plotly-graph-div\" style=\"height:525px; width:100%;\"></div>            <script type=\"text/javascript\">                require([\"plotly\"], function(Plotly) {                    window.PLOTLYENV=window.PLOTLYENV || {};                                    if (document.getElementById(\"b96df844-f9fe-4343-9624-c68bc5c2db22\")) {                    Plotly.newPlot(                        \"b96df844-f9fe-4343-9624-c68bc5c2db22\",                        [{\"alignmentgroup\":\"True\",\"hovertemplate\":\"Service=H\\u00f4tel<br>pays=Canada<br>mois=%{x}<br>charge totale=%{y}<extra></extra>\",\"legendgroup\":\"H\\u00f4tel\",\"marker\":{\"color\":\"#636efa\",\"pattern\":{\"shape\":\"\"}},\"name\":\"H\\u00f4tel\",\"offsetgroup\":\"H\\u00f4tel\",\"orientation\":\"v\",\"showlegend\":true,\"textposition\":\"auto\",\"x\":[\"February\",\"October\",\"September\",\"August\",\"June\",\"November\",\"October\",\"January\",\"May\",\"October\",\"September\",\"August\",\"February\",\"June\",\"July\",\"April\",\"March\",\"December\",\"December\",\"March\",\"December\",\"April\",\"October\",\"August\",\"September\",\"February\",\"April\",\"January\",\"May\",\"November\",\"July\",\"June\",\"June\",\"May\",\"November\",\"December\",\"January\",\"July\",\"December\",\"March\",\"October\",\"June\"],\"xaxis\":\"x5\",\"y\":[560000,683500,176750,138000,460750,279500,317250,445400,40000,796600,77600,366000,97600,141600,259500,283050,397800,474600,545100,222000,479000,760400,448800,562200,640200,600300,880000,414750,411250,464200,533000,503600,474900,632700,758700,818700,973200,407625,460000,393400,469500,853200],\"yaxis\":\"y5\",\"type\":\"bar\"},{\"alignmentgroup\":\"True\",\"hovertemplate\":\"Service=H\\u00f4tel<br>pays=France<br>mois=%{x}<br>charge totale=%{y}<extra></extra>\",\"legendgroup\":\"H\\u00f4tel\",\"marker\":{\"color\":\"#636efa\",\"pattern\":{\"shape\":\"\"}},\"name\":\"H\\u00f4tel\",\"offsetgroup\":\"H\\u00f4tel\",\"orientation\":\"v\",\"showlegend\":false,\"textposition\":\"auto\",\"x\":[\"July\",\"June\",\"October\",\"November\",\"September\",\"February\",\"June\",\"February\",\"July\",\"September\",\"January\",\"May\",\"October\",\"June\",\"December\",\"March\",\"October\",\"April\",\"August\",\"December\",\"December\",\"March\",\"April\",\"August\",\"October\",\"February\",\"September\",\"August\",\"May\",\"October\",\"January\",\"December\",\"June\",\"November\",\"January\",\"June\",\"May\",\"November\",\"April\",\"December\",\"December\",\"March\",\"July\",\"October\",\"June\"],\"xaxis\":\"x6\",\"y\":[855250,297500,432750,235250,719000,687500,474750,58600,275100,108800,276900,333200,395200,379800,87900,447300,653100,172350,114300,746100,213250,618750,354600,312400,436200,287700,645300,618750,358250,348250,496875,257400,380200,468400,520200,236100,259800,523200,521550,518000,414400,500200,1162200,368100,653400],\"yaxis\":\"y6\",\"type\":\"bar\"},{\"alignmentgroup\":\"True\",\"hovertemplate\":\"Service=H\\u00f4tel<br>pays=Germany<br>mois=%{x}<br>charge totale=%{y}<extra></extra>\",\"legendgroup\":\"H\\u00f4tel\",\"marker\":{\"color\":\"#636efa\",\"pattern\":{\"shape\":\"\"}},\"name\":\"H\\u00f4tel\",\"offsetgroup\":\"H\\u00f4tel\",\"orientation\":\"v\",\"showlegend\":false,\"textposition\":\"auto\",\"x\":[\"September\",\"February\",\"June\",\"November\",\"July\",\"April\",\"January\",\"February\",\"July\",\"May\",\"September\",\"December\",\"March\",\"October\",\"August\",\"June\",\"October\",\"March\",\"December\",\"August\",\"October\",\"September\",\"February\",\"August\",\"January\",\"October\",\"May\",\"April\",\"December\",\"November\",\"June\",\"November\",\"January\",\"June\",\"May\",\"April\",\"December\",\"December\",\"March\",\"July\",\"October\",\"June\"],\"xaxis\":\"x7\",\"y\":[476750,337500,341500,380000,421500,239800,153200,391600,129000,292000,429200,543300,78900,863100,126600,701400,108000,64750,312500,371800,404200,295800,797700,643500,791250,118000,569000,1054750,341200,468400,309000,165600,743700,471000,264000,851400,177750,142200,184200,147600,352500,266400],\"yaxis\":\"y7\",\"type\":\"bar\"},{\"alignmentgroup\":\"True\",\"hovertemplate\":\"Service=H\\u00f4tel<br>pays=Mexico<br>mois=%{x}<br>charge totale=%{y}<extra></extra>\",\"legendgroup\":\"H\\u00f4tel\",\"marker\":{\"color\":\"#636efa\",\"pattern\":{\"shape\":\"\"}},\"name\":\"H\\u00f4tel\",\"offsetgroup\":\"H\\u00f4tel\",\"orientation\":\"v\",\"showlegend\":false,\"textposition\":\"auto\",\"x\":[\"January\",\"May\",\"February\",\"July\",\"June\",\"November\",\"September\",\"February\",\"July\",\"September\",\"April\",\"December\",\"March\",\"August\",\"October\",\"December\",\"June\",\"October\",\"October\",\"March\",\"December\",\"June\",\"October\",\"August\",\"September\",\"February\",\"October\",\"April\",\"August\",\"June\",\"May\",\"December\",\"November\",\"January\",\"January\",\"May\",\"April\",\"June\",\"November\",\"December\",\"December\",\"March\",\"October\",\"June\",\"July\"],\"xaxis\":\"x8\",\"y\":[657250,509750,466250,420750,259500,423500,419750,6840,451000,484000,196000,369900,870900,492600,419100,156300,449400,806700,136500,275250,158750,615000,109200,191600,129600,824100,102500,268500,280750,120800,532200,227600,138000,468000,166200,102300,574800,198600,263100,539250,431400,442800,406200,494000,192300],\"yaxis\":\"y8\",\"type\":\"bar\"},{\"alignmentgroup\":\"True\",\"hovertemplate\":\"Service=H\\u00f4tel<br>pays=US<br>mois=%{x}<br>charge totale=%{y}<extra></extra>\",\"legendgroup\":\"H\\u00f4tel\",\"marker\":{\"color\":\"#636efa\",\"pattern\":{\"shape\":\"\"}},\"name\":\"H\\u00f4tel\",\"offsetgroup\":\"H\\u00f4tel\",\"orientation\":\"v\",\"showlegend\":false,\"textposition\":\"auto\",\"x\":[\"February\",\"November\",\"June\",\"September\",\"October\",\"February\",\"January\",\"May\",\"September\",\"October\",\"June\",\"August\",\"March\",\"October\",\"April\",\"December\",\"July\",\"March\",\"December\",\"April\",\"August\",\"October\",\"February\",\"September\",\"January\",\"May\",\"October\",\"April\",\"August\",\"June\",\"December\",\"July\",\"November\",\"May\",\"November\",\"June\",\"January\",\"July\",\"December\",\"March\",\"December\",\"June\",\"October\"],\"xaxis\":\"x\",\"y\":[67500,309000,1047250,517750,285750,259600,196500,462600,465600,313200,256400,842100,473700,295800,405450,969900,130950,748250,343000,460200,762300,303000,853200,560100,144750,711000,728500,488250,535250,228400,559400,725400,544600,541800,716100,218100,586800,799750,153750,135400,123000,770100,345900],\"yaxis\":\"y\",\"type\":\"bar\"},{\"alignmentgroup\":\"True\",\"hovertemplate\":\"Service=Restaurant<br>pays=Canada<br>mois=%{x}<br>charge totale=%{y}<extra></extra>\",\"legendgroup\":\"Restaurant\",\"marker\":{\"color\":\"#EF553B\",\"pattern\":{\"shape\":\"\"}},\"name\":\"Restaurant\",\"offsetgroup\":\"Restaurant\",\"orientation\":\"v\",\"showlegend\":true,\"textposition\":\"auto\",\"x\":[\"April\",\"August\",\"July\",\"June\",\"March\",\"November\",\"October\",\"December\",\"January\",\"September\",\"May\",\"December\",\"February\",\"March\",\"December\",\"May\",\"July\",\"January\",\"June\",\"November\",\"April\",\"December\",\"June\",\"October\",\"January\",\"November\",\"December\",\"June\",\"May\",\"October\",\"June\",\"July\",\"July\",\"June\",\"December\",\"March\",\"October\",\"December\",\"June\",\"February\",\"April\",\"October\",\"September\",\"August\",\"August\",\"October\",\"December\",\"February\",\"March\",\"September\",\"April\",\"August\",\"October\",\"February\",\"September\",\"December\",\"November\",\"June\",\"January\",\"May\"],\"xaxis\":\"x5\",\"y\":[39765,131670,115747,144760,133540,38500,68695,156860,233805,114070,14135,99935,16060,32305,99820,29085,28665,56630,118440,81360,173250,71190,51075,57105,48015,75130,105380,60170,93610,52360,38290,170685,221430,87065,150095,97570,181720,133705,138490,67795,25987,45325,50575,65940,41535,90405,109395,42840,26910,25515,88770,140745,86075,129965,11990,80500,94115,99540,17280,56790],\"yaxis\":\"y5\",\"type\":\"bar\"},{\"alignmentgroup\":\"True\",\"hovertemplate\":\"Service=Restaurant<br>pays=France<br>mois=%{x}<br>charge totale=%{y}<extra></extra>\",\"legendgroup\":\"Restaurant\",\"marker\":{\"color\":\"#EF553B\",\"pattern\":{\"shape\":\"\"}},\"name\":\"Restaurant\",\"offsetgroup\":\"Restaurant\",\"orientation\":\"v\",\"showlegend\":false,\"textposition\":\"auto\",\"x\":[\"April\",\"August\",\"December\",\"March\",\"November\",\"October\",\"December\",\"January\",\"May\",\"February\",\"June\",\"September\",\"January\",\"March\",\"December\",\"December\",\"May\",\"July\",\"June\",\"April\",\"November\",\"October\",\"August\",\"June\",\"October\",\"January\",\"May\",\"June\",\"November\",\"June\",\"October\",\"December\",\"July\",\"July\",\"October\",\"December\",\"July\",\"June\",\"March\",\"August\",\"October\",\"April\",\"September\",\"February\",\"September\",\"December\",\"March\",\"February\",\"February\",\"April\",\"August\",\"October\",\"September\",\"November\",\"June\",\"January\",\"May\"],\"xaxis\":\"x6\",\"y\":[139260,148280,16115,107470,87670,95205,118525,216975,56650,71665,82280,84425,88235,62650,75425,87045,54705,28755,53550,173880,28755,97965,71055,67320,88920,133897,50490,24640,72820,15680,76335,38385,74655,133402,210870,128810,164340,147840,131175,41090,85435,148505,93485,65275,29835,47475,88515,81180,126280,209055,115555,67485,144100,17150,76230,179865,127170],\"yaxis\":\"y6\",\"type\":\"bar\"},{\"alignmentgroup\":\"True\",\"hovertemplate\":\"Service=Restaurant<br>pays=Germany<br>mois=%{x}<br>charge totale=%{y}<extra></extra>\",\"legendgroup\":\"Restaurant\",\"marker\":{\"color\":\"#EF553B\",\"pattern\":{\"shape\":\"\"}},\"name\":\"Restaurant\",\"offsetgroup\":\"Restaurant\",\"orientation\":\"v\",\"showlegend\":false,\"textposition\":\"auto\",\"x\":[\"December\",\"February\",\"March\",\"November\",\"October\",\"April\",\"August\",\"January\",\"June\",\"May\",\"October\",\"September\",\"December\",\"June\",\"December\",\"March\",\"April\",\"May\",\"December\",\"January\",\"November\",\"October\",\"October\",\"August\",\"July\",\"June\",\"June\",\"January\",\"November\",\"April\",\"June\",\"May\",\"July\",\"June\",\"October\",\"December\",\"December\",\"October\",\"December\",\"June\",\"March\",\"July\",\"July\",\"August\",\"October\",\"February\",\"September\",\"December\",\"October\",\"February\",\"September\",\"June\",\"March\",\"February\",\"October\",\"September\",\"August\",\"November\",\"June\",\"April\",\"January\",\"May\"],\"xaxis\":\"x7\",\"y\":[84205,148940,63690,19635,13255,69245,87890,75460,75130,60225,19800,106370,83215,55330,9800,27720,90300,23205,52955,46235,119925,10845,129465,45045,58815,105210,45270,44385,74745,77797,37895,95040,98385,24115,70735,56250,55715,59675,93830,86350,43725,193215,20185,96845,37975,39060,55300,45585,21240,36315,93915,69525,97245,15290,64625,41085,95865,52955,31080,22950,30645,68850],\"yaxis\":\"y7\",\"type\":\"bar\"},{\"alignmentgroup\":\"True\",\"hovertemplate\":\"Service=Restaurant<br>pays=Mexico<br>mois=%{x}<br>charge totale=%{y}<extra></extra>\",\"legendgroup\":\"Restaurant\",\"marker\":{\"color\":\"#EF553B\",\"pattern\":{\"shape\":\"\"}},\"name\":\"Restaurant\",\"offsetgroup\":\"Restaurant\",\"orientation\":\"v\",\"showlegend\":false,\"textposition\":\"auto\",\"x\":[\"April\",\"December\",\"February\",\"June\",\"March\",\"May\",\"November\",\"October\",\"December\",\"January\",\"June\",\"October\",\"September\",\"August\",\"April\",\"June\",\"March\",\"October\",\"December\",\"July\",\"October\",\"May\",\"August\",\"June\",\"November\",\"January\",\"May\",\"November\",\"April\",\"January\",\"June\",\"July\",\"December\",\"July\",\"October\",\"December\",\"July\",\"June\",\"March\",\"October\",\"August\",\"February\",\"September\",\"February\",\"June\",\"March\",\"October\",\"December\",\"September\",\"August\",\"October\",\"February\",\"September\",\"November\",\"June\",\"April\",\"January\",\"May\"],\"xaxis\":\"x8\",\"y\":[139425,67815,14300,48730,61710,156805,65835,49775,74910,132935,57090,147895,164615,48565,90265,31010,42350,48895,65905,62775,40725,16290,27405,67410,59985,67185,32505,118250,88385,141075,135300,28035,28575,31405,118580,122210,100265,36410,61270,75460,53900,25445,19670,70875,27180,22500,18450,48780,94950,109120,111705,53570,135960,97685,86450,118260,128745,11025],\"yaxis\":\"y8\",\"type\":\"bar\"},{\"alignmentgroup\":\"True\",\"hovertemplate\":\"Service=Restaurant<br>pays=US<br>mois=%{x}<br>charge totale=%{y}<extra></extra>\",\"legendgroup\":\"Restaurant\",\"marker\":{\"color\":\"#EF553B\",\"pattern\":{\"shape\":\"\"}},\"name\":\"Restaurant\",\"offsetgroup\":\"Restaurant\",\"orientation\":\"v\",\"showlegend\":false,\"textposition\":\"auto\",\"x\":[\"February\",\"January\",\"November\",\"April\",\"December\",\"July\",\"September\",\"August\",\"December\",\"June\",\"March\",\"May\",\"October\",\"May\",\"December\",\"July\",\"December\",\"January\",\"March\",\"April\",\"October\",\"October\",\"August\",\"June\",\"November\",\"January\",\"May\",\"November\",\"June\",\"October\",\"June\",\"July\",\"December\",\"December\",\"October\",\"July\",\"June\",\"December\",\"March\",\"October\",\"April\",\"February\",\"September\",\"December\",\"September\",\"March\",\"February\",\"October\",\"August\",\"September\",\"February\",\"April\",\"August\",\"October\",\"June\",\"November\",\"May\",\"January\"],\"xaxis\":\"x\",\"y\":[145255,79117,64735,247060,15070,189750,58080,37290,146465,33110,53515,127985,62865,61005,9590,88515,19950,39112,61635,27270,44370,70470,127440,157905,24615,192225,160490,159775,54505,35350,34685,110700,61740,50270,160270,75322,102795,153835,164560,47355,120592,65030,68145,41130,71820,65925,123975,38745,126945,97185,83270,202125,120890,63415,89845,71050,35550,24975],\"yaxis\":\"y\",\"type\":\"bar\"}],                        {\"template\":{\"data\":{\"bar\":[{\"error_x\":{\"color\":\"#2a3f5f\"},\"error_y\":{\"color\":\"#2a3f5f\"},\"marker\":{\"line\":{\"color\":\"#E5ECF6\",\"width\":0.5},\"pattern\":{\"fillmode\":\"overlay\",\"size\":10,\"solidity\":0.2}},\"type\":\"bar\"}],\"barpolar\":[{\"marker\":{\"line\":{\"color\":\"#E5ECF6\",\"width\":0.5},\"pattern\":{\"fillmode\":\"overlay\",\"size\":10,\"solidity\":0.2}},\"type\":\"barpolar\"}],\"carpet\":[{\"aaxis\":{\"endlinecolor\":\"#2a3f5f\",\"gridcolor\":\"white\",\"linecolor\":\"white\",\"minorgridcolor\":\"white\",\"startlinecolor\":\"#2a3f5f\"},\"baxis\":{\"endlinecolor\":\"#2a3f5f\",\"gridcolor\":\"white\",\"linecolor\":\"white\",\"minorgridcolor\":\"white\",\"startlinecolor\":\"#2a3f5f\"},\"type\":\"carpet\"}],\"choropleth\":[{\"colorbar\":{\"outlinewidth\":0,\"ticks\":\"\"},\"type\":\"choropleth\"}],\"contour\":[{\"colorbar\":{\"outlinewidth\":0,\"ticks\":\"\"},\"colorscale\":[[0.0,\"#0d0887\"],[0.1111111111111111,\"#46039f\"],[0.2222222222222222,\"#7201a8\"],[0.3333333333333333,\"#9c179e\"],[0.4444444444444444,\"#bd3786\"],[0.5555555555555556,\"#d8576b\"],[0.6666666666666666,\"#ed7953\"],[0.7777777777777778,\"#fb9f3a\"],[0.8888888888888888,\"#fdca26\"],[1.0,\"#f0f921\"]],\"type\":\"contour\"}],\"contourcarpet\":[{\"colorbar\":{\"outlinewidth\":0,\"ticks\":\"\"},\"type\":\"contourcarpet\"}],\"heatmap\":[{\"colorbar\":{\"outlinewidth\":0,\"ticks\":\"\"},\"colorscale\":[[0.0,\"#0d0887\"],[0.1111111111111111,\"#46039f\"],[0.2222222222222222,\"#7201a8\"],[0.3333333333333333,\"#9c179e\"],[0.4444444444444444,\"#bd3786\"],[0.5555555555555556,\"#d8576b\"],[0.6666666666666666,\"#ed7953\"],[0.7777777777777778,\"#fb9f3a\"],[0.8888888888888888,\"#fdca26\"],[1.0,\"#f0f921\"]],\"type\":\"heatmap\"}],\"heatmapgl\":[{\"colorbar\":{\"outlinewidth\":0,\"ticks\":\"\"},\"colorscale\":[[0.0,\"#0d0887\"],[0.1111111111111111,\"#46039f\"],[0.2222222222222222,\"#7201a8\"],[0.3333333333333333,\"#9c179e\"],[0.4444444444444444,\"#bd3786\"],[0.5555555555555556,\"#d8576b\"],[0.6666666666666666,\"#ed7953\"],[0.7777777777777778,\"#fb9f3a\"],[0.8888888888888888,\"#fdca26\"],[1.0,\"#f0f921\"]],\"type\":\"heatmapgl\"}],\"histogram\":[{\"marker\":{\"pattern\":{\"fillmode\":\"overlay\",\"size\":10,\"solidity\":0.2}},\"type\":\"histogram\"}],\"histogram2d\":[{\"colorbar\":{\"outlinewidth\":0,\"ticks\":\"\"},\"colorscale\":[[0.0,\"#0d0887\"],[0.1111111111111111,\"#46039f\"],[0.2222222222222222,\"#7201a8\"],[0.3333333333333333,\"#9c179e\"],[0.4444444444444444,\"#bd3786\"],[0.5555555555555556,\"#d8576b\"],[0.6666666666666666,\"#ed7953\"],[0.7777777777777778,\"#fb9f3a\"],[0.8888888888888888,\"#fdca26\"],[1.0,\"#f0f921\"]],\"type\":\"histogram2d\"}],\"histogram2dcontour\":[{\"colorbar\":{\"outlinewidth\":0,\"ticks\":\"\"},\"colorscale\":[[0.0,\"#0d0887\"],[0.1111111111111111,\"#46039f\"],[0.2222222222222222,\"#7201a8\"],[0.3333333333333333,\"#9c179e\"],[0.4444444444444444,\"#bd3786\"],[0.5555555555555556,\"#d8576b\"],[0.6666666666666666,\"#ed7953\"],[0.7777777777777778,\"#fb9f3a\"],[0.8888888888888888,\"#fdca26\"],[1.0,\"#f0f921\"]],\"type\":\"histogram2dcontour\"}],\"mesh3d\":[{\"colorbar\":{\"outlinewidth\":0,\"ticks\":\"\"},\"type\":\"mesh3d\"}],\"parcoords\":[{\"line\":{\"colorbar\":{\"outlinewidth\":0,\"ticks\":\"\"}},\"type\":\"parcoords\"}],\"pie\":[{\"automargin\":true,\"type\":\"pie\"}],\"scatter\":[{\"marker\":{\"colorbar\":{\"outlinewidth\":0,\"ticks\":\"\"}},\"type\":\"scatter\"}],\"scatter3d\":[{\"line\":{\"colorbar\":{\"outlinewidth\":0,\"ticks\":\"\"}},\"marker\":{\"colorbar\":{\"outlinewidth\":0,\"ticks\":\"\"}},\"type\":\"scatter3d\"}],\"scattercarpet\":[{\"marker\":{\"colorbar\":{\"outlinewidth\":0,\"ticks\":\"\"}},\"type\":\"scattercarpet\"}],\"scattergeo\":[{\"marker\":{\"colorbar\":{\"outlinewidth\":0,\"ticks\":\"\"}},\"type\":\"scattergeo\"}],\"scattergl\":[{\"marker\":{\"colorbar\":{\"outlinewidth\":0,\"ticks\":\"\"}},\"type\":\"scattergl\"}],\"scattermapbox\":[{\"marker\":{\"colorbar\":{\"outlinewidth\":0,\"ticks\":\"\"}},\"type\":\"scattermapbox\"}],\"scatterpolar\":[{\"marker\":{\"colorbar\":{\"outlinewidth\":0,\"ticks\":\"\"}},\"type\":\"scatterpolar\"}],\"scatterpolargl\":[{\"marker\":{\"colorbar\":{\"outlinewidth\":0,\"ticks\":\"\"}},\"type\":\"scatterpolargl\"}],\"scatterternary\":[{\"marker\":{\"colorbar\":{\"outlinewidth\":0,\"ticks\":\"\"}},\"type\":\"scatterternary\"}],\"surface\":[{\"colorbar\":{\"outlinewidth\":0,\"ticks\":\"\"},\"colorscale\":[[0.0,\"#0d0887\"],[0.1111111111111111,\"#46039f\"],[0.2222222222222222,\"#7201a8\"],[0.3333333333333333,\"#9c179e\"],[0.4444444444444444,\"#bd3786\"],[0.5555555555555556,\"#d8576b\"],[0.6666666666666666,\"#ed7953\"],[0.7777777777777778,\"#fb9f3a\"],[0.8888888888888888,\"#fdca26\"],[1.0,\"#f0f921\"]],\"type\":\"surface\"}],\"table\":[{\"cells\":{\"fill\":{\"color\":\"#EBF0F8\"},\"line\":{\"color\":\"white\"}},\"header\":{\"fill\":{\"color\":\"#C8D4E3\"},\"line\":{\"color\":\"white\"}},\"type\":\"table\"}]},\"layout\":{\"annotationdefaults\":{\"arrowcolor\":\"#2a3f5f\",\"arrowhead\":0,\"arrowwidth\":1},\"autotypenumbers\":\"strict\",\"coloraxis\":{\"colorbar\":{\"outlinewidth\":0,\"ticks\":\"\"}},\"colorscale\":{\"diverging\":[[0,\"#8e0152\"],[0.1,\"#c51b7d\"],[0.2,\"#de77ae\"],[0.3,\"#f1b6da\"],[0.4,\"#fde0ef\"],[0.5,\"#f7f7f7\"],[0.6,\"#e6f5d0\"],[0.7,\"#b8e186\"],[0.8,\"#7fbc41\"],[0.9,\"#4d9221\"],[1,\"#276419\"]],\"sequential\":[[0.0,\"#0d0887\"],[0.1111111111111111,\"#46039f\"],[0.2222222222222222,\"#7201a8\"],[0.3333333333333333,\"#9c179e\"],[0.4444444444444444,\"#bd3786\"],[0.5555555555555556,\"#d8576b\"],[0.6666666666666666,\"#ed7953\"],[0.7777777777777778,\"#fb9f3a\"],[0.8888888888888888,\"#fdca26\"],[1.0,\"#f0f921\"]],\"sequentialminus\":[[0.0,\"#0d0887\"],[0.1111111111111111,\"#46039f\"],[0.2222222222222222,\"#7201a8\"],[0.3333333333333333,\"#9c179e\"],[0.4444444444444444,\"#bd3786\"],[0.5555555555555556,\"#d8576b\"],[0.6666666666666666,\"#ed7953\"],[0.7777777777777778,\"#fb9f3a\"],[0.8888888888888888,\"#fdca26\"],[1.0,\"#f0f921\"]]},\"colorway\":[\"#636efa\",\"#EF553B\",\"#00cc96\",\"#ab63fa\",\"#FFA15A\",\"#19d3f3\",\"#FF6692\",\"#B6E880\",\"#FF97FF\",\"#FECB52\"],\"font\":{\"color\":\"#2a3f5f\"},\"geo\":{\"bgcolor\":\"white\",\"lakecolor\":\"white\",\"landcolor\":\"#E5ECF6\",\"showlakes\":true,\"showland\":true,\"subunitcolor\":\"white\"},\"hoverlabel\":{\"align\":\"left\"},\"hovermode\":\"closest\",\"mapbox\":{\"style\":\"light\"},\"paper_bgcolor\":\"white\",\"plot_bgcolor\":\"#E5ECF6\",\"polar\":{\"angularaxis\":{\"gridcolor\":\"white\",\"linecolor\":\"white\",\"ticks\":\"\"},\"bgcolor\":\"#E5ECF6\",\"radialaxis\":{\"gridcolor\":\"white\",\"linecolor\":\"white\",\"ticks\":\"\"}},\"scene\":{\"xaxis\":{\"backgroundcolor\":\"#E5ECF6\",\"gridcolor\":\"white\",\"gridwidth\":2,\"linecolor\":\"white\",\"showbackground\":true,\"ticks\":\"\",\"zerolinecolor\":\"white\"},\"yaxis\":{\"backgroundcolor\":\"#E5ECF6\",\"gridcolor\":\"white\",\"gridwidth\":2,\"linecolor\":\"white\",\"showbackground\":true,\"ticks\":\"\",\"zerolinecolor\":\"white\"},\"zaxis\":{\"backgroundcolor\":\"#E5ECF6\",\"gridcolor\":\"white\",\"gridwidth\":2,\"linecolor\":\"white\",\"showbackground\":true,\"ticks\":\"\",\"zerolinecolor\":\"white\"}},\"shapedefaults\":{\"line\":{\"color\":\"#2a3f5f\"}},\"ternary\":{\"aaxis\":{\"gridcolor\":\"white\",\"linecolor\":\"white\",\"ticks\":\"\"},\"baxis\":{\"gridcolor\":\"white\",\"linecolor\":\"white\",\"ticks\":\"\"},\"bgcolor\":\"#E5ECF6\",\"caxis\":{\"gridcolor\":\"white\",\"linecolor\":\"white\",\"ticks\":\"\"}},\"title\":{\"x\":0.05},\"xaxis\":{\"automargin\":true,\"gridcolor\":\"white\",\"linecolor\":\"white\",\"ticks\":\"\",\"title\":{\"standoff\":15},\"zerolinecolor\":\"white\",\"zerolinewidth\":2},\"yaxis\":{\"automargin\":true,\"gridcolor\":\"white\",\"linecolor\":\"white\",\"ticks\":\"\",\"title\":{\"standoff\":15},\"zerolinecolor\":\"white\",\"zerolinewidth\":2}}},\"xaxis\":{\"anchor\":\"y\",\"domain\":[0.0,0.235],\"title\":{\"text\":\"mois\"},\"categoryorder\":\"array\",\"categoryarray\":[\"January\",\"February\",\"March\",\"April\",\"May\",\"June\",\"July\",\"August\",\"September\",\"October\",\"November\",\"December\"]},\"yaxis\":{\"anchor\":\"x\",\"domain\":[0.0,0.46499999999999997],\"title\":{\"text\":\"charge totale\"}},\"xaxis2\":{\"anchor\":\"y2\",\"domain\":[0.255,0.49],\"matches\":\"x\",\"title\":{\"text\":\"mois\"},\"categoryorder\":\"array\",\"categoryarray\":[\"January\",\"February\",\"March\",\"April\",\"May\",\"June\",\"July\",\"August\",\"September\",\"October\",\"November\",\"December\"]},\"yaxis2\":{\"anchor\":\"x2\",\"domain\":[0.0,0.46499999999999997],\"matches\":\"y\",\"showticklabels\":false},\"xaxis3\":{\"anchor\":\"y3\",\"domain\":[0.51,0.745],\"matches\":\"x\",\"title\":{\"text\":\"mois\"},\"categoryorder\":\"array\",\"categoryarray\":[\"January\",\"February\",\"March\",\"April\",\"May\",\"June\",\"July\",\"August\",\"September\",\"October\",\"November\",\"December\"]},\"yaxis3\":{\"anchor\":\"x3\",\"domain\":[0.0,0.46499999999999997],\"matches\":\"y\",\"showticklabels\":false},\"xaxis4\":{\"anchor\":\"y4\",\"domain\":[0.7649999999999999,0.9999999999999999],\"matches\":\"x\",\"title\":{\"text\":\"mois\"},\"categoryorder\":\"array\",\"categoryarray\":[\"January\",\"February\",\"March\",\"April\",\"May\",\"June\",\"July\",\"August\",\"September\",\"October\",\"November\",\"December\"]},\"yaxis4\":{\"anchor\":\"x4\",\"domain\":[0.0,0.46499999999999997],\"matches\":\"y\",\"showticklabels\":false},\"xaxis5\":{\"anchor\":\"y5\",\"domain\":[0.0,0.235],\"matches\":\"x\",\"showticklabels\":false},\"yaxis5\":{\"anchor\":\"x5\",\"domain\":[0.5349999999999999,0.9999999999999999],\"matches\":\"y\",\"title\":{\"text\":\"charge totale\"}},\"xaxis6\":{\"anchor\":\"y6\",\"domain\":[0.255,0.49],\"matches\":\"x\",\"showticklabels\":false},\"yaxis6\":{\"anchor\":\"x6\",\"domain\":[0.5349999999999999,0.9999999999999999],\"matches\":\"y\",\"showticklabels\":false},\"xaxis7\":{\"anchor\":\"y7\",\"domain\":[0.51,0.745],\"matches\":\"x\",\"showticklabels\":false},\"yaxis7\":{\"anchor\":\"x7\",\"domain\":[0.5349999999999999,0.9999999999999999],\"matches\":\"y\",\"showticklabels\":false},\"xaxis8\":{\"anchor\":\"y8\",\"domain\":[0.7649999999999999,0.9999999999999999],\"matches\":\"x\",\"showticklabels\":false},\"yaxis8\":{\"anchor\":\"x8\",\"domain\":[0.5349999999999999,0.9999999999999999],\"matches\":\"y\",\"showticklabels\":false},\"annotations\":[{\"font\":{},\"showarrow\":false,\"text\":\"pays=US\",\"x\":0.1175,\"xanchor\":\"center\",\"xref\":\"paper\",\"y\":0.46499999999999997,\"yanchor\":\"bottom\",\"yref\":\"paper\"},{\"font\":{},\"showarrow\":false,\"text\":\"pays=Canada\",\"x\":0.1175,\"xanchor\":\"center\",\"xref\":\"paper\",\"y\":0.9999999999999999,\"yanchor\":\"bottom\",\"yref\":\"paper\"},{\"font\":{},\"showarrow\":false,\"text\":\"pays=France\",\"x\":0.3725,\"xanchor\":\"center\",\"xref\":\"paper\",\"y\":0.9999999999999999,\"yanchor\":\"bottom\",\"yref\":\"paper\"},{\"font\":{},\"showarrow\":false,\"text\":\"pays=Germany\",\"x\":0.6275,\"xanchor\":\"center\",\"xref\":\"paper\",\"y\":0.9999999999999999,\"yanchor\":\"bottom\",\"yref\":\"paper\"},{\"font\":{},\"showarrow\":false,\"text\":\"pays=Mexico\",\"x\":0.8824999999999998,\"xanchor\":\"center\",\"xref\":\"paper\",\"y\":0.9999999999999999,\"yanchor\":\"bottom\",\"yref\":\"paper\"}],\"legend\":{\"title\":{\"text\":\"Service\"},\"tracegroupgap\":0},\"margin\":{\"t\":60},\"barmode\":\"relative\"},                        {\"responsive\": true}                    ).then(function(){\n",
       "                            \n",
       "var gd = document.getElementById('b96df844-f9fe-4343-9624-c68bc5c2db22');\n",
       "var x = new MutationObserver(function (mutations, observer) {{\n",
       "        var display = window.getComputedStyle(gd).display;\n",
       "        if (!display || display === 'none') {{\n",
       "            console.log([gd, 'removed!']);\n",
       "            Plotly.purge(gd);\n",
       "            observer.disconnect();\n",
       "        }}\n",
       "}});\n",
       "\n",
       "// Listen for the removal of the full notebook cells\n",
       "var notebookContainer = gd.closest('#notebook-container');\n",
       "if (notebookContainer) {{\n",
       "    x.observe(notebookContainer, {childList: true});\n",
       "}}\n",
       "\n",
       "// Listen for the clearing of the current output cell\n",
       "var outputEl = gd.closest('.output');\n",
       "if (outputEl) {{\n",
       "    x.observe(outputEl, {childList: true});\n",
       "}}\n",
       "\n",
       "                        })                };                });            </script>        </div>"
      ]
     },
     "metadata": {},
     "output_type": "display_data"
    }
   ],
   "source": [
    "fig_charge = px.bar(df_group, x='mois', y='charge totale', color='Service',orientation='v',facet_col=\"pays\",facet_col_wrap = 4, \n",
    "               category_orders={\"mois\": [\"January\", \"February\", \"March\", \"April\", \"May\", \"June\", \"July\", \"August\", \"September\", \"October\", \"November\", \"December\"]})\n",
    "fig_charge.show()"
   ]
  },
  {
   "cell_type": "code",
   "execution_count": 96,
   "id": "131478b7",
   "metadata": {},
   "outputs": [
    {
     "data": {
      "image/png": "[encoded data removed]",
      "text/plain": [
       "<Figure size 360x360 with 1 Axes>"
      ]
     },
     "metadata": {
      "needs_background": "light"
     },
     "output_type": "display_data"
    }
   ],
   "source": [
    "sns.catplot(x=\"Service\", y= \"Nbre vente\", data=df, kind=\"bar\")\n",
    "plt.xticks(rotation='vertical')\n",
    "plt.show()"
   ]
  },
  {
   "cell_type": "code",
   "execution_count": 97,
   "id": "64216b50",
   "metadata": {},
   "outputs": [
    {
     "data": {
      "image/png": "[encoded data removed]",
      "text/plain": [
       "<Figure size 360x360 with 1 Axes>"
      ]
     },
     "metadata": {
      "needs_background": "light"
     },
     "output_type": "display_data"
    }
   ],
   "source": [
    "sns.catplot(x=\"Service\", y= \"CA\", data=df, kind=\"bar\")\n",
    "plt.xticks(rotation='vertical')\n",
    "plt.show()"
   ]
  },
  {
   "cell_type": "code",
   "execution_count": 98,
   "id": "7a65d5df",
   "metadata": {},
   "outputs": [
    {
     "data": {
      "image/png": "[encoded data removed]",
      "text/plain": [
       "<Figure size 360x360 with 1 Axes>"
      ]
     },
     "metadata": {
      "needs_background": "light"
     },
     "output_type": "display_data"
    }
   ],
   "source": [
    "sns.catplot(x=\"pays\", y= \"CA\", data=df, kind=\"bar\")\n",
    "plt.xticks(rotation='vertical')\n",
    "plt.show()"
   ]
  },
  {
   "cell_type": "code",
   "execution_count": 99,
   "id": "88a84c50",
   "metadata": {},
   "outputs": [],
   "source": [
    "df_heatmap = df_group.loc[:,['Nbre vente','charge totale','charge fixe','charge variable','charges directes','charges indirectes','CA','remise tot','vente',\n",
    "                 'bénéfice']]"
   ]
  },
  {
   "cell_type": "markdown",
   "id": "eaf540c5",
   "metadata": {},
   "source": [
    "Il y a généralement une corrélation négative entre les charges fixes et variables, c'est-à-dire que lorsque les charges fixes augmentent, les charges variables diminuent et vice versa. En effet, les entreprises cherchent généralement à minimiser les coûts fixes pour augmenter leur marge bénéficiaire, cela se fait souvent en augmentant les charges variables qui sont directement liées au niveau d'activité de l'entreprise."
   ]
  },
  {
   "cell_type": "code",
   "execution_count": 100,
   "id": "17e156cc",
   "metadata": {},
   "outputs": [
    {
     "name": "stderr",
     "output_type": "stream",
     "text": [
      "C:\\Users\\Christian\\anaconda3\\lib\\site-packages\\seaborn\\matrix.py:213: PendingDeprecationWarning:\n",
      "\n",
      "The get_cmap function will be deprecated in a future version. Use ``matplotlib.colormaps[name]`` or ``matplotlib.colormaps.get_cmap(obj)`` instead.\n",
      "\n"
     ]
    },
    {
     "data": {
      "image/png": "[encoded data removed]",
      "text/plain": [
       "<Figure size 576x576 with 2 Axes>"
      ]
     },
     "metadata": {
      "needs_background": "light"
     },
     "output_type": "display_data"
    }
   ],
   "source": [
    "# Créer une matrice de corrélation\n",
    "plt.figure(figsize=(8,8))\n",
    "mask = np.triu(np.ones_like(df_heatmap.corr(), dtype = bool))\n",
    "sns.heatmap(df_heatmap.corr(), mask=mask, center =0, linewidths=1,  annot=True, cmap='coolwarm', fmt=\".1f\", vmin=-1, vmax=1)\n",
    "plt.title('carte de corrélation', fontsize =15, fontweight='bold')\n",
    "plt.show()"
   ]
  },
  {
   "cell_type": "code",
   "execution_count": 101,
   "id": "3c38d8cb",
   "metadata": {},
   "outputs": [
    {
     "name": "stderr",
     "output_type": "stream",
     "text": [
      "C:\\Users\\Christian\\anaconda3\\lib\\site-packages\\seaborn\\axisgrid.py:1444: MatplotlibDeprecationWarning:\n",
      "\n",
      "The join function was deprecated in Matplotlib 3.6 and will be removed two minor releases later.\n",
      "\n"
     ]
    },
    {
     "data": {
      "text/plain": [
       "<seaborn.axisgrid.PairGrid at 0x1bc32309ee0>"
      ]
     },
     "execution_count": 101,
     "metadata": {},
     "output_type": "execute_result"
    },
    {
     "data": {
      "image/png": "[encoded data removed]",
      "text/plain": [
       "<Figure size 900x900 with 30 Axes>"
      ]
     },
     "metadata": {
      "needs_background": "light"
     },
     "output_type": "display_data"
    }
   ],
   "source": [
    "df_heatmap_varfixe = df_group.loc[:,['Nbre vente','charge totale','charge fixe','charge variable','CA']]\n",
    "sns.pairplot(df_heatmap_varfixe)"
   ]
  },
  {
   "cell_type": "code",
   "execution_count": 102,
   "id": "cbf4b157",
   "metadata": {},
   "outputs": [
    {
     "name": "stderr",
     "output_type": "stream",
     "text": [
      "C:\\Users\\Christian\\anaconda3\\lib\\site-packages\\seaborn\\axisgrid.py:1444: MatplotlibDeprecationWarning:\n",
      "\n",
      "The join function was deprecated in Matplotlib 3.6 and will be removed two minor releases later.\n",
      "\n"
     ]
    },
    {
     "data": {
      "text/plain": [
       "<seaborn.axisgrid.PairGrid at 0x1bc3344c760>"
      ]
     },
     "execution_count": 102,
     "metadata": {},
     "output_type": "execute_result"
    },
    {
     "data": {
      "image/png": "[encoded data removed]",
      "text/plain": [
       "<Figure size 720x720 with 20 Axes>"
      ]
     },
     "metadata": {
      "needs_background": "light"
     },
     "output_type": "display_data"
    }
   ],
   "source": [
    "df_heatmap_dirn = df_group.loc[:,['charge totale','charges directes','charges indirectes','CA']]\n",
    "sns.pairplot(df_heatmap_dirn)"
   ]
  },
  {
   "cell_type": "markdown",
   "id": "1f3201be",
   "metadata": {},
   "source": [
    "En général, un boxplot permet de détecter les outliers, de voir si une distribution est symétrique ou non, de mesurer la variabilité des données, etc. Il est très utile pour comparer plusieurs distributions de données.Les moustaches s'étendent jusqu'à 1,5*IQR.\n",
    "La longueur de la boîte dans un boxplot représente l'intervalle interquartile (IQR) des données, c'est-à-dire la différence entre les limites supérieures et inférieures (Q3 et Q1). Si la longueur de la boîte dans un boxplot est plus grande que celle d'un autre boxplot, cela signifie que les données sont plus dispersées dans le premier boxplot par rapport au second."
   ]
  },
  {
   "cell_type": "code",
   "execution_count": 103,
   "id": "80f7b6fc",
   "metadata": {},
   "outputs": [],
   "source": [
    "df_group_ca = df_group.loc[:,['Service','marque','pays','mois','CA']]"
   ]
  },
  {
   "cell_type": "code",
   "execution_count": 104,
   "id": "1ceb3532",
   "metadata": {},
   "outputs": [],
   "source": [
    "df_mscv = df.loc[:,['Service','Segment','pays','marque','charge totale','charge fixe','charge variable','vente', 'bénéfice','remise tot']]\n",
    "df_mscv[\"marge/cv\"]= df_mscv[\"vente\"]-df_mscv[\"charge variable\"]"
   ]
  },
  {
   "cell_type": "code",
   "execution_count": 105,
   "id": "0a08145b",
   "metadata": {},
   "outputs": [],
   "source": [
    "df_mscv_service =df_mscv.groupby(['Service','Segment','pays','marque'])[\"marge/cv\"].sum()\n",
    "df_mscv_service  = df_mscv_service.reset_index()\n",
    "#df_mscv_service"
   ]
  },
  {
   "cell_type": "code",
   "execution_count": 106,
   "id": "855c4332",
   "metadata": {},
   "outputs": [
    {
     "data": {
      "text/html": [
       "<div>\n",
       "<style scoped>\n",
       "    .dataframe tbody tr th:only-of-type {\n",
       "        vertical-align: middle;\n",
       "    }\n",
       "\n",
       "    .dataframe tbody tr th {\n",
       "        vertical-align: top;\n",
       "    }\n",
       "\n",
       "    .dataframe thead th {\n",
       "        text-align: right;\n",
       "    }\n",
       "</style>\n",
       "<table border=\"1\" class=\"dataframe\">\n",
       "  <thead>\n",
       "    <tr style=\"text-align: right;\">\n",
       "      <th></th>\n",
       "      <th>min</th>\n",
       "      <th>max</th>\n",
       "      <th>sum</th>\n",
       "    </tr>\n",
       "    <tr>\n",
       "      <th>Service</th>\n",
       "      <th></th>\n",
       "      <th></th>\n",
       "      <th></th>\n",
       "    </tr>\n",
       "  </thead>\n",
       "  <tbody>\n",
       "    <tr>\n",
       "      <th>Hôtel</th>\n",
       "      <td>2736</td>\n",
       "      <td>464880</td>\n",
       "      <td>36752816</td>\n",
       "    </tr>\n",
       "    <tr>\n",
       "      <th>Restaurant</th>\n",
       "      <td>3836</td>\n",
       "      <td>98824</td>\n",
       "      <td>9461127</td>\n",
       "    </tr>\n",
       "  </tbody>\n",
       "</table>\n",
       "</div>"
      ],
      "text/plain": [
       "             min     max       sum\n",
       "Service                           \n",
       "Hôtel       2736  464880  36752816\n",
       "Restaurant  3836   98824   9461127"
      ]
     },
     "execution_count": 106,
     "metadata": {},
     "output_type": "execute_result"
    }
   ],
   "source": [
    "df_mscv.groupby('Service')[\"charge variable\"].agg([min, max, sum])"
   ]
  },
  {
   "cell_type": "code",
   "execution_count": 107,
   "id": "7a59541e",
   "metadata": {},
   "outputs": [
    {
     "data": {
      "text/html": [
       "<div>\n",
       "<style scoped>\n",
       "    .dataframe tbody tr th:only-of-type {\n",
       "        vertical-align: middle;\n",
       "    }\n",
       "\n",
       "    .dataframe tbody tr th {\n",
       "        vertical-align: top;\n",
       "    }\n",
       "\n",
       "    .dataframe thead th {\n",
       "        text-align: right;\n",
       "    }\n",
       "</style>\n",
       "<table border=\"1\" class=\"dataframe\">\n",
       "  <thead>\n",
       "    <tr style=\"text-align: right;\">\n",
       "      <th></th>\n",
       "      <th>min</th>\n",
       "      <th>max</th>\n",
       "      <th>sum</th>\n",
       "    </tr>\n",
       "    <tr>\n",
       "      <th>Service</th>\n",
       "      <th></th>\n",
       "      <th></th>\n",
       "      <th></th>\n",
       "    </tr>\n",
       "  </thead>\n",
       "  <tbody>\n",
       "    <tr>\n",
       "      <th>Hôtel</th>\n",
       "      <td>116604</td>\n",
       "      <td>2599040</td>\n",
       "      <td>61967709</td>\n",
       "    </tr>\n",
       "    <tr>\n",
       "      <th>Restaurant</th>\n",
       "      <td>13617</td>\n",
       "      <td>764245</td>\n",
       "      <td>13803298</td>\n",
       "    </tr>\n",
       "  </tbody>\n",
       "</table>\n",
       "</div>"
      ],
      "text/plain": [
       "               min      max       sum\n",
       "Service                              \n",
       "Hôtel       116604  2599040  61967709\n",
       "Restaurant   13617   764245  13803298"
      ]
     },
     "execution_count": 107,
     "metadata": {},
     "output_type": "execute_result"
    }
   ],
   "source": [
    "df_mscv_service.groupby('Service')[\"marge/cv\"].agg([min, max, sum])"
   ]
  },
  {
   "cell_type": "code",
   "execution_count": 108,
   "id": "2509970a",
   "metadata": {},
   "outputs": [
    {
     "data": {
      "text/html": [
       "<div>\n",
       "<style scoped>\n",
       "    .dataframe tbody tr th:only-of-type {\n",
       "        vertical-align: middle;\n",
       "    }\n",
       "\n",
       "    .dataframe tbody tr th {\n",
       "        vertical-align: top;\n",
       "    }\n",
       "\n",
       "    .dataframe thead th {\n",
       "        text-align: right;\n",
       "    }\n",
       "</style>\n",
       "<table border=\"1\" class=\"dataframe\">\n",
       "  <thead>\n",
       "    <tr style=\"text-align: right;\">\n",
       "      <th></th>\n",
       "      <th>min</th>\n",
       "      <th>max</th>\n",
       "      <th>sum</th>\n",
       "    </tr>\n",
       "    <tr>\n",
       "      <th>Service</th>\n",
       "      <th></th>\n",
       "      <th></th>\n",
       "      <th></th>\n",
       "    </tr>\n",
       "  </thead>\n",
       "  <tbody>\n",
       "    <tr>\n",
       "      <th>Hôtel</th>\n",
       "      <td>200</td>\n",
       "      <td>268128</td>\n",
       "      <td>6838485</td>\n",
       "    </tr>\n",
       "    <tr>\n",
       "      <th>Restaurant</th>\n",
       "      <td>-16104</td>\n",
       "      <td>14105</td>\n",
       "      <td>-388388</td>\n",
       "    </tr>\n",
       "  </tbody>\n",
       "</table>\n",
       "</div>"
      ],
      "text/plain": [
       "              min     max      sum\n",
       "Service                           \n",
       "Hôtel         200  268128  6838485\n",
       "Restaurant -16104   14105  -388388"
      ]
     },
     "execution_count": 108,
     "metadata": {},
     "output_type": "execute_result"
    }
   ],
   "source": [
    "df_mscv.groupby('Service')[\"bénéfice\"].agg([min, max, sum])"
   ]
  },
  {
   "cell_type": "code",
   "execution_count": 109,
   "id": "df0cfb12",
   "metadata": {},
   "outputs": [
    {
     "data": {
      "text/plain": [
       "6450097"
      ]
     },
     "execution_count": 109,
     "metadata": {},
     "output_type": "execute_result"
    }
   ],
   "source": [
    "df_mscv['bénéfice'].sum()"
   ]
  },
  {
   "cell_type": "code",
   "execution_count": 110,
   "id": "308e83a5",
   "metadata": {},
   "outputs": [
    {
     "data": {
      "text/plain": [
       "75771007"
      ]
     },
     "execution_count": 110,
     "metadata": {},
     "output_type": "execute_result"
    }
   ],
   "source": [
    "df_mscv_service[\"marge/cv\"].sum()"
   ]
  },
  {
   "cell_type": "code",
   "execution_count": 111,
   "id": "ecdc1c89",
   "metadata": {},
   "outputs": [
    {
     "data": {
      "text/plain": [
       "69320910"
      ]
     },
     "execution_count": 111,
     "metadata": {},
     "output_type": "execute_result"
    }
   ],
   "source": [
    "df_mscv[\"charge fixe\"].sum()"
   ]
  },
  {
   "cell_type": "code",
   "execution_count": 112,
   "id": "bc1569e5",
   "metadata": {},
   "outputs": [
    {
     "data": {
      "text/html": [
       "<div>\n",
       "<style scoped>\n",
       "    .dataframe tbody tr th:only-of-type {\n",
       "        vertical-align: middle;\n",
       "    }\n",
       "\n",
       "    .dataframe tbody tr th {\n",
       "        vertical-align: top;\n",
       "    }\n",
       "\n",
       "    .dataframe thead th {\n",
       "        text-align: right;\n",
       "    }\n",
       "</style>\n",
       "<table border=\"1\" class=\"dataframe\">\n",
       "  <thead>\n",
       "    <tr style=\"text-align: right;\">\n",
       "      <th></th>\n",
       "      <th>min</th>\n",
       "      <th>max</th>\n",
       "      <th>sum</th>\n",
       "    </tr>\n",
       "    <tr>\n",
       "      <th>Service</th>\n",
       "      <th></th>\n",
       "      <th></th>\n",
       "      <th></th>\n",
       "    </tr>\n",
       "  </thead>\n",
       "  <tbody>\n",
       "    <tr>\n",
       "      <th>Hôtel</th>\n",
       "      <td>4104</td>\n",
       "      <td>697320</td>\n",
       "      <td>55129224</td>\n",
       "    </tr>\n",
       "    <tr>\n",
       "      <th>Restaurant</th>\n",
       "      <td>5754</td>\n",
       "      <td>148236</td>\n",
       "      <td>14191686</td>\n",
       "    </tr>\n",
       "  </tbody>\n",
       "</table>\n",
       "</div>"
      ],
      "text/plain": [
       "             min     max       sum\n",
       "Service                           \n",
       "Hôtel       4104  697320  55129224\n",
       "Restaurant  5754  148236  14191686"
      ]
     },
     "execution_count": 112,
     "metadata": {},
     "output_type": "execute_result"
    }
   ],
   "source": [
    "df_mscv.groupby('Service')[\"charge fixe\"].agg([min, max, sum])"
   ]
  },
  {
   "cell_type": "code",
   "execution_count": 113,
   "id": "82a427ba",
   "metadata": {},
   "outputs": [],
   "source": [
    "df_mscv_service =df_mscv.groupby(['Service','Segment','pays','marque'])[\"marge/cv\"].sum()"
   ]
  },
  {
   "cell_type": "raw",
   "id": "8442df9d",
   "metadata": {},
   "source": [
    "# L'activité restaurant est déficitaire (-388 K€), l'actvité hôtel est excédentaire (6 M€). Néanmons l'activite restaurant dégage une MSCV de 13M€ (charge variable restaurant = 9M€) contre 61€ pour l'hôtel (charge variable hôtel = 36M€). Si l'entreprise décidait de ceder l'activité restaurant, la MSCV hôtel (36M€) se retrouverait seul à financer les charges fixes de 69M€.  \n",
    "Il faudra pour être plus précis déduire les coûts fixes spécifiques aux deux activités (charges de personnel et amortissement par exemple) pour déterminé les charges fixes communes (totalement imcompressible).  "
   ]
  },
  {
   "cell_type": "code",
   "execution_count": 116,
   "id": "1dfede19",
   "metadata": {},
   "outputs": [
    {
     "data": {
      "text/html": [
       "<div>\n",
       "<style scoped>\n",
       "    .dataframe tbody tr th:only-of-type {\n",
       "        vertical-align: middle;\n",
       "    }\n",
       "\n",
       "    .dataframe tbody tr th {\n",
       "        vertical-align: top;\n",
       "    }\n",
       "\n",
       "    .dataframe thead th {\n",
       "        text-align: right;\n",
       "    }\n",
       "</style>\n",
       "<table border=\"1\" class=\"dataframe\">\n",
       "  <thead>\n",
       "    <tr style=\"text-align: right;\">\n",
       "      <th></th>\n",
       "      <th>pays</th>\n",
       "      <th>marque</th>\n",
       "      <th>charge totale</th>\n",
       "      <th>charge fixe</th>\n",
       "      <th>charge variable</th>\n",
       "      <th>CA</th>\n",
       "      <th>vente</th>\n",
       "      <th>bénéfice</th>\n",
       "      <th>Nbre vente</th>\n",
       "      <th>prix de vente</th>\n",
       "    </tr>\n",
       "  </thead>\n",
       "  <tbody>\n",
       "    <tr>\n",
       "      <th>0</th>\n",
       "      <td>Canada</td>\n",
       "      <td>Tacos</td>\n",
       "      <td>56630</td>\n",
       "      <td>33978</td>\n",
       "      <td>22652</td>\n",
       "      <td>64720</td>\n",
       "      <td>64720</td>\n",
       "      <td>8090</td>\n",
       "      <td>1618</td>\n",
       "      <td>40</td>\n",
       "    </tr>\n",
       "    <tr>\n",
       "      <th>1</th>\n",
       "      <td>Germany</td>\n",
       "      <td>Tacos</td>\n",
       "      <td>46235</td>\n",
       "      <td>27741</td>\n",
       "      <td>18494</td>\n",
       "      <td>52840</td>\n",
       "      <td>52840</td>\n",
       "      <td>6605</td>\n",
       "      <td>1321</td>\n",
       "      <td>40</td>\n",
       "    </tr>\n",
       "    <tr>\n",
       "      <th>2</th>\n",
       "      <td>Mexico</td>\n",
       "      <td>Tapas</td>\n",
       "      <td>67185</td>\n",
       "      <td>40311</td>\n",
       "      <td>26874</td>\n",
       "      <td>74650</td>\n",
       "      <td>74650</td>\n",
       "      <td>7465</td>\n",
       "      <td>1493</td>\n",
       "      <td>50</td>\n",
       "    </tr>\n",
       "    <tr>\n",
       "      <th>3</th>\n",
       "      <td>France</td>\n",
       "      <td>Patio</td>\n",
       "      <td>216975</td>\n",
       "      <td>130185</td>\n",
       "      <td>86790</td>\n",
       "      <td>236700</td>\n",
       "      <td>224865</td>\n",
       "      <td>7890</td>\n",
       "      <td>3945</td>\n",
       "      <td>60</td>\n",
       "    </tr>\n",
       "    <tr>\n",
       "      <th>4</th>\n",
       "      <td>France</td>\n",
       "      <td>Patio</td>\n",
       "      <td>133897</td>\n",
       "      <td>80338</td>\n",
       "      <td>53559</td>\n",
       "      <td>146070</td>\n",
       "      <td>138766</td>\n",
       "      <td>4869</td>\n",
       "      <td>2434</td>\n",
       "      <td>60</td>\n",
       "    </tr>\n",
       "  </tbody>\n",
       "</table>\n",
       "</div>"
      ],
      "text/plain": [
       "      pays marque  charge totale  charge fixe  charge variable      CA  \\\n",
       "0   Canada  Tacos          56630        33978            22652   64720   \n",
       "1  Germany  Tacos          46235        27741            18494   52840   \n",
       "2   Mexico  Tapas          67185        40311            26874   74650   \n",
       "3   France  Patio         216975       130185            86790  236700   \n",
       "4   France  Patio         133897        80338            53559  146070   \n",
       "\n",
       "    vente  bénéfice  Nbre vente  prix de vente  \n",
       "0   64720      8090        1618             40  \n",
       "1   52840      6605        1321             40  \n",
       "2   74650      7465        1493             50  \n",
       "3  224865      7890        3945             60  \n",
       "4  138766      4869        2434             60  "
      ]
     },
     "execution_count": 116,
     "metadata": {},
     "output_type": "execute_result"
    }
   ],
   "source": [
    "# Combien le restaurant doit-il doit-il servir de repas à l'année à l'année pour être à l'équilibre?\n",
    "df_restaurant=df[df[\"Service\"] == \"Restaurant\"]\n",
    "df_rest = df_restaurant.loc[:,['pays','marque','charge totale','charge fixe','charge variable','CA','vente', 'bénéfice','Nbre vente','prix de vente']]\n",
    "df_rest.head(5)"
   ]
  },
  {
   "cell_type": "code",
   "execution_count": 117,
   "id": "f8de1e21",
   "metadata": {},
   "outputs": [
    {
     "data": {
      "text/html": [
       "<div>\n",
       "<style scoped>\n",
       "    .dataframe tbody tr th:only-of-type {\n",
       "        vertical-align: middle;\n",
       "    }\n",
       "\n",
       "    .dataframe tbody tr th {\n",
       "        vertical-align: top;\n",
       "    }\n",
       "\n",
       "    .dataframe thead th {\n",
       "        text-align: right;\n",
       "    }\n",
       "</style>\n",
       "<table border=\"1\" class=\"dataframe\">\n",
       "  <thead>\n",
       "    <tr style=\"text-align: right;\">\n",
       "      <th></th>\n",
       "      <th>pays</th>\n",
       "      <th>marque</th>\n",
       "      <th>charge totale</th>\n",
       "      <th>charge fixe</th>\n",
       "      <th>charge variable</th>\n",
       "      <th>CA</th>\n",
       "      <th>vente</th>\n",
       "      <th>bénéfice</th>\n",
       "      <th>Nbre vente</th>\n",
       "      <th>prix de vente</th>\n",
       "      <th>Charge variable/repas</th>\n",
       "    </tr>\n",
       "  </thead>\n",
       "  <tbody>\n",
       "    <tr>\n",
       "      <th>0</th>\n",
       "      <td>Canada</td>\n",
       "      <td>Tacos</td>\n",
       "      <td>56630</td>\n",
       "      <td>33978</td>\n",
       "      <td>22652</td>\n",
       "      <td>64720</td>\n",
       "      <td>64720</td>\n",
       "      <td>8090</td>\n",
       "      <td>1618</td>\n",
       "      <td>40</td>\n",
       "      <td>14.000000</td>\n",
       "    </tr>\n",
       "    <tr>\n",
       "      <th>1</th>\n",
       "      <td>Germany</td>\n",
       "      <td>Tacos</td>\n",
       "      <td>46235</td>\n",
       "      <td>27741</td>\n",
       "      <td>18494</td>\n",
       "      <td>52840</td>\n",
       "      <td>52840</td>\n",
       "      <td>6605</td>\n",
       "      <td>1321</td>\n",
       "      <td>40</td>\n",
       "      <td>14.000000</td>\n",
       "    </tr>\n",
       "    <tr>\n",
       "      <th>2</th>\n",
       "      <td>Mexico</td>\n",
       "      <td>Tapas</td>\n",
       "      <td>67185</td>\n",
       "      <td>40311</td>\n",
       "      <td>26874</td>\n",
       "      <td>74650</td>\n",
       "      <td>74650</td>\n",
       "      <td>7465</td>\n",
       "      <td>1493</td>\n",
       "      <td>50</td>\n",
       "      <td>18.000000</td>\n",
       "    </tr>\n",
       "    <tr>\n",
       "      <th>3</th>\n",
       "      <td>France</td>\n",
       "      <td>Patio</td>\n",
       "      <td>216975</td>\n",
       "      <td>130185</td>\n",
       "      <td>86790</td>\n",
       "      <td>236700</td>\n",
       "      <td>224865</td>\n",
       "      <td>7890</td>\n",
       "      <td>3945</td>\n",
       "      <td>60</td>\n",
       "      <td>22.000000</td>\n",
       "    </tr>\n",
       "    <tr>\n",
       "      <th>4</th>\n",
       "      <td>France</td>\n",
       "      <td>Patio</td>\n",
       "      <td>133897</td>\n",
       "      <td>80338</td>\n",
       "      <td>53559</td>\n",
       "      <td>146070</td>\n",
       "      <td>138766</td>\n",
       "      <td>4869</td>\n",
       "      <td>2434</td>\n",
       "      <td>60</td>\n",
       "      <td>22.004519</td>\n",
       "    </tr>\n",
       "  </tbody>\n",
       "</table>\n",
       "</div>"
      ],
      "text/plain": [
       "      pays marque  charge totale  charge fixe  charge variable      CA  \\\n",
       "0   Canada  Tacos          56630        33978            22652   64720   \n",
       "1  Germany  Tacos          46235        27741            18494   52840   \n",
       "2   Mexico  Tapas          67185        40311            26874   74650   \n",
       "3   France  Patio         216975       130185            86790  236700   \n",
       "4   France  Patio         133897        80338            53559  146070   \n",
       "\n",
       "    vente  bénéfice  Nbre vente  prix de vente  Charge variable/repas  \n",
       "0   64720      8090        1618             40              14.000000  \n",
       "1   52840      6605        1321             40              14.000000  \n",
       "2   74650      7465        1493             50              18.000000  \n",
       "3  224865      7890        3945             60              22.000000  \n",
       "4  138766      4869        2434             60              22.004519  "
      ]
     },
     "execution_count": 117,
     "metadata": {},
     "output_type": "execute_result"
    }
   ],
   "source": [
    "# Je calcule le montant de charge variable par repas \n",
    "df_rest[\"Charge variable/repas\"] = df_rest[\"charge variable\"]/df_rest[\"Nbre vente\"]\n",
    "df_rest.head(5)"
   ]
  },
  {
   "cell_type": "code",
   "execution_count": 118,
   "id": "9e79332f",
   "metadata": {},
   "outputs": [
    {
     "data": {
      "text/html": [
       "<div>\n",
       "<style scoped>\n",
       "    .dataframe tbody tr th:only-of-type {\n",
       "        vertical-align: middle;\n",
       "    }\n",
       "\n",
       "    .dataframe tbody tr th {\n",
       "        vertical-align: top;\n",
       "    }\n",
       "\n",
       "    .dataframe thead th {\n",
       "        text-align: right;\n",
       "    }\n",
       "</style>\n",
       "<table border=\"1\" class=\"dataframe\">\n",
       "  <thead>\n",
       "    <tr style=\"text-align: right;\">\n",
       "      <th></th>\n",
       "      <th>pays</th>\n",
       "      <th>marque</th>\n",
       "      <th>charge totale</th>\n",
       "      <th>charge fixe</th>\n",
       "      <th>charge variable</th>\n",
       "      <th>CA</th>\n",
       "      <th>vente</th>\n",
       "      <th>bénéfice</th>\n",
       "      <th>Nbre vente</th>\n",
       "      <th>prix de vente</th>\n",
       "      <th>Charge variable/repas</th>\n",
       "      <th>mscv_rest</th>\n",
       "      <th>mscv/repas</th>\n",
       "    </tr>\n",
       "  </thead>\n",
       "  <tbody>\n",
       "    <tr>\n",
       "      <th>0</th>\n",
       "      <td>Canada</td>\n",
       "      <td>Tacos</td>\n",
       "      <td>56630</td>\n",
       "      <td>33978</td>\n",
       "      <td>22652</td>\n",
       "      <td>64720</td>\n",
       "      <td>64720</td>\n",
       "      <td>8090</td>\n",
       "      <td>1618</td>\n",
       "      <td>40</td>\n",
       "      <td>14.000000</td>\n",
       "      <td>42068</td>\n",
       "      <td>26.000000</td>\n",
       "    </tr>\n",
       "    <tr>\n",
       "      <th>1</th>\n",
       "      <td>Germany</td>\n",
       "      <td>Tacos</td>\n",
       "      <td>46235</td>\n",
       "      <td>27741</td>\n",
       "      <td>18494</td>\n",
       "      <td>52840</td>\n",
       "      <td>52840</td>\n",
       "      <td>6605</td>\n",
       "      <td>1321</td>\n",
       "      <td>40</td>\n",
       "      <td>14.000000</td>\n",
       "      <td>34346</td>\n",
       "      <td>26.000000</td>\n",
       "    </tr>\n",
       "    <tr>\n",
       "      <th>2</th>\n",
       "      <td>Mexico</td>\n",
       "      <td>Tapas</td>\n",
       "      <td>67185</td>\n",
       "      <td>40311</td>\n",
       "      <td>26874</td>\n",
       "      <td>74650</td>\n",
       "      <td>74650</td>\n",
       "      <td>7465</td>\n",
       "      <td>1493</td>\n",
       "      <td>50</td>\n",
       "      <td>18.000000</td>\n",
       "      <td>47776</td>\n",
       "      <td>32.000000</td>\n",
       "    </tr>\n",
       "    <tr>\n",
       "      <th>3</th>\n",
       "      <td>France</td>\n",
       "      <td>Patio</td>\n",
       "      <td>216975</td>\n",
       "      <td>130185</td>\n",
       "      <td>86790</td>\n",
       "      <td>236700</td>\n",
       "      <td>224865</td>\n",
       "      <td>7890</td>\n",
       "      <td>3945</td>\n",
       "      <td>60</td>\n",
       "      <td>22.000000</td>\n",
       "      <td>138075</td>\n",
       "      <td>35.000000</td>\n",
       "    </tr>\n",
       "    <tr>\n",
       "      <th>4</th>\n",
       "      <td>France</td>\n",
       "      <td>Patio</td>\n",
       "      <td>133897</td>\n",
       "      <td>80338</td>\n",
       "      <td>53559</td>\n",
       "      <td>146070</td>\n",
       "      <td>138766</td>\n",
       "      <td>4869</td>\n",
       "      <td>2434</td>\n",
       "      <td>60</td>\n",
       "      <td>22.004519</td>\n",
       "      <td>85207</td>\n",
       "      <td>35.006984</td>\n",
       "    </tr>\n",
       "  </tbody>\n",
       "</table>\n",
       "</div>"
      ],
      "text/plain": [
       "      pays marque  charge totale  charge fixe  charge variable      CA  \\\n",
       "0   Canada  Tacos          56630        33978            22652   64720   \n",
       "1  Germany  Tacos          46235        27741            18494   52840   \n",
       "2   Mexico  Tapas          67185        40311            26874   74650   \n",
       "3   France  Patio         216975       130185            86790  236700   \n",
       "4   France  Patio         133897        80338            53559  146070   \n",
       "\n",
       "    vente  bénéfice  Nbre vente  prix de vente  Charge variable/repas  \\\n",
       "0   64720      8090        1618             40              14.000000   \n",
       "1   52840      6605        1321             40              14.000000   \n",
       "2   74650      7465        1493             50              18.000000   \n",
       "3  224865      7890        3945             60              22.000000   \n",
       "4  138766      4869        2434             60              22.004519   \n",
       "\n",
       "   mscv_rest  mscv/repas  \n",
       "0      42068   26.000000  \n",
       "1      34346   26.000000  \n",
       "2      47776   32.000000  \n",
       "3     138075   35.000000  \n",
       "4      85207   35.006984  "
      ]
     },
     "execution_count": 118,
     "metadata": {},
     "output_type": "execute_result"
    }
   ],
   "source": [
    "# Je calcule la Marge du coût variable globale pour l'activité restaurant\n",
    "df_rest[\"mscv_rest\"] = df_rest[\"vente\"]-df_rest[\"charge variable\"]\n",
    "# Je calcule la Marge sur coût variable par repas\n",
    "df_rest[\"mscv/repas\"] = df_rest[\"mscv_rest\"]/df_rest[\"Nbre vente\"]\n",
    "df_rest.head(5)"
   ]
  },
  {
   "cell_type": "code",
   "execution_count": 119,
   "id": "7411ee93",
   "metadata": {},
   "outputs": [
    {
     "data": {
      "text/plain": [
       "514388.0146389499"
      ]
     },
     "execution_count": 119,
     "metadata": {},
     "output_type": "execute_result"
    }
   ],
   "source": [
    "#Je calcule le nombre de repas à vendre pour couvrir les charges fixes\n",
    "df_rest[\"repas_cible\"] = df_rest[\"charge fixe\"]/df_rest[\"mscv/repas\"]\n",
    "df_rest[\"repas_cible\"].sum()"
   ]
  },
  {
   "cell_type": "code",
   "execution_count": 120,
   "id": "abbc0343",
   "metadata": {},
   "outputs": [
    {
     "data": {
      "text/plain": [
       "494380"
      ]
     },
     "execution_count": 120,
     "metadata": {},
     "output_type": "execute_result"
    }
   ],
   "source": [
    "df_rest[\"Nbre vente\"].sum()"
   ]
  },
  {
   "cell_type": "markdown",
   "id": "c01e1975",
   "metadata": {},
   "source": [
    "# L'activité restaurant doit générer 861 114 repas contre 845 004 en 2022 pour espérer être à l'équilibre. "
   ]
  },
  {
   "cell_type": "code",
   "execution_count": 122,
   "id": "a5119f09",
   "metadata": {},
   "outputs": [
    {
     "data": {
      "text/html": [
       "<div>\n",
       "<style scoped>\n",
       "    .dataframe tbody tr th:only-of-type {\n",
       "        vertical-align: middle;\n",
       "    }\n",
       "\n",
       "    .dataframe tbody tr th {\n",
       "        vertical-align: top;\n",
       "    }\n",
       "\n",
       "    .dataframe thead th {\n",
       "        text-align: right;\n",
       "    }\n",
       "</style>\n",
       "<table border=\"1\" class=\"dataframe\">\n",
       "  <thead>\n",
       "    <tr style=\"text-align: right;\">\n",
       "      <th></th>\n",
       "      <th>index</th>\n",
       "      <th>pays</th>\n",
       "      <th>marque</th>\n",
       "      <th>Nbre vente</th>\n",
       "      <th>prix de vente</th>\n",
       "      <th>Charge variable/repas</th>\n",
       "      <th>mscv/repas</th>\n",
       "      <th>repas_cible</th>\n",
       "    </tr>\n",
       "  </thead>\n",
       "  <tbody>\n",
       "    <tr>\n",
       "      <th>0</th>\n",
       "      <td>0</td>\n",
       "      <td>Canada</td>\n",
       "      <td>Tacos</td>\n",
       "      <td>1618</td>\n",
       "      <td>40</td>\n",
       "      <td>14.000000</td>\n",
       "      <td>26.000000</td>\n",
       "      <td>1306.846154</td>\n",
       "    </tr>\n",
       "    <tr>\n",
       "      <th>1</th>\n",
       "      <td>1</td>\n",
       "      <td>Germany</td>\n",
       "      <td>Tacos</td>\n",
       "      <td>1321</td>\n",
       "      <td>40</td>\n",
       "      <td>14.000000</td>\n",
       "      <td>26.000000</td>\n",
       "      <td>1066.961538</td>\n",
       "    </tr>\n",
       "    <tr>\n",
       "      <th>2</th>\n",
       "      <td>2</td>\n",
       "      <td>Mexico</td>\n",
       "      <td>Tapas</td>\n",
       "      <td>1493</td>\n",
       "      <td>50</td>\n",
       "      <td>18.000000</td>\n",
       "      <td>32.000000</td>\n",
       "      <td>1259.718750</td>\n",
       "    </tr>\n",
       "    <tr>\n",
       "      <th>3</th>\n",
       "      <td>3</td>\n",
       "      <td>France</td>\n",
       "      <td>Patio</td>\n",
       "      <td>3945</td>\n",
       "      <td>60</td>\n",
       "      <td>22.000000</td>\n",
       "      <td>35.000000</td>\n",
       "      <td>3719.571429</td>\n",
       "    </tr>\n",
       "    <tr>\n",
       "      <th>4</th>\n",
       "      <td>4</td>\n",
       "      <td>France</td>\n",
       "      <td>Patio</td>\n",
       "      <td>2434</td>\n",
       "      <td>60</td>\n",
       "      <td>22.004519</td>\n",
       "      <td>35.006984</td>\n",
       "      <td>2294.913470</td>\n",
       "    </tr>\n",
       "    <tr>\n",
       "      <th>...</th>\n",
       "      <td>...</td>\n",
       "      <td>...</td>\n",
       "      <td>...</td>\n",
       "      <td>...</td>\n",
       "      <td>...</td>\n",
       "      <td>...</td>\n",
       "      <td>...</td>\n",
       "      <td>...</td>\n",
       "    </tr>\n",
       "    <tr>\n",
       "      <th>298</th>\n",
       "      <td>517</td>\n",
       "      <td>Germany</td>\n",
       "      <td>Tacos</td>\n",
       "      <td>280</td>\n",
       "      <td>40</td>\n",
       "      <td>14.000000</td>\n",
       "      <td>17.000000</td>\n",
       "      <td>345.882353</td>\n",
       "    </tr>\n",
       "    <tr>\n",
       "      <th>299</th>\n",
       "      <td>519</td>\n",
       "      <td>Canada</td>\n",
       "      <td>Tacos</td>\n",
       "      <td>2300</td>\n",
       "      <td>40</td>\n",
       "      <td>14.000000</td>\n",
       "      <td>17.000000</td>\n",
       "      <td>2841.176471</td>\n",
       "    </tr>\n",
       "    <tr>\n",
       "      <th>300</th>\n",
       "      <td>521</td>\n",
       "      <td>US</td>\n",
       "      <td>Patio</td>\n",
       "      <td>914</td>\n",
       "      <td>60</td>\n",
       "      <td>22.000000</td>\n",
       "      <td>29.000000</td>\n",
       "      <td>1040.068966</td>\n",
       "    </tr>\n",
       "    <tr>\n",
       "      <th>301</th>\n",
       "      <td>522</td>\n",
       "      <td>France</td>\n",
       "      <td>Patio</td>\n",
       "      <td>293</td>\n",
       "      <td>60</td>\n",
       "      <td>22.000000</td>\n",
       "      <td>29.000000</td>\n",
       "      <td>333.413793</td>\n",
       "    </tr>\n",
       "    <tr>\n",
       "      <th>302</th>\n",
       "      <td>523</td>\n",
       "      <td>US</td>\n",
       "      <td>Tapas</td>\n",
       "      <td>914</td>\n",
       "      <td>50</td>\n",
       "      <td>18.000000</td>\n",
       "      <td>23.000000</td>\n",
       "      <td>1072.956522</td>\n",
       "    </tr>\n",
       "  </tbody>\n",
       "</table>\n",
       "<p>303 rows × 8 columns</p>\n",
       "</div>"
      ],
      "text/plain": [
       "     index     pays marque  Nbre vente  prix de vente  Charge variable/repas  \\\n",
       "0        0   Canada  Tacos        1618             40              14.000000   \n",
       "1        1  Germany  Tacos        1321             40              14.000000   \n",
       "2        2   Mexico  Tapas        1493             50              18.000000   \n",
       "3        3   France  Patio        3945             60              22.000000   \n",
       "4        4   France  Patio        2434             60              22.004519   \n",
       "..     ...      ...    ...         ...            ...                    ...   \n",
       "298    517  Germany  Tacos         280             40              14.000000   \n",
       "299    519   Canada  Tacos        2300             40              14.000000   \n",
       "300    521       US  Patio         914             60              22.000000   \n",
       "301    522   France  Patio         293             60              22.000000   \n",
       "302    523       US  Tapas         914             50              18.000000   \n",
       "\n",
       "     mscv/repas  repas_cible  \n",
       "0     26.000000  1306.846154  \n",
       "1     26.000000  1066.961538  \n",
       "2     32.000000  1259.718750  \n",
       "3     35.000000  3719.571429  \n",
       "4     35.006984  2294.913470  \n",
       "..          ...          ...  \n",
       "298   17.000000   345.882353  \n",
       "299   17.000000  2841.176471  \n",
       "300   29.000000  1040.068966  \n",
       "301   29.000000   333.413793  \n",
       "302   23.000000  1072.956522  \n",
       "\n",
       "[303 rows x 8 columns]"
      ]
     },
     "execution_count": 122,
     "metadata": {},
     "output_type": "execute_result"
    }
   ],
   "source": [
    "# Je sélectionne les variables utiles à l'analyse\n",
    "df_rest_récap_mscv = df_rest.loc[:,['pays','marque','Nbre vente','prix de vente','Charge variable/repas','mscv/repas','repas_cible']]\n",
    "df_rest_récap_mscv = df_rest_récap_mscv.reset_index()\n",
    "df_rest_récap_mscv"
   ]
  },
  {
   "cell_type": "code",
   "execution_count": 123,
   "id": "4919d7e6",
   "metadata": {},
   "outputs": [
    {
     "data": {
      "text/html": [
       "<div>\n",
       "<style scoped>\n",
       "    .dataframe tbody tr th:only-of-type {\n",
       "        vertical-align: middle;\n",
       "    }\n",
       "\n",
       "    .dataframe tbody tr th {\n",
       "        vertical-align: top;\n",
       "    }\n",
       "\n",
       "    .dataframe thead th {\n",
       "        text-align: right;\n",
       "    }\n",
       "</style>\n",
       "<table border=\"1\" class=\"dataframe\">\n",
       "  <thead>\n",
       "    <tr style=\"text-align: right;\">\n",
       "      <th></th>\n",
       "      <th></th>\n",
       "      <th>prix de vente</th>\n",
       "      <th>Charge variable/repas</th>\n",
       "      <th>mscv/repas</th>\n",
       "      <th>repas_cible</th>\n",
       "    </tr>\n",
       "    <tr>\n",
       "      <th>pays</th>\n",
       "      <th>marque</th>\n",
       "      <th></th>\n",
       "      <th></th>\n",
       "      <th></th>\n",
       "      <th></th>\n",
       "    </tr>\n",
       "  </thead>\n",
       "  <tbody>\n",
       "    <tr>\n",
       "      <th rowspan=\"3\" valign=\"top\">Canada</th>\n",
       "      <th>Patio</th>\n",
       "      <td>60.0</td>\n",
       "      <td>22.000169</td>\n",
       "      <td>32.193763</td>\n",
       "      <td>1913.029144</td>\n",
       "    </tr>\n",
       "    <tr>\n",
       "      <th>Tacos</th>\n",
       "      <td>40.0</td>\n",
       "      <td>14.000629</td>\n",
       "      <td>20.400988</td>\n",
       "      <td>1757.711621</td>\n",
       "    </tr>\n",
       "    <tr>\n",
       "      <th>Tapas</th>\n",
       "      <td>50.0</td>\n",
       "      <td>18.000000</td>\n",
       "      <td>26.000000</td>\n",
       "      <td>1739.259082</td>\n",
       "    </tr>\n",
       "    <tr>\n",
       "      <th rowspan=\"3\" valign=\"top\">France</th>\n",
       "      <th>Patio</th>\n",
       "      <td>60.0</td>\n",
       "      <td>22.000302</td>\n",
       "      <td>32.200425</td>\n",
       "      <td>1927.654141</td>\n",
       "    </tr>\n",
       "    <tr>\n",
       "      <th>Tacos</th>\n",
       "      <td>40.0</td>\n",
       "      <td>14.000000</td>\n",
       "      <td>20.214286</td>\n",
       "      <td>2094.013309</td>\n",
       "    </tr>\n",
       "    <tr>\n",
       "      <th>Tapas</th>\n",
       "      <td>50.0</td>\n",
       "      <td>18.000000</td>\n",
       "      <td>26.000000</td>\n",
       "      <td>1854.422207</td>\n",
       "    </tr>\n",
       "    <tr>\n",
       "      <th rowspan=\"3\" valign=\"top\">Germany</th>\n",
       "      <th>Patio</th>\n",
       "      <td>60.0</td>\n",
       "      <td>22.000259</td>\n",
       "      <td>32.200401</td>\n",
       "      <td>1289.116068</td>\n",
       "    </tr>\n",
       "    <tr>\n",
       "      <th>Tacos</th>\n",
       "      <td>40.0</td>\n",
       "      <td>14.000000</td>\n",
       "      <td>20.600000</td>\n",
       "      <td>1519.145385</td>\n",
       "    </tr>\n",
       "    <tr>\n",
       "      <th>Tapas</th>\n",
       "      <td>50.0</td>\n",
       "      <td>18.000000</td>\n",
       "      <td>26.176471</td>\n",
       "      <td>1407.296582</td>\n",
       "    </tr>\n",
       "    <tr>\n",
       "      <th rowspan=\"3\" valign=\"top\">Mexico</th>\n",
       "      <th>Patio</th>\n",
       "      <td>60.0</td>\n",
       "      <td>22.000000</td>\n",
       "      <td>31.800000</td>\n",
       "      <td>1663.736954</td>\n",
       "    </tr>\n",
       "    <tr>\n",
       "      <th>Tacos</th>\n",
       "      <td>40.0</td>\n",
       "      <td>14.000000</td>\n",
       "      <td>20.000000</td>\n",
       "      <td>1552.808705</td>\n",
       "    </tr>\n",
       "    <tr>\n",
       "      <th>Tapas</th>\n",
       "      <td>50.0</td>\n",
       "      <td>18.000000</td>\n",
       "      <td>25.647059</td>\n",
       "      <td>1253.507946</td>\n",
       "    </tr>\n",
       "    <tr>\n",
       "      <th rowspan=\"3\" valign=\"top\">US</th>\n",
       "      <th>Patio</th>\n",
       "      <td>60.0</td>\n",
       "      <td>22.000523</td>\n",
       "      <td>32.500738</td>\n",
       "      <td>1954.164622</td>\n",
       "    </tr>\n",
       "    <tr>\n",
       "      <th>Tacos</th>\n",
       "      <td>40.0</td>\n",
       "      <td>14.000638</td>\n",
       "      <td>20.000867</td>\n",
       "      <td>1819.475090</td>\n",
       "    </tr>\n",
       "    <tr>\n",
       "      <th>Tapas</th>\n",
       "      <td>50.0</td>\n",
       "      <td>18.000000</td>\n",
       "      <td>25.647059</td>\n",
       "      <td>1573.053432</td>\n",
       "    </tr>\n",
       "  </tbody>\n",
       "</table>\n",
       "</div>"
      ],
      "text/plain": [
       "                prix de vente  Charge variable/repas  mscv/repas  repas_cible\n",
       "pays    marque                                                               \n",
       "Canada  Patio            60.0              22.000169   32.193763  1913.029144\n",
       "        Tacos            40.0              14.000629   20.400988  1757.711621\n",
       "        Tapas            50.0              18.000000   26.000000  1739.259082\n",
       "France  Patio            60.0              22.000302   32.200425  1927.654141\n",
       "        Tacos            40.0              14.000000   20.214286  2094.013309\n",
       "        Tapas            50.0              18.000000   26.000000  1854.422207\n",
       "Germany Patio            60.0              22.000259   32.200401  1289.116068\n",
       "        Tacos            40.0              14.000000   20.600000  1519.145385\n",
       "        Tapas            50.0              18.000000   26.176471  1407.296582\n",
       "Mexico  Patio            60.0              22.000000   31.800000  1663.736954\n",
       "        Tacos            40.0              14.000000   20.000000  1552.808705\n",
       "        Tapas            50.0              18.000000   25.647059  1253.507946\n",
       "US      Patio            60.0              22.000523   32.500738  1954.164622\n",
       "        Tacos            40.0              14.000638   20.000867  1819.475090\n",
       "        Tapas            50.0              18.000000   25.647059  1573.053432"
      ]
     },
     "execution_count": 123,
     "metadata": {},
     "output_type": "execute_result"
    }
   ],
   "source": [
    "df_rest_récap_mscv.groupby(['pays','marque'])[[\"prix de vente\",\"Charge variable/repas\",\"mscv/repas\",'repas_cible']].mean()"
   ]
  },
  {
   "cell_type": "code",
   "execution_count": 124,
   "id": "d996994b",
   "metadata": {},
   "outputs": [
    {
     "data": {
      "text/html": [
       "<div>\n",
       "<style scoped>\n",
       "    .dataframe tbody tr th:only-of-type {\n",
       "        vertical-align: middle;\n",
       "    }\n",
       "\n",
       "    .dataframe tbody tr th {\n",
       "        vertical-align: top;\n",
       "    }\n",
       "\n",
       "    .dataframe thead th {\n",
       "        text-align: right;\n",
       "    }\n",
       "</style>\n",
       "<table border=\"1\" class=\"dataframe\">\n",
       "  <thead>\n",
       "    <tr style=\"text-align: right;\">\n",
       "      <th></th>\n",
       "      <th>pays</th>\n",
       "      <th>marque</th>\n",
       "      <th>repas_cible</th>\n",
       "      <th>charge fixe</th>\n",
       "    </tr>\n",
       "  </thead>\n",
       "  <tbody>\n",
       "    <tr>\n",
       "      <th>0</th>\n",
       "      <td>Canada</td>\n",
       "      <td>Patio</td>\n",
       "      <td>59303.903460</td>\n",
       "      <td>1894480</td>\n",
       "    </tr>\n",
       "    <tr>\n",
       "      <th>1</th>\n",
       "      <td>Canada</td>\n",
       "      <td>Tacos</td>\n",
       "      <td>26365.674316</td>\n",
       "      <td>520159</td>\n",
       "    </tr>\n",
       "    <tr>\n",
       "      <th>2</th>\n",
       "      <td>Canada</td>\n",
       "      <td>Tapas</td>\n",
       "      <td>26088.886230</td>\n",
       "      <td>680265</td>\n",
       "    </tr>\n",
       "    <tr>\n",
       "      <th>3</th>\n",
       "      <td>France</td>\n",
       "      <td>Patio</td>\n",
       "      <td>57829.624222</td>\n",
       "      <td>1851167</td>\n",
       "    </tr>\n",
       "    <tr>\n",
       "      <th>4</th>\n",
       "      <td>France</td>\n",
       "      <td>Tacos</td>\n",
       "      <td>29316.186327</td>\n",
       "      <td>592347</td>\n",
       "    </tr>\n",
       "    <tr>\n",
       "      <th>5</th>\n",
       "      <td>France</td>\n",
       "      <td>Tapas</td>\n",
       "      <td>29670.755319</td>\n",
       "      <td>766368</td>\n",
       "    </tr>\n",
       "    <tr>\n",
       "      <th>6</th>\n",
       "      <td>Germany</td>\n",
       "      <td>Patio</td>\n",
       "      <td>38673.482046</td>\n",
       "      <td>1237087</td>\n",
       "    </tr>\n",
       "    <tr>\n",
       "      <th>7</th>\n",
       "      <td>Germany</td>\n",
       "      <td>Tacos</td>\n",
       "      <td>22787.180769</td>\n",
       "      <td>453999</td>\n",
       "    </tr>\n",
       "    <tr>\n",
       "      <th>8</th>\n",
       "      <td>Germany</td>\n",
       "      <td>Tapas</td>\n",
       "      <td>23924.041893</td>\n",
       "      <td>634257</td>\n",
       "    </tr>\n",
       "    <tr>\n",
       "      <th>9</th>\n",
       "      <td>Mexico</td>\n",
       "      <td>Patio</td>\n",
       "      <td>49912.108622</td>\n",
       "      <td>1575849</td>\n",
       "    </tr>\n",
       "    <tr>\n",
       "      <th>10</th>\n",
       "      <td>Mexico</td>\n",
       "      <td>Tacos</td>\n",
       "      <td>20186.513171</td>\n",
       "      <td>399042</td>\n",
       "    </tr>\n",
       "    <tr>\n",
       "      <th>11</th>\n",
       "      <td>Mexico</td>\n",
       "      <td>Tapas</td>\n",
       "      <td>21309.635080</td>\n",
       "      <td>546669</td>\n",
       "    </tr>\n",
       "    <tr>\n",
       "      <th>12</th>\n",
       "      <td>US</td>\n",
       "      <td>Patio</td>\n",
       "      <td>58624.938659</td>\n",
       "      <td>1889150</td>\n",
       "    </tr>\n",
       "    <tr>\n",
       "      <th>13</th>\n",
       "      <td>US</td>\n",
       "      <td>Tacos</td>\n",
       "      <td>23653.176176</td>\n",
       "      <td>458702</td>\n",
       "    </tr>\n",
       "    <tr>\n",
       "      <th>14</th>\n",
       "      <td>US</td>\n",
       "      <td>Tapas</td>\n",
       "      <td>26741.908348</td>\n",
       "      <td>692145</td>\n",
       "    </tr>\n",
       "  </tbody>\n",
       "</table>\n",
       "</div>"
      ],
      "text/plain": [
       "       pays marque   repas_cible  charge fixe\n",
       "0    Canada  Patio  59303.903460      1894480\n",
       "1    Canada  Tacos  26365.674316       520159\n",
       "2    Canada  Tapas  26088.886230       680265\n",
       "3    France  Patio  57829.624222      1851167\n",
       "4    France  Tacos  29316.186327       592347\n",
       "5    France  Tapas  29670.755319       766368\n",
       "6   Germany  Patio  38673.482046      1237087\n",
       "7   Germany  Tacos  22787.180769       453999\n",
       "8   Germany  Tapas  23924.041893       634257\n",
       "9    Mexico  Patio  49912.108622      1575849\n",
       "10   Mexico  Tacos  20186.513171       399042\n",
       "11   Mexico  Tapas  21309.635080       546669\n",
       "12       US  Patio  58624.938659      1889150\n",
       "13       US  Tacos  23653.176176       458702\n",
       "14       US  Tapas  26741.908348       692145"
      ]
     },
     "execution_count": 124,
     "metadata": {},
     "output_type": "execute_result"
    }
   ],
   "source": [
    "df_rest_cible = df_rest.groupby([\"pays\",\"marque\"])[[\"repas_cible\",\"charge fixe\"]].sum()\n",
    "df_rest_cible  = df_rest_cible.reset_index()\n",
    "df_rest_cible"
   ]
  },
  {
   "cell_type": "code",
   "execution_count": 125,
   "id": "1c2f7b38",
   "metadata": {},
   "outputs": [
    {
     "name": "stderr",
     "output_type": "stream",
     "text": [
      "C:\\Users\\Christian\\anaconda3\\lib\\site-packages\\plotly\\io\\_renderers.py:396: DeprecationWarning:\n",
      "\n",
      "distutils Version classes are deprecated. Use packaging.version instead.\n",
      "\n"
     ]
    },
    {
     "data": {
      "application/vnd.plotly.v1+json": {
       "config": {
        "plotlyServerURL": "https://plot.ly"
       },
       "data": [
        {
         "customdata": [
          [
           "Canada"
          ]
         ],
         "hovertemplate": "pays=%{customdata[0]}<br>marque=Patio<br>repas_cible=%{marker.size}<br>charge fixe=%{y}<extra></extra>",
         "legendgroup": "Canada, Patio",
         "marker": {
          "color": "#636efa",
          "size": [
           59303.903460023255
          ],
          "sizemode": "area",
          "sizeref": 148.25975865005813,
          "symbol": "circle"
         },
         "mode": "markers",
         "name": "Canada, Patio",
         "orientation": "v",
         "showlegend": true,
         "type": "scatter",
         "x": [
          59303.903460023255
         ],
         "xaxis": "x",
         "y": [
          1894480
         ],
         "yaxis": "y"
        },
        {
         "customdata": [
          [
           "Canada"
          ]
         ],
         "hovertemplate": "pays=%{customdata[0]}<br>marque=Tacos<br>repas_cible=%{marker.size}<br>charge fixe=%{y}<extra></extra>",
         "legendgroup": "Canada, Tacos",
         "marker": {
          "color": "#636efa",
          "size": [
           26365.67431585554
          ],
          "sizemode": "area",
          "sizeref": 148.25975865005813,
          "symbol": "diamond"
         },
         "mode": "markers",
         "name": "Canada, Tacos",
         "orientation": "v",
         "showlegend": true,
         "type": "scatter",
         "x": [
          26365.67431585554
         ],
         "xaxis": "x",
         "y": [
          520159
         ],
         "yaxis": "y"
        },
        {
         "customdata": [
          [
           "Canada"
          ]
         ],
         "hovertemplate": "pays=%{customdata[0]}<br>marque=Tapas<br>repas_cible=%{marker.size}<br>charge fixe=%{y}<extra></extra>",
         "legendgroup": "Canada, Tapas",
         "marker": {
          "color": "#636efa",
          "size": [
           26088.886229961943
          ],
          "sizemode": "area",
          "sizeref": 148.25975865005813,
          "symbol": "square"
         },
         "mode": "markers",
         "name": "Canada, Tapas",
         "orientation": "v",
         "showlegend": true,
         "type": "scatter",
         "x": [
          26088.886229961943
         ],
         "xaxis": "x",
         "y": [
          680265
         ],
         "yaxis": "y"
        },
        {
         "customdata": [
          [
           "France"
          ]
         ],
         "hovertemplate": "pays=%{customdata[0]}<br>marque=Patio<br>repas_cible=%{marker.size}<br>charge fixe=%{y}<extra></extra>",
         "legendgroup": "France, Patio",
         "marker": {
          "color": "#EF553B",
          "size": [
           57829.62422158281
          ],
          "sizemode": "area",
          "sizeref": 148.25975865005813,
          "symbol": "circle"
         },
         "mode": "markers",
         "name": "France, Patio",
         "orientation": "v",
         "showlegend": true,
         "type": "scatter",
         "x": [
          57829.62422158281
         ],
         "xaxis": "x",
         "y": [
          1851167
         ],
         "yaxis": "y"
        },
        {
         "customdata": [
          [
           "France"
          ]
         ],
         "hovertemplate": "pays=%{customdata[0]}<br>marque=Tacos<br>repas_cible=%{marker.size}<br>charge fixe=%{y}<extra></extra>",
         "legendgroup": "France, Tacos",
         "marker": {
          "color": "#EF553B",
          "size": [
           29316.18632697226
          ],
          "sizemode": "area",
          "sizeref": 148.25975865005813,
          "symbol": "diamond"
         },
         "mode": "markers",
         "name": "France, Tacos",
         "orientation": "v",
         "showlegend": true,
         "type": "scatter",
         "x": [
          29316.18632697226
         ],
         "xaxis": "x",
         "y": [
          592347
         ],
         "yaxis": "y"
        },
        {
         "customdata": [
          [
           "France"
          ]
         ],
         "hovertemplate": "pays=%{customdata[0]}<br>marque=Tapas<br>repas_cible=%{marker.size}<br>charge fixe=%{y}<extra></extra>",
         "legendgroup": "France, Tapas",
         "marker": {
          "color": "#EF553B",
          "size": [
           29670.755319455657
          ],
          "sizemode": "area",
          "sizeref": 148.25975865005813,
          "symbol": "square"
         },
         "mode": "markers",
         "name": "France, Tapas",
         "orientation": "v",
         "showlegend": true,
         "type": "scatter",
         "x": [
          29670.755319455657
         ],
         "xaxis": "x",
         "y": [
          766368
         ],
         "yaxis": "y"
        },
        {
         "customdata": [
          [
           "Germany"
          ]
         ],
         "hovertemplate": "pays=%{customdata[0]}<br>marque=Patio<br>repas_cible=%{marker.size}<br>charge fixe=%{y}<extra></extra>",
         "legendgroup": "Germany, Patio",
         "marker": {
          "color": "#00cc96",
          "size": [
           38673.48204628202
          ],
          "sizemode": "area",
          "sizeref": 148.25975865005813,
          "symbol": "circle"
         },
         "mode": "markers",
         "name": "Germany, Patio",
         "orientation": "v",
         "showlegend": true,
         "type": "scatter",
         "x": [
          38673.48204628202
         ],
         "xaxis": "x",
         "y": [
          1237087
         ],
         "yaxis": "y"
        },
        {
         "customdata": [
          [
           "Germany"
          ]
         ],
         "hovertemplate": "pays=%{customdata[0]}<br>marque=Tacos<br>repas_cible=%{marker.size}<br>charge fixe=%{y}<extra></extra>",
         "legendgroup": "Germany, Tacos",
         "marker": {
          "color": "#00cc96",
          "size": [
           22787.18076923077
          ],
          "sizemode": "area",
          "sizeref": 148.25975865005813,
          "symbol": "diamond"
         },
         "mode": "markers",
         "name": "Germany, Tacos",
         "orientation": "v",
         "showlegend": true,
         "type": "scatter",
         "x": [
          22787.18076923077
         ],
         "xaxis": "x",
         "y": [
          453999
         ],
         "yaxis": "y"
        },
        {
         "customdata": [
          [
           "Germany"
          ]
         ],
         "hovertemplate": "pays=%{customdata[0]}<br>marque=Tapas<br>repas_cible=%{marker.size}<br>charge fixe=%{y}<extra></extra>",
         "legendgroup": "Germany, Tapas",
         "marker": {
          "color": "#00cc96",
          "size": [
           23924.04189251528
          ],
          "sizemode": "area",
          "sizeref": 148.25975865005813,
          "symbol": "square"
         },
         "mode": "markers",
         "name": "Germany, Tapas",
         "orientation": "v",
         "showlegend": true,
         "type": "scatter",
         "x": [
          23924.04189251528
         ],
         "xaxis": "x",
         "y": [
          634257
         ],
         "yaxis": "y"
        },
        {
         "customdata": [
          [
           "Mexico"
          ]
         ],
         "hovertemplate": "pays=%{customdata[0]}<br>marque=Patio<br>repas_cible=%{marker.size}<br>charge fixe=%{y}<extra></extra>",
         "legendgroup": "Mexico, Patio",
         "marker": {
          "color": "#ab63fa",
          "size": [
           49912.10862231009
          ],
          "sizemode": "area",
          "sizeref": 148.25975865005813,
          "symbol": "circle"
         },
         "mode": "markers",
         "name": "Mexico, Patio",
         "orientation": "v",
         "showlegend": true,
         "type": "scatter",
         "x": [
          49912.10862231009
         ],
         "xaxis": "x",
         "y": [
          1575849
         ],
         "yaxis": "y"
        },
        {
         "customdata": [
          [
           "Mexico"
          ]
         ],
         "hovertemplate": "pays=%{customdata[0]}<br>marque=Tacos<br>repas_cible=%{marker.size}<br>charge fixe=%{y}<extra></extra>",
         "legendgroup": "Mexico, Tacos",
         "marker": {
          "color": "#ab63fa",
          "size": [
           20186.5131713555
          ],
          "sizemode": "area",
          "sizeref": 148.25975865005813,
          "symbol": "diamond"
         },
         "mode": "markers",
         "name": "Mexico, Tacos",
         "orientation": "v",
         "showlegend": true,
         "type": "scatter",
         "x": [
          20186.5131713555
         ],
         "xaxis": "x",
         "y": [
          399042
         ],
         "yaxis": "y"
        },
        {
         "customdata": [
          [
           "Mexico"
          ]
         ],
         "hovertemplate": "pays=%{customdata[0]}<br>marque=Tapas<br>repas_cible=%{marker.size}<br>charge fixe=%{y}<extra></extra>",
         "legendgroup": "Mexico, Tapas",
         "marker": {
          "color": "#ab63fa",
          "size": [
           21309.63508029639
          ],
          "sizemode": "area",
          "sizeref": 148.25975865005813,
          "symbol": "square"
         },
         "mode": "markers",
         "name": "Mexico, Tapas",
         "orientation": "v",
         "showlegend": true,
         "type": "scatter",
         "x": [
          21309.63508029639
         ],
         "xaxis": "x",
         "y": [
          546669
         ],
         "yaxis": "y"
        },
        {
         "customdata": [
          [
           "US"
          ]
         ],
         "hovertemplate": "pays=%{customdata[0]}<br>marque=Patio<br>repas_cible=%{marker.size}<br>charge fixe=%{y}<extra></extra>",
         "legendgroup": "US, Patio",
         "marker": {
          "color": "#FFA15A",
          "size": [
           58624.93865941944
          ],
          "sizemode": "area",
          "sizeref": 148.25975865005813,
          "symbol": "circle"
         },
         "mode": "markers",
         "name": "US, Patio",
         "orientation": "v",
         "showlegend": true,
         "type": "scatter",
         "x": [
          58624.93865941944
         ],
         "xaxis": "x",
         "y": [
          1889150
         ],
         "yaxis": "y"
        },
        {
         "customdata": [
          [
           "US"
          ]
         ],
         "hovertemplate": "pays=%{customdata[0]}<br>marque=Tacos<br>repas_cible=%{marker.size}<br>charge fixe=%{y}<extra></extra>",
         "legendgroup": "US, Tacos",
         "marker": {
          "color": "#FFA15A",
          "size": [
           23653.17617618
          ],
          "sizemode": "area",
          "sizeref": 148.25975865005813,
          "symbol": "diamond"
         },
         "mode": "markers",
         "name": "US, Tacos",
         "orientation": "v",
         "showlegend": true,
         "type": "scatter",
         "x": [
          23653.17617618
         ],
         "xaxis": "x",
         "y": [
          458702
         ],
         "yaxis": "y"
        },
        {
         "customdata": [
          [
           "US"
          ]
         ],
         "hovertemplate": "pays=%{customdata[0]}<br>marque=Tapas<br>repas_cible=%{marker.size}<br>charge fixe=%{y}<extra></extra>",
         "legendgroup": "US, Tapas",
         "marker": {
          "color": "#FFA15A",
          "size": [
           26741.90834750894
          ],
          "sizemode": "area",
          "sizeref": 148.25975865005813,
          "symbol": "square"
         },
         "mode": "markers",
         "name": "US, Tapas",
         "orientation": "v",
         "showlegend": true,
         "type": "scatter",
         "x": [
          26741.90834750894
         ],
         "xaxis": "x",
         "y": [
          692145
         ],
         "yaxis": "y"
        },
        {
         "hovertemplate": "<b>OLS trendline</b><br>charge fixe = 38.8567 * repas_cible + -386381<br>R<sup>2</sup>=0.981177<br><br>repas_cible=%{x}<br>charge fixe=%{y} <b>(trend)</b><extra></extra>",
         "legendgroup": "Overall Trendline",
         "line": {
          "color": "#19d3f3"
         },
         "mode": "lines",
         "name": "Overall Trendline",
         "showlegend": true,
         "type": "scatter",
         "x": [
          20186.5131713555,
          21309.63508029639,
          22787.18076923077,
          23653.17617618,
          23924.04189251528,
          26088.886229961943,
          26365.67431585554,
          26741.90834750894,
          29316.18632697226,
          29670.755319455657,
          38673.48204628202,
          49912.10862231009,
          57829.62422158281,
          58624.93865941944,
          59303.903460023255
         ],
         "xaxis": "x",
         "y": [
          397999.5395503379,
          441640.30515850434,
          499052.7949094595,
          532702.4835777704,
          543227.4204913625,
          627346.0398118305,
          638101.1002228649,
          652720.2978883123,
          752748.1408301026,
          766525.5074451687,
          1116341.3945649366,
          1553036.8808320141,
          1860685.0886678807,
          1891588.3509852802,
          1917970.6550641744
         ],
         "yaxis": "y"
        }
       ],
       "layout": {
        "legend": {
         "itemsizing": "constant",
         "title": {
          "text": "pays, marque"
         },
         "tracegroupgap": 0
        },
        "margin": {
         "t": 60
        },
        "shapes": [
         {
          "line": {
           "color": "green",
           "dash": "dash",
           "width": 3
          },
          "type": "line",
          "x0": 35000,
          "x1": 35000,
          "xref": "x",
          "y0": 0,
          "y1": 1,
          "yref": "y domain"
         },
         {
          "fillcolor": "red",
          "line": {
           "dash": "dash",
           "width": 3
          },
          "opacity": 0.2,
          "type": "rect",
          "x0": 0,
          "x1": 1,
          "xref": "x domain",
          "y0": 1000000,
          "y1": 6000000,
          "yref": "y"
         }
        ],
        "template": {
         "data": {
          "bar": [
           {
            "error_x": {
             "color": "#2a3f5f"
            },
            "error_y": {
             "color": "#2a3f5f"
            },
            "marker": {
             "line": {
              "color": "#E5ECF6",
              "width": 0.5
             },
             "pattern": {
              "fillmode": "overlay",
              "size": 10,
              "solidity": 0.2
             }
            },
            "type": "bar"
           }
          ],
          "barpolar": [
           {
            "marker": {
             "line": {
              "color": "#E5ECF6",
              "width": 0.5
             },
             "pattern": {
              "fillmode": "overlay",
              "size": 10,
              "solidity": 0.2
             }
            },
            "type": "barpolar"
           }
          ],
          "carpet": [
           {
            "aaxis": {
             "endlinecolor": "#2a3f5f",
             "gridcolor": "white",
             "linecolor": "white",
             "minorgridcolor": "white",
             "startlinecolor": "#2a3f5f"
            },
            "baxis": {
             "endlinecolor": "#2a3f5f",
             "gridcolor": "white",
             "linecolor": "white",
             "minorgridcolor": "white",
             "startlinecolor": "#2a3f5f"
            },
            "type": "carpet"
           }
          ],
          "choropleth": [
           {
            "colorbar": {
             "outlinewidth": 0,
             "ticks": ""
            },
            "type": "choropleth"
           }
          ],
          "contour": [
           {
            "colorbar": {
             "outlinewidth": 0,
             "ticks": ""
            },
            "colorscale": [
             [
              0,
              "#0d0887"
             ],
             [
              0.1111111111111111,
              "#46039f"
             ],
             [
              0.2222222222222222,
              "#7201a8"
             ],
             [
              0.3333333333333333,
              "#9c179e"
             ],
             [
              0.4444444444444444,
              "#bd3786"
             ],
             [
              0.5555555555555556,
              "#d8576b"
             ],
             [
              0.6666666666666666,
              "#ed7953"
             ],
             [
              0.7777777777777778,
              "#fb9f3a"
             ],
             [
              0.8888888888888888,
              "#fdca26"
             ],
             [
              1,
              "#f0f921"
             ]
            ],
            "type": "contour"
           }
          ],
          "contourcarpet": [
           {
            "colorbar": {
             "outlinewidth": 0,
             "ticks": ""
            },
            "type": "contourcarpet"
           }
          ],
          "heatmap": [
           {
            "colorbar": {
             "outlinewidth": 0,
             "ticks": ""
            },
            "colorscale": [
             [
              0,
              "#0d0887"
             ],
             [
              0.1111111111111111,
              "#46039f"
             ],
             [
              0.2222222222222222,
              "#7201a8"
             ],
             [
              0.3333333333333333,
              "#9c179e"
             ],
             [
              0.4444444444444444,
              "#bd3786"
             ],
             [
              0.5555555555555556,
              "#d8576b"
             ],
             [
              0.6666666666666666,
              "#ed7953"
             ],
             [
              0.7777777777777778,
              "#fb9f3a"
             ],
             [
              0.8888888888888888,
              "#fdca26"
             ],
             [
              1,
              "#f0f921"
             ]
            ],
            "type": "heatmap"
           }
          ],
          "heatmapgl": [
           {
            "colorbar": {
             "outlinewidth": 0,
             "ticks": ""
            },
            "colorscale": [
             [
              0,
              "#0d0887"
             ],
             [
              0.1111111111111111,
              "#46039f"
             ],
             [
              0.2222222222222222,
              "#7201a8"
             ],
             [
              0.3333333333333333,
              "#9c179e"
             ],
             [
              0.4444444444444444,
              "#bd3786"
             ],
             [
              0.5555555555555556,
              "#d8576b"
             ],
             [
              0.6666666666666666,
              "#ed7953"
             ],
             [
              0.7777777777777778,
              "#fb9f3a"
             ],
             [
              0.8888888888888888,
              "#fdca26"
             ],
             [
              1,
              "#f0f921"
             ]
            ],
            "type": "heatmapgl"
           }
          ],
          "histogram": [
           {
            "marker": {
             "pattern": {
              "fillmode": "overlay",
              "size": 10,
              "solidity": 0.2
             }
            },
            "type": "histogram"
           }
          ],
          "histogram2d": [
           {
            "colorbar": {
             "outlinewidth": 0,
             "ticks": ""
            },
            "colorscale": [
             [
              0,
              "#0d0887"
             ],
             [
              0.1111111111111111,
              "#46039f"
             ],
             [
              0.2222222222222222,
              "#7201a8"
             ],
             [
              0.3333333333333333,
              "#9c179e"
             ],
             [
              0.4444444444444444,
              "#bd3786"
             ],
             [
              0.5555555555555556,
              "#d8576b"
             ],
             [
              0.6666666666666666,
              "#ed7953"
             ],
             [
              0.7777777777777778,
              "#fb9f3a"
             ],
             [
              0.8888888888888888,
              "#fdca26"
             ],
             [
              1,
              "#f0f921"
             ]
            ],
            "type": "histogram2d"
           }
          ],
          "histogram2dcontour": [
           {
            "colorbar": {
             "outlinewidth": 0,
             "ticks": ""
            },
            "colorscale": [
             [
              0,
              "#0d0887"
             ],
             [
              0.1111111111111111,
              "#46039f"
             ],
             [
              0.2222222222222222,
              "#7201a8"
             ],
             [
              0.3333333333333333,
              "#9c179e"
             ],
             [
              0.4444444444444444,
              "#bd3786"
             ],
             [
              0.5555555555555556,
              "#d8576b"
             ],
             [
              0.6666666666666666,
              "#ed7953"
             ],
             [
              0.7777777777777778,
              "#fb9f3a"
             ],
             [
              0.8888888888888888,
              "#fdca26"
             ],
             [
              1,
              "#f0f921"
             ]
            ],
            "type": "histogram2dcontour"
           }
          ],
          "mesh3d": [
           {
            "colorbar": {
             "outlinewidth": 0,
             "ticks": ""
            },
            "type": "mesh3d"
           }
          ],
          "parcoords": [
           {
            "line": {
             "colorbar": {
              "outlinewidth": 0,
              "ticks": ""
             }
            },
            "type": "parcoords"
           }
          ],
          "pie": [
           {
            "automargin": true,
            "type": "pie"
           }
          ],
          "scatter": [
           {
            "marker": {
             "colorbar": {
              "outlinewidth": 0,
              "ticks": ""
             }
            },
            "type": "scatter"
           }
          ],
          "scatter3d": [
           {
            "line": {
             "colorbar": {
              "outlinewidth": 0,
              "ticks": ""
             }
            },
            "marker": {
             "colorbar": {
              "outlinewidth": 0,
              "ticks": ""
             }
            },
            "type": "scatter3d"
           }
          ],
          "scattercarpet": [
           {
            "marker": {
             "colorbar": {
              "outlinewidth": 0,
              "ticks": ""
             }
            },
            "type": "scattercarpet"
           }
          ],
          "scattergeo": [
           {
            "marker": {
             "colorbar": {
              "outlinewidth": 0,
              "ticks": ""
             }
            },
            "type": "scattergeo"
           }
          ],
          "scattergl": [
           {
            "marker": {
             "colorbar": {
              "outlinewidth": 0,
              "ticks": ""
             }
            },
            "type": "scattergl"
           }
          ],
          "scattermapbox": [
           {
            "marker": {
             "colorbar": {
              "outlinewidth": 0,
              "ticks": ""
             }
            },
            "type": "scattermapbox"
           }
          ],
          "scatterpolar": [
           {
            "marker": {
             "colorbar": {
              "outlinewidth": 0,
              "ticks": ""
             }
            },
            "type": "scatterpolar"
           }
          ],
          "scatterpolargl": [
           {
            "marker": {
             "colorbar": {
              "outlinewidth": 0,
              "ticks": ""
             }
            },
            "type": "scatterpolargl"
           }
          ],
          "scatterternary": [
           {
            "marker": {
             "colorbar": {
              "outlinewidth": 0,
              "ticks": ""
             }
            },
            "type": "scatterternary"
           }
          ],
          "surface": [
           {
            "colorbar": {
             "outlinewidth": 0,
             "ticks": ""
            },
            "colorscale": [
             [
              0,
              "#0d0887"
             ],
             [
              0.1111111111111111,
              "#46039f"
             ],
             [
              0.2222222222222222,
              "#7201a8"
             ],
             [
              0.3333333333333333,
              "#9c179e"
             ],
             [
              0.4444444444444444,
              "#bd3786"
             ],
             [
              0.5555555555555556,
              "#d8576b"
             ],
             [
              0.6666666666666666,
              "#ed7953"
             ],
             [
              0.7777777777777778,
              "#fb9f3a"
             ],
             [
              0.8888888888888888,
              "#fdca26"
             ],
             [
              1,
              "#f0f921"
             ]
            ],
            "type": "surface"
           }
          ],
          "table": [
           {
            "cells": {
             "fill": {
              "color": "#EBF0F8"
             },
             "line": {
              "color": "white"
             }
            },
            "header": {
             "fill": {
              "color": "#C8D4E3"
             },
             "line": {
              "color": "white"
             }
            },
            "type": "table"
           }
          ]
         },
         "layout": {
          "annotationdefaults": {
           "arrowcolor": "#2a3f5f",
           "arrowhead": 0,
           "arrowwidth": 1
          },
          "autotypenumbers": "strict",
          "coloraxis": {
           "colorbar": {
            "outlinewidth": 0,
            "ticks": ""
           }
          },
          "colorscale": {
           "diverging": [
            [
             0,
             "#8e0152"
            ],
            [
             0.1,
             "#c51b7d"
            ],
            [
             0.2,
             "#de77ae"
            ],
            [
             0.3,
             "#f1b6da"
            ],
            [
             0.4,
             "#fde0ef"
            ],
            [
             0.5,
             "#f7f7f7"
            ],
            [
             0.6,
             "#e6f5d0"
            ],
            [
             0.7,
             "#b8e186"
            ],
            [
             0.8,
             "#7fbc41"
            ],
            [
             0.9,
             "#4d9221"
            ],
            [
             1,
             "#276419"
            ]
           ],
           "sequential": [
            [
             0,
             "#0d0887"
            ],
            [
             0.1111111111111111,
             "#46039f"
            ],
            [
             0.2222222222222222,
             "#7201a8"
            ],
            [
             0.3333333333333333,
             "#9c179e"
            ],
            [
             0.4444444444444444,
             "#bd3786"
            ],
            [
             0.5555555555555556,
             "#d8576b"
            ],
            [
             0.6666666666666666,
             "#ed7953"
            ],
            [
             0.7777777777777778,
             "#fb9f3a"
            ],
            [
             0.8888888888888888,
             "#fdca26"
            ],
            [
             1,
             "#f0f921"
            ]
           ],
           "sequentialminus": [
            [
             0,
             "#0d0887"
            ],
            [
             0.1111111111111111,
             "#46039f"
            ],
            [
             0.2222222222222222,
             "#7201a8"
            ],
            [
             0.3333333333333333,
             "#9c179e"
            ],
            [
             0.4444444444444444,
             "#bd3786"
            ],
            [
             0.5555555555555556,
             "#d8576b"
            ],
            [
             0.6666666666666666,
             "#ed7953"
            ],
            [
             0.7777777777777778,
             "#fb9f3a"
            ],
            [
             0.8888888888888888,
             "#fdca26"
            ],
            [
             1,
             "#f0f921"
            ]
           ]
          },
          "colorway": [
           "#636efa",
           "#EF553B",
           "#00cc96",
           "#ab63fa",
           "#FFA15A",
           "#19d3f3",
           "#FF6692",
           "#B6E880",
           "#FF97FF",
           "#FECB52"
          ],
          "font": {
           "color": "#2a3f5f"
          },
          "geo": {
           "bgcolor": "white",
           "lakecolor": "white",
           "landcolor": "#E5ECF6",
           "showlakes": true,
           "showland": true,
           "subunitcolor": "white"
          },
          "hoverlabel": {
           "align": "left"
          },
          "hovermode": "closest",
          "mapbox": {
           "style": "light"
          },
          "paper_bgcolor": "white",
          "plot_bgcolor": "#E5ECF6",
          "polar": {
           "angularaxis": {
            "gridcolor": "white",
            "linecolor": "white",
            "ticks": ""
           },
           "bgcolor": "#E5ECF6",
           "radialaxis": {
            "gridcolor": "white",
            "linecolor": "white",
            "ticks": ""
           }
          },
          "scene": {
           "xaxis": {
            "backgroundcolor": "#E5ECF6",
            "gridcolor": "white",
            "gridwidth": 2,
            "linecolor": "white",
            "showbackground": true,
            "ticks": "",
            "zerolinecolor": "white"
           },
           "yaxis": {
            "backgroundcolor": "#E5ECF6",
            "gridcolor": "white",
            "gridwidth": 2,
            "linecolor": "white",
            "showbackground": true,
            "ticks": "",
            "zerolinecolor": "white"
           },
           "zaxis": {
            "backgroundcolor": "#E5ECF6",
            "gridcolor": "white",
            "gridwidth": 2,
            "linecolor": "white",
            "showbackground": true,
            "ticks": "",
            "zerolinecolor": "white"
           }
          },
          "shapedefaults": {
           "line": {
            "color": "#2a3f5f"
           }
          },
          "ternary": {
           "aaxis": {
            "gridcolor": "white",
            "linecolor": "white",
            "ticks": ""
           },
           "baxis": {
            "gridcolor": "white",
            "linecolor": "white",
            "ticks": ""
           },
           "bgcolor": "#E5ECF6",
           "caxis": {
            "gridcolor": "white",
            "linecolor": "white",
            "ticks": ""
           }
          },
          "title": {
           "x": 0.05
          },
          "xaxis": {
           "automargin": true,
           "gridcolor": "white",
           "linecolor": "white",
           "ticks": "",
           "title": {
            "standoff": 15
           },
           "zerolinecolor": "white",
           "zerolinewidth": 2
          },
          "yaxis": {
           "automargin": true,
           "gridcolor": "white",
           "linecolor": "white",
           "ticks": "",
           "title": {
            "standoff": 15
           },
           "zerolinecolor": "white",
           "zerolinewidth": 2
          }
         }
        },
        "xaxis": {
         "anchor": "y",
         "domain": [
          0,
          1
         ],
         "title": {
          "text": "repas_cible"
         }
        },
        "yaxis": {
         "anchor": "x",
         "domain": [
          0,
          1
         ],
         "title": {
          "text": "charge fixe"
         }
        }
       }
      },
      "text/html": [
       "<div>                            <div id=\"42ff32a4-b51c-4866-8906-0c418799c475\" class=\"plotly-graph-div\" style=\"height:525px; width:100%;\"></div>            <script type=\"text/javascript\">                require([\"plotly\"], function(Plotly) {                    window.PLOTLYENV=window.PLOTLYENV || {};                                    if (document.getElementById(\"42ff32a4-b51c-4866-8906-0c418799c475\")) {                    Plotly.newPlot(                        \"42ff32a4-b51c-4866-8906-0c418799c475\",                        [{\"customdata\":[[\"Canada\"]],\"hovertemplate\":\"pays=%{customdata[0]}<br>marque=Patio<br>repas_cible=%{marker.size}<br>charge fixe=%{y}<extra></extra>\",\"legendgroup\":\"Canada, Patio\",\"marker\":{\"color\":\"#636efa\",\"size\":[59303.903460023255],\"sizemode\":\"area\",\"sizeref\":148.25975865005813,\"symbol\":\"circle\"},\"mode\":\"markers\",\"name\":\"Canada, Patio\",\"orientation\":\"v\",\"showlegend\":true,\"x\":[59303.903460023255],\"xaxis\":\"x\",\"y\":[1894480],\"yaxis\":\"y\",\"type\":\"scatter\"},{\"customdata\":[[\"Canada\"]],\"hovertemplate\":\"pays=%{customdata[0]}<br>marque=Tacos<br>repas_cible=%{marker.size}<br>charge fixe=%{y}<extra></extra>\",\"legendgroup\":\"Canada, Tacos\",\"marker\":{\"color\":\"#636efa\",\"size\":[26365.67431585554],\"sizemode\":\"area\",\"sizeref\":148.25975865005813,\"symbol\":\"diamond\"},\"mode\":\"markers\",\"name\":\"Canada, Tacos\",\"orientation\":\"v\",\"showlegend\":true,\"x\":[26365.67431585554],\"xaxis\":\"x\",\"y\":[520159],\"yaxis\":\"y\",\"type\":\"scatter\"},{\"customdata\":[[\"Canada\"]],\"hovertemplate\":\"pays=%{customdata[0]}<br>marque=Tapas<br>repas_cible=%{marker.size}<br>charge fixe=%{y}<extra></extra>\",\"legendgroup\":\"Canada, Tapas\",\"marker\":{\"color\":\"#636efa\",\"size\":[26088.886229961943],\"sizemode\":\"area\",\"sizeref\":148.25975865005813,\"symbol\":\"square\"},\"mode\":\"markers\",\"name\":\"Canada, Tapas\",\"orientation\":\"v\",\"showlegend\":true,\"x\":[26088.886229961943],\"xaxis\":\"x\",\"y\":[680265],\"yaxis\":\"y\",\"type\":\"scatter\"},{\"customdata\":[[\"France\"]],\"hovertemplate\":\"pays=%{customdata[0]}<br>marque=Patio<br>repas_cible=%{marker.size}<br>charge fixe=%{y}<extra></extra>\",\"legendgroup\":\"France, Patio\",\"marker\":{\"color\":\"#EF553B\",\"size\":[57829.62422158281],\"sizemode\":\"area\",\"sizeref\":148.25975865005813,\"symbol\":\"circle\"},\"mode\":\"markers\",\"name\":\"France, Patio\",\"orientation\":\"v\",\"showlegend\":true,\"x\":[57829.62422158281],\"xaxis\":\"x\",\"y\":[1851167],\"yaxis\":\"y\",\"type\":\"scatter\"},{\"customdata\":[[\"France\"]],\"hovertemplate\":\"pays=%{customdata[0]}<br>marque=Tacos<br>repas_cible=%{marker.size}<br>charge fixe=%{y}<extra></extra>\",\"legendgroup\":\"France, Tacos\",\"marker\":{\"color\":\"#EF553B\",\"size\":[29316.18632697226],\"sizemode\":\"area\",\"sizeref\":148.25975865005813,\"symbol\":\"diamond\"},\"mode\":\"markers\",\"name\":\"France, Tacos\",\"orientation\":\"v\",\"showlegend\":true,\"x\":[29316.18632697226],\"xaxis\":\"x\",\"y\":[592347],\"yaxis\":\"y\",\"type\":\"scatter\"},{\"customdata\":[[\"France\"]],\"hovertemplate\":\"pays=%{customdata[0]}<br>marque=Tapas<br>repas_cible=%{marker.size}<br>charge fixe=%{y}<extra></extra>\",\"legendgroup\":\"France, Tapas\",\"marker\":{\"color\":\"#EF553B\",\"size\":[29670.755319455657],\"sizemode\":\"area\",\"sizeref\":148.25975865005813,\"symbol\":\"square\"},\"mode\":\"markers\",\"name\":\"France, Tapas\",\"orientation\":\"v\",\"showlegend\":true,\"x\":[29670.755319455657],\"xaxis\":\"x\",\"y\":[766368],\"yaxis\":\"y\",\"type\":\"scatter\"},{\"customdata\":[[\"Germany\"]],\"hovertemplate\":\"pays=%{customdata[0]}<br>marque=Patio<br>repas_cible=%{marker.size}<br>charge fixe=%{y}<extra></extra>\",\"legendgroup\":\"Germany, Patio\",\"marker\":{\"color\":\"#00cc96\",\"size\":[38673.48204628202],\"sizemode\":\"area\",\"sizeref\":148.25975865005813,\"symbol\":\"circle\"},\"mode\":\"markers\",\"name\":\"Germany, Patio\",\"orientation\":\"v\",\"showlegend\":true,\"x\":[38673.48204628202],\"xaxis\":\"x\",\"y\":[1237087],\"yaxis\":\"y\",\"type\":\"scatter\"},{\"customdata\":[[\"Germany\"]],\"hovertemplate\":\"pays=%{customdata[0]}<br>marque=Tacos<br>repas_cible=%{marker.size}<br>charge fixe=%{y}<extra></extra>\",\"legendgroup\":\"Germany, Tacos\",\"marker\":{\"color\":\"#00cc96\",\"size\":[22787.18076923077],\"sizemode\":\"area\",\"sizeref\":148.25975865005813,\"symbol\":\"diamond\"},\"mode\":\"markers\",\"name\":\"Germany, Tacos\",\"orientation\":\"v\",\"showlegend\":true,\"x\":[22787.18076923077],\"xaxis\":\"x\",\"y\":[453999],\"yaxis\":\"y\",\"type\":\"scatter\"},{\"customdata\":[[\"Germany\"]],\"hovertemplate\":\"pays=%{customdata[0]}<br>marque=Tapas<br>repas_cible=%{marker.size}<br>charge fixe=%{y}<extra></extra>\",\"legendgroup\":\"Germany, Tapas\",\"marker\":{\"color\":\"#00cc96\",\"size\":[23924.04189251528],\"sizemode\":\"area\",\"sizeref\":148.25975865005813,\"symbol\":\"square\"},\"mode\":\"markers\",\"name\":\"Germany, Tapas\",\"orientation\":\"v\",\"showlegend\":true,\"x\":[23924.04189251528],\"xaxis\":\"x\",\"y\":[634257],\"yaxis\":\"y\",\"type\":\"scatter\"},{\"customdata\":[[\"Mexico\"]],\"hovertemplate\":\"pays=%{customdata[0]}<br>marque=Patio<br>repas_cible=%{marker.size}<br>charge fixe=%{y}<extra></extra>\",\"legendgroup\":\"Mexico, Patio\",\"marker\":{\"color\":\"#ab63fa\",\"size\":[49912.10862231009],\"sizemode\":\"area\",\"sizeref\":148.25975865005813,\"symbol\":\"circle\"},\"mode\":\"markers\",\"name\":\"Mexico, Patio\",\"orientation\":\"v\",\"showlegend\":true,\"x\":[49912.10862231009],\"xaxis\":\"x\",\"y\":[1575849],\"yaxis\":\"y\",\"type\":\"scatter\"},{\"customdata\":[[\"Mexico\"]],\"hovertemplate\":\"pays=%{customdata[0]}<br>marque=Tacos<br>repas_cible=%{marker.size}<br>charge fixe=%{y}<extra></extra>\",\"legendgroup\":\"Mexico, Tacos\",\"marker\":{\"color\":\"#ab63fa\",\"size\":[20186.5131713555],\"sizemode\":\"area\",\"sizeref\":148.25975865005813,\"symbol\":\"diamond\"},\"mode\":\"markers\",\"name\":\"Mexico, Tacos\",\"orientation\":\"v\",\"showlegend\":true,\"x\":[20186.5131713555],\"xaxis\":\"x\",\"y\":[399042],\"yaxis\":\"y\",\"type\":\"scatter\"},{\"customdata\":[[\"Mexico\"]],\"hovertemplate\":\"pays=%{customdata[0]}<br>marque=Tapas<br>repas_cible=%{marker.size}<br>charge fixe=%{y}<extra></extra>\",\"legendgroup\":\"Mexico, Tapas\",\"marker\":{\"color\":\"#ab63fa\",\"size\":[21309.63508029639],\"sizemode\":\"area\",\"sizeref\":148.25975865005813,\"symbol\":\"square\"},\"mode\":\"markers\",\"name\":\"Mexico, Tapas\",\"orientation\":\"v\",\"showlegend\":true,\"x\":[21309.63508029639],\"xaxis\":\"x\",\"y\":[546669],\"yaxis\":\"y\",\"type\":\"scatter\"},{\"customdata\":[[\"US\"]],\"hovertemplate\":\"pays=%{customdata[0]}<br>marque=Patio<br>repas_cible=%{marker.size}<br>charge fixe=%{y}<extra></extra>\",\"legendgroup\":\"US, Patio\",\"marker\":{\"color\":\"#FFA15A\",\"size\":[58624.93865941944],\"sizemode\":\"area\",\"sizeref\":148.25975865005813,\"symbol\":\"circle\"},\"mode\":\"markers\",\"name\":\"US, Patio\",\"orientation\":\"v\",\"showlegend\":true,\"x\":[58624.93865941944],\"xaxis\":\"x\",\"y\":[1889150],\"yaxis\":\"y\",\"type\":\"scatter\"},{\"customdata\":[[\"US\"]],\"hovertemplate\":\"pays=%{customdata[0]}<br>marque=Tacos<br>repas_cible=%{marker.size}<br>charge fixe=%{y}<extra></extra>\",\"legendgroup\":\"US, Tacos\",\"marker\":{\"color\":\"#FFA15A\",\"size\":[23653.17617618],\"sizemode\":\"area\",\"sizeref\":148.25975865005813,\"symbol\":\"diamond\"},\"mode\":\"markers\",\"name\":\"US, Tacos\",\"orientation\":\"v\",\"showlegend\":true,\"x\":[23653.17617618],\"xaxis\":\"x\",\"y\":[458702],\"yaxis\":\"y\",\"type\":\"scatter\"},{\"customdata\":[[\"US\"]],\"hovertemplate\":\"pays=%{customdata[0]}<br>marque=Tapas<br>repas_cible=%{marker.size}<br>charge fixe=%{y}<extra></extra>\",\"legendgroup\":\"US, Tapas\",\"marker\":{\"color\":\"#FFA15A\",\"size\":[26741.90834750894],\"sizemode\":\"area\",\"sizeref\":148.25975865005813,\"symbol\":\"square\"},\"mode\":\"markers\",\"name\":\"US, Tapas\",\"orientation\":\"v\",\"showlegend\":true,\"x\":[26741.90834750894],\"xaxis\":\"x\",\"y\":[692145],\"yaxis\":\"y\",\"type\":\"scatter\"},{\"hovertemplate\":\"<b>OLS trendline</b><br>charge fixe = 38.8567 * repas_cible + -386381<br>R<sup>2</sup>=0.981177<br><br>repas_cible=%{x}<br>charge fixe=%{y} <b>(trend)</b><extra></extra>\",\"legendgroup\":\"Overall Trendline\",\"line\":{\"color\":\"#19d3f3\"},\"mode\":\"lines\",\"name\":\"Overall Trendline\",\"showlegend\":true,\"x\":[20186.5131713555,21309.63508029639,22787.18076923077,23653.17617618,23924.04189251528,26088.886229961943,26365.67431585554,26741.90834750894,29316.18632697226,29670.755319455657,38673.48204628202,49912.10862231009,57829.62422158281,58624.93865941944,59303.903460023255],\"y\":[397999.5395503379,441640.30515850434,499052.7949094595,532702.4835777704,543227.4204913625,627346.0398118305,638101.1002228649,652720.2978883123,752748.1408301026,766525.5074451687,1116341.3945649366,1553036.8808320141,1860685.0886678807,1891588.3509852802,1917970.6550641744],\"type\":\"scatter\",\"xaxis\":\"x\",\"yaxis\":\"y\"}],                        {\"template\":{\"data\":{\"bar\":[{\"error_x\":{\"color\":\"#2a3f5f\"},\"error_y\":{\"color\":\"#2a3f5f\"},\"marker\":{\"line\":{\"color\":\"#E5ECF6\",\"width\":0.5},\"pattern\":{\"fillmode\":\"overlay\",\"size\":10,\"solidity\":0.2}},\"type\":\"bar\"}],\"barpolar\":[{\"marker\":{\"line\":{\"color\":\"#E5ECF6\",\"width\":0.5},\"pattern\":{\"fillmode\":\"overlay\",\"size\":10,\"solidity\":0.2}},\"type\":\"barpolar\"}],\"carpet\":[{\"aaxis\":{\"endlinecolor\":\"#2a3f5f\",\"gridcolor\":\"white\",\"linecolor\":\"white\",\"minorgridcolor\":\"white\",\"startlinecolor\":\"#2a3f5f\"},\"baxis\":{\"endlinecolor\":\"#2a3f5f\",\"gridcolor\":\"white\",\"linecolor\":\"white\",\"minorgridcolor\":\"white\",\"startlinecolor\":\"#2a3f5f\"},\"type\":\"carpet\"}],\"choropleth\":[{\"colorbar\":{\"outlinewidth\":0,\"ticks\":\"\"},\"type\":\"choropleth\"}],\"contour\":[{\"colorbar\":{\"outlinewidth\":0,\"ticks\":\"\"},\"colorscale\":[[0.0,\"#0d0887\"],[0.1111111111111111,\"#46039f\"],[0.2222222222222222,\"#7201a8\"],[0.3333333333333333,\"#9c179e\"],[0.4444444444444444,\"#bd3786\"],[0.5555555555555556,\"#d8576b\"],[0.6666666666666666,\"#ed7953\"],[0.7777777777777778,\"#fb9f3a\"],[0.8888888888888888,\"#fdca26\"],[1.0,\"#f0f921\"]],\"type\":\"contour\"}],\"contourcarpet\":[{\"colorbar\":{\"outlinewidth\":0,\"ticks\":\"\"},\"type\":\"contourcarpet\"}],\"heatmap\":[{\"colorbar\":{\"outlinewidth\":0,\"ticks\":\"\"},\"colorscale\":[[0.0,\"#0d0887\"],[0.1111111111111111,\"#46039f\"],[0.2222222222222222,\"#7201a8\"],[0.3333333333333333,\"#9c179e\"],[0.4444444444444444,\"#bd3786\"],[0.5555555555555556,\"#d8576b\"],[0.6666666666666666,\"#ed7953\"],[0.7777777777777778,\"#fb9f3a\"],[0.8888888888888888,\"#fdca26\"],[1.0,\"#f0f921\"]],\"type\":\"heatmap\"}],\"heatmapgl\":[{\"colorbar\":{\"outlinewidth\":0,\"ticks\":\"\"},\"colorscale\":[[0.0,\"#0d0887\"],[0.1111111111111111,\"#46039f\"],[0.2222222222222222,\"#7201a8\"],[0.3333333333333333,\"#9c179e\"],[0.4444444444444444,\"#bd3786\"],[0.5555555555555556,\"#d8576b\"],[0.6666666666666666,\"#ed7953\"],[0.7777777777777778,\"#fb9f3a\"],[0.8888888888888888,\"#fdca26\"],[1.0,\"#f0f921\"]],\"type\":\"heatmapgl\"}],\"histogram\":[{\"marker\":{\"pattern\":{\"fillmode\":\"overlay\",\"size\":10,\"solidity\":0.2}},\"type\":\"histogram\"}],\"histogram2d\":[{\"colorbar\":{\"outlinewidth\":0,\"ticks\":\"\"},\"colorscale\":[[0.0,\"#0d0887\"],[0.1111111111111111,\"#46039f\"],[0.2222222222222222,\"#7201a8\"],[0.3333333333333333,\"#9c179e\"],[0.4444444444444444,\"#bd3786\"],[0.5555555555555556,\"#d8576b\"],[0.6666666666666666,\"#ed7953\"],[0.7777777777777778,\"#fb9f3a\"],[0.8888888888888888,\"#fdca26\"],[1.0,\"#f0f921\"]],\"type\":\"histogram2d\"}],\"histogram2dcontour\":[{\"colorbar\":{\"outlinewidth\":0,\"ticks\":\"\"},\"colorscale\":[[0.0,\"#0d0887\"],[0.1111111111111111,\"#46039f\"],[0.2222222222222222,\"#7201a8\"],[0.3333333333333333,\"#9c179e\"],[0.4444444444444444,\"#bd3786\"],[0.5555555555555556,\"#d8576b\"],[0.6666666666666666,\"#ed7953\"],[0.7777777777777778,\"#fb9f3a\"],[0.8888888888888888,\"#fdca26\"],[1.0,\"#f0f921\"]],\"type\":\"histogram2dcontour\"}],\"mesh3d\":[{\"colorbar\":{\"outlinewidth\":0,\"ticks\":\"\"},\"type\":\"mesh3d\"}],\"parcoords\":[{\"line\":{\"colorbar\":{\"outlinewidth\":0,\"ticks\":\"\"}},\"type\":\"parcoords\"}],\"pie\":[{\"automargin\":true,\"type\":\"pie\"}],\"scatter\":[{\"marker\":{\"colorbar\":{\"outlinewidth\":0,\"ticks\":\"\"}},\"type\":\"scatter\"}],\"scatter3d\":[{\"line\":{\"colorbar\":{\"outlinewidth\":0,\"ticks\":\"\"}},\"marker\":{\"colorbar\":{\"outlinewidth\":0,\"ticks\":\"\"}},\"type\":\"scatter3d\"}],\"scattercarpet\":[{\"marker\":{\"colorbar\":{\"outlinewidth\":0,\"ticks\":\"\"}},\"type\":\"scattercarpet\"}],\"scattergeo\":[{\"marker\":{\"colorbar\":{\"outlinewidth\":0,\"ticks\":\"\"}},\"type\":\"scattergeo\"}],\"scattergl\":[{\"marker\":{\"colorbar\":{\"outlinewidth\":0,\"ticks\":\"\"}},\"type\":\"scattergl\"}],\"scattermapbox\":[{\"marker\":{\"colorbar\":{\"outlinewidth\":0,\"ticks\":\"\"}},\"type\":\"scattermapbox\"}],\"scatterpolar\":[{\"marker\":{\"colorbar\":{\"outlinewidth\":0,\"ticks\":\"\"}},\"type\":\"scatterpolar\"}],\"scatterpolargl\":[{\"marker\":{\"colorbar\":{\"outlinewidth\":0,\"ticks\":\"\"}},\"type\":\"scatterpolargl\"}],\"scatterternary\":[{\"marker\":{\"colorbar\":{\"outlinewidth\":0,\"ticks\":\"\"}},\"type\":\"scatterternary\"}],\"surface\":[{\"colorbar\":{\"outlinewidth\":0,\"ticks\":\"\"},\"colorscale\":[[0.0,\"#0d0887\"],[0.1111111111111111,\"#46039f\"],[0.2222222222222222,\"#7201a8\"],[0.3333333333333333,\"#9c179e\"],[0.4444444444444444,\"#bd3786\"],[0.5555555555555556,\"#d8576b\"],[0.6666666666666666,\"#ed7953\"],[0.7777777777777778,\"#fb9f3a\"],[0.8888888888888888,\"#fdca26\"],[1.0,\"#f0f921\"]],\"type\":\"surface\"}],\"table\":[{\"cells\":{\"fill\":{\"color\":\"#EBF0F8\"},\"line\":{\"color\":\"white\"}},\"header\":{\"fill\":{\"color\":\"#C8D4E3\"},\"line\":{\"color\":\"white\"}},\"type\":\"table\"}]},\"layout\":{\"annotationdefaults\":{\"arrowcolor\":\"#2a3f5f\",\"arrowhead\":0,\"arrowwidth\":1},\"autotypenumbers\":\"strict\",\"coloraxis\":{\"colorbar\":{\"outlinewidth\":0,\"ticks\":\"\"}},\"colorscale\":{\"diverging\":[[0,\"#8e0152\"],[0.1,\"#c51b7d\"],[0.2,\"#de77ae\"],[0.3,\"#f1b6da\"],[0.4,\"#fde0ef\"],[0.5,\"#f7f7f7\"],[0.6,\"#e6f5d0\"],[0.7,\"#b8e186\"],[0.8,\"#7fbc41\"],[0.9,\"#4d9221\"],[1,\"#276419\"]],\"sequential\":[[0.0,\"#0d0887\"],[0.1111111111111111,\"#46039f\"],[0.2222222222222222,\"#7201a8\"],[0.3333333333333333,\"#9c179e\"],[0.4444444444444444,\"#bd3786\"],[0.5555555555555556,\"#d8576b\"],[0.6666666666666666,\"#ed7953\"],[0.7777777777777778,\"#fb9f3a\"],[0.8888888888888888,\"#fdca26\"],[1.0,\"#f0f921\"]],\"sequentialminus\":[[0.0,\"#0d0887\"],[0.1111111111111111,\"#46039f\"],[0.2222222222222222,\"#7201a8\"],[0.3333333333333333,\"#9c179e\"],[0.4444444444444444,\"#bd3786\"],[0.5555555555555556,\"#d8576b\"],[0.6666666666666666,\"#ed7953\"],[0.7777777777777778,\"#fb9f3a\"],[0.8888888888888888,\"#fdca26\"],[1.0,\"#f0f921\"]]},\"colorway\":[\"#636efa\",\"#EF553B\",\"#00cc96\",\"#ab63fa\",\"#FFA15A\",\"#19d3f3\",\"#FF6692\",\"#B6E880\",\"#FF97FF\",\"#FECB52\"],\"font\":{\"color\":\"#2a3f5f\"},\"geo\":{\"bgcolor\":\"white\",\"lakecolor\":\"white\",\"landcolor\":\"#E5ECF6\",\"showlakes\":true,\"showland\":true,\"subunitcolor\":\"white\"},\"hoverlabel\":{\"align\":\"left\"},\"hovermode\":\"closest\",\"mapbox\":{\"style\":\"light\"},\"paper_bgcolor\":\"white\",\"plot_bgcolor\":\"#E5ECF6\",\"polar\":{\"angularaxis\":{\"gridcolor\":\"white\",\"linecolor\":\"white\",\"ticks\":\"\"},\"bgcolor\":\"#E5ECF6\",\"radialaxis\":{\"gridcolor\":\"white\",\"linecolor\":\"white\",\"ticks\":\"\"}},\"scene\":{\"xaxis\":{\"backgroundcolor\":\"#E5ECF6\",\"gridcolor\":\"white\",\"gridwidth\":2,\"linecolor\":\"white\",\"showbackground\":true,\"ticks\":\"\",\"zerolinecolor\":\"white\"},\"yaxis\":{\"backgroundcolor\":\"#E5ECF6\",\"gridcolor\":\"white\",\"gridwidth\":2,\"linecolor\":\"white\",\"showbackground\":true,\"ticks\":\"\",\"zerolinecolor\":\"white\"},\"zaxis\":{\"backgroundcolor\":\"#E5ECF6\",\"gridcolor\":\"white\",\"gridwidth\":2,\"linecolor\":\"white\",\"showbackground\":true,\"ticks\":\"\",\"zerolinecolor\":\"white\"}},\"shapedefaults\":{\"line\":{\"color\":\"#2a3f5f\"}},\"ternary\":{\"aaxis\":{\"gridcolor\":\"white\",\"linecolor\":\"white\",\"ticks\":\"\"},\"baxis\":{\"gridcolor\":\"white\",\"linecolor\":\"white\",\"ticks\":\"\"},\"bgcolor\":\"#E5ECF6\",\"caxis\":{\"gridcolor\":\"white\",\"linecolor\":\"white\",\"ticks\":\"\"}},\"title\":{\"x\":0.05},\"xaxis\":{\"automargin\":true,\"gridcolor\":\"white\",\"linecolor\":\"white\",\"ticks\":\"\",\"title\":{\"standoff\":15},\"zerolinecolor\":\"white\",\"zerolinewidth\":2},\"yaxis\":{\"automargin\":true,\"gridcolor\":\"white\",\"linecolor\":\"white\",\"ticks\":\"\",\"title\":{\"standoff\":15},\"zerolinecolor\":\"white\",\"zerolinewidth\":2}}},\"xaxis\":{\"anchor\":\"y\",\"domain\":[0.0,1.0],\"title\":{\"text\":\"repas_cible\"}},\"yaxis\":{\"anchor\":\"x\",\"domain\":[0.0,1.0],\"title\":{\"text\":\"charge fixe\"}},\"legend\":{\"title\":{\"text\":\"pays, marque\"},\"tracegroupgap\":0,\"itemsizing\":\"constant\"},\"margin\":{\"t\":60},\"shapes\":[{\"line\":{\"color\":\"green\",\"dash\":\"dash\",\"width\":3},\"type\":\"line\",\"x0\":35000,\"x1\":35000,\"xref\":\"x\",\"y0\":0,\"y1\":1,\"yref\":\"y domain\"},{\"fillcolor\":\"red\",\"line\":{\"dash\":\"dash\",\"width\":3},\"opacity\":0.2,\"type\":\"rect\",\"x0\":0,\"x1\":1,\"xref\":\"x domain\",\"y0\":1000000,\"y1\":6000000,\"yref\":\"y\"}]},                        {\"responsive\": true}                    ).then(function(){\n",
       "                            \n",
       "var gd = document.getElementById('42ff32a4-b51c-4866-8906-0c418799c475');\n",
       "var x = new MutationObserver(function (mutations, observer) {{\n",
       "        var display = window.getComputedStyle(gd).display;\n",
       "        if (!display || display === 'none') {{\n",
       "            console.log([gd, 'removed!']);\n",
       "            Plotly.purge(gd);\n",
       "            observer.disconnect();\n",
       "        }}\n",
       "}});\n",
       "\n",
       "// Listen for the removal of the full notebook cells\n",
       "var notebookContainer = gd.closest('#notebook-container');\n",
       "if (notebookContainer) {{\n",
       "    x.observe(notebookContainer, {childList: true});\n",
       "}}\n",
       "\n",
       "// Listen for the clearing of the current output cell\n",
       "var outputEl = gd.closest('.output');\n",
       "if (outputEl) {{\n",
       "    x.observe(outputEl, {childList: true});\n",
       "}}\n",
       "\n",
       "                        })                };                });            </script>        </div>"
      ]
     },
     "metadata": {},
     "output_type": "display_data"
    }
   ],
   "source": [
    "# Je trace un graphique pour illustrer la zone de profit\n",
    "fig = px.scatter(df_rest_cible, x=\"repas_cible\", y=\"charge fixe\", symbol=\"marque\", color=\"pays\", size = 'repas_cible', trendline=\"ols\", trendline_scope =\"overall\", hover_data =[\"pays\"])\n",
    "fig.add_vline(x=35000, line_width=3, line_dash=\"dash\", line_color=\"green\")\n",
    "fig.add_hrect(y0=1000000, y1=6000000, line_width=3, line_dash=\"dash\", fillcolor=\"red\", opacity=0.2)\n",
    "fig.show()"
   ]
  }
 ],
 "metadata": {
  "kernelspec": {
   "display_name": "Python 3 (ipykernel)",
   "language": "python",
   "name": "python3"
  },
  "language_info": {
   "codemirror_mode": {
    "name": "ipython",
    "version": 3
   },
   "file_extension": ".py",
   "mimetype": "text/x-python",
   "name": "python",
   "nbconvert_exporter": "python",
   "pygments_lexer": "ipython3",
   "version": "3.9.12"
  }
 },
 "nbformat": 4,
 "nbformat_minor": 5
}
